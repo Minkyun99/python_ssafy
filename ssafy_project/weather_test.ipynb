{
 "cells": [
  {
   "cell_type": "markdown",
   "id": "d118ae7c",
   "metadata": {},
   "source": [
    "## 날씨 데이터를 가져와 출력하기"
   ]
  },
  {
   "cell_type": "code",
   "execution_count": 26,
   "id": "3f06a895",
   "metadata": {},
   "outputs": [
    {
     "data": {
      "text/plain": [
       "{'coord': {'lon': 129.0403, 'lat': 35.1028},\n",
       " 'weather': [{'id': 800,\n",
       "   'main': 'Clear',\n",
       "   'description': 'clear sky',\n",
       "   'icon': '01n'}],\n",
       " 'base': 'stations',\n",
       " 'main': {'temp': 300.43,\n",
       "  'feels_like': 302.2,\n",
       "  'temp_min': 300.43,\n",
       "  'temp_max': 300.43,\n",
       "  'pressure': 1006,\n",
       "  'humidity': 67,\n",
       "  'sea_level': 1006,\n",
       "  'grnd_level': 1002},\n",
       " 'visibility': 10000,\n",
       " 'wind': {'speed': 3.34, 'deg': 59, 'gust': 4.35},\n",
       " 'clouds': {'all': 0},\n",
       " 'dt': 1753625133,\n",
       " 'sys': {'country': 'KR', 'sunrise': 1753561736, 'sunset': 1753612291},\n",
       " 'timezone': 32400,\n",
       " 'id': 1838524,\n",
       " 'name': 'Busan',\n",
       " 'cod': 200}"
      ]
     },
     "metadata": {},
     "output_type": "display_data"
    },
    {
     "data": {
      "text/plain": [
       "{'cod': 401,\n",
       " 'message': 'Please note that using One Call 3.0 requires a separate subscription to the One Call by Call plan. Learn more here https://openweathermap.org/price. If you have a valid subscription to the One Call by Call plan, but still receive this error, then please see https://openweathermap.org/faq#error401 for more info.'}"
      ]
     },
     "metadata": {},
     "output_type": "display_data"
    }
   ],
   "source": [
    "import requests\n",
    "from IPython.display import display, JSON\n",
    "\n",
    "api_key = '9727f0029314cc40d127194cd136df24'\n",
    "city = 'Busan, KR'\n",
    "data_lon = '129.0403'\n",
    "data_lat = '35.1028'\n",
    "date = '2025-07-27'\n",
    "\n",
    "weather_url = f\"https://api.openweathermap.org/data/2.5/weather?q={city}&date={date}&APPID={api_key}\"\n",
    "weather_summary_url = f\"https://api.openweathermap.org/data/3.0/onecall/day_summary?lat={data_lat}&lon={data_lon}&date={date}&appid={api_key}\"\n",
    "weather_data = requests.get(weather_url).json()\n",
    "summary_data = requests.get(weather_summary_url).json()\n",
    "\n",
    "\n",
    "display(weather_data)\n",
    "display(summary_data)"
   ]
  },
  {
   "cell_type": "code",
   "execution_count": 33,
   "id": "d8f662ed",
   "metadata": {},
   "outputs": [
    {
     "name": "stdout",
     "output_type": "stream",
     "text": [
      "오늘 부산의 날씨는 clear sky 입니다.\n",
      "오늘 부산의 습도는 67이므로 다소 불쾌할 수 있습니다.\n"
     ]
    }
   ],
   "source": [
    "data_description = weather_data['weather'][0]['description']\n",
    "data_humidity = weather_data['main']['humidity']\n",
    "\n",
    "\n",
    "\n",
    "print(f'오늘 부산의 날씨는 {data_description} 입니다.')\n",
    "\n",
    "if data_humidity > 50:\n",
    "    print(f'오늘 부산의 습도는 {data_humidity}이므로 다소 불쾌할 수 있습니다.')\n",
    "else:\n",
    "    print(f'오늘 부산의 습도는 {data_humidity} 입니다.')\n"
   ]
  }
 ],
 "metadata": {
  "kernelspec": {
   "display_name": "3.11.0b4",
   "language": "python",
   "name": "python3"
  },
  "language_info": {
   "codemirror_mode": {
    "name": "ipython",
    "version": 3
   },
   "file_extension": ".py",
   "mimetype": "text/x-python",
   "name": "python",
   "nbconvert_exporter": "python",
   "pygments_lexer": "ipython3",
   "version": "3.11.0b4"
  }
 },
 "nbformat": 4,
 "nbformat_minor": 5
}
