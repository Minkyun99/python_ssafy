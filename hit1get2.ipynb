{
 "cells": [
  {
   "cell_type": "code",
   "execution_count": 1,
   "id": "c9448f34",
   "metadata": {},
   "outputs": [
    {
     "name": "stdout",
     "output_type": "stream",
     "text": [
      "1.4142135623730951 45.0\n"
     ]
    }
   ],
   "source": [
    "import math\n",
    "start = (1,1)\n",
    "end = (2,2)\n",
    "\n",
    "a = abs(end[0] - start[0])\n",
    "b = abs(end[1] - start[1])\n",
    "\n",
    "r = math.sqrt(a**2 + b**2) # sqrt 는 루트\n",
    "\n",
    "radian = math.atan(b/a)\n",
    "\n",
    "print(r, math.degrees(radian))"
   ]
  }
 ],
 "metadata": {
  "kernelspec": {
   "display_name": "Python 3",
   "language": "python",
   "name": "python3"
  },
  "language_info": {
   "codemirror_mode": {
    "name": "ipython",
    "version": 3
   },
   "file_extension": ".py",
   "mimetype": "text/x-python",
   "name": "python",
   "nbconvert_exporter": "python",
   "pygments_lexer": "ipython3",
   "version": "3.11.9"
  }
 },
 "nbformat": 4,
 "nbformat_minor": 5
}
