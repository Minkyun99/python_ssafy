{
 "cells": [
  {
   "cell_type": "markdown",
   "id": "b25a732e",
   "metadata": {},
   "source": [
    "## ⭐ 클래스 상속\n",
    "한 클래스(부모)의 속성과 메서드를 다른 클래스(자식)가 물려받는 것\n",
    "\n",
    "상속이 필요한 이유:\n",
    "```\n",
    "1. 코드 재사용\n",
    "```\n",
    " - 상속을 통해 기존 클래스의 속성과 메서드를 재사용할 수 있음\n",
    " - 기존 클래스를 수정하지 않고도 기능을 확장할 수 있음\n",
    " ```\n",
    " 2. 계층 구조\n",
    " ```\n",
    " - 상속을 통해 클래스들 간의 계층 구조를 형성할 수 있음\n",
    " - 부모 클래스와 자식 클래스 간의 관계를 더 표현하고, 더 구체적인 클래스를 만들 수 있음\n",
    "\n",
    "```\n",
    "3. 유지 보수의 용이성\n",
    "```\n",
    " - 상속을 통해 기존 클래스의 수정이 필요한 경우, 해당 클래스만 수정하면 되므로 유지 보수가 용이해짐\n",
    " - 코드의 일관성을 유지하고, 수정이 필요한 범위를 최소화할 수 있음\n",
    " ```\n"
   ]
  },
  {
   "cell_type": "markdown",
   "id": "11e54d1e",
   "metadata": {},
   "source": [
    "### ⭕ 예시\n",
    "```\n",
    "1. RPG 게임\n",
    "```\n",
    " - 캐릭터는 동일하나, 직업이 다름\n",
    " - 캐릭터는 부모 클래스로 정의하고, 자식 클래스에서 직업을 골라 속성을 지정할 수 있음"
   ]
  },
  {
   "cell_type": "code",
   "execution_count": null,
   "id": "61b1f7a6",
   "metadata": {},
   "outputs": [
    {
     "name": "stdout",
     "output_type": "stream",
     "text": [
      "멍멍\n",
      "먹는 중\n"
     ]
    }
   ],
   "source": [
    "class Animal: # 부모 클래스 생성\n",
    "    def eat(self):\n",
    "        print('먹는 중') # 부모 메서드의 동작 내용\n",
    "    \n",
    "class Dog(Animal): # 부모 클래스를 물려받음\n",
    "    def bark(self):\n",
    "        print('멍멍') # 자식 메서드의 동작 내용\n",
    "\n",
    "my_dog = Dog() # 자식 클래스로 인스턴스 할당\n",
    "\n",
    "my_dog.bark() # 자식 클래스의 메서드 호출\n",
    "my_dog.eat() # 부모 클래스의 메서드도 호출 가능"
   ]
  },
  {
   "cell_type": "code",
   "execution_count": 13,
   "id": "704e76c3",
   "metadata": {},
   "outputs": [
    {
     "name": "stdout",
     "output_type": "stream",
     "text": [
      "저는 지금 대학교에서 1교시에 정치외교학과 수업을 하고 있습니다.\n",
      "안녕하세요. 저는 지금 싸피스쿨에서 20학번이고, 컴퓨터공학과를 전공하고 있습니다.\n"
     ]
    }
   ],
   "source": [
    "class Person:\n",
    "    def __init__(self, name, age, department):\n",
    "        self.name = name\n",
    "        self.age = age\n",
    "        self.department = department\n",
    "\n",
    "    def hello(self):\n",
    "        print(f'안녕하세요. 저는 {self.name}입니다.')\n",
    "\n",
    "class Student(Person):\n",
    "    def __init__(self, name, age, department, number, school_name):\n",
    "        super().__init__(name, age, department)\n",
    "        self.number = number\n",
    "        self.school_name = school_name\n",
    "\n",
    "    def university(self):\n",
    "        print(f'안녕하세요. 저는 지금 {self.school_name}에서 {self.number}이고, {self.department}를 전공하고 있습니다.')\n",
    "\n",
    "class Professor(Person):\n",
    "    def __init__(self, name, age, department, time):\n",
    "        super().__init__(name, age, department)\n",
    "        self.time = time\n",
    "\n",
    "    def university(self):\n",
    "        print(f'저는 지금 대학교에서 {self.time}에 {self.department} 수업을 하고 있습니다.')\n",
    "    \n",
    "        \n",
    "\n",
    "professor_1 = Professor('홍길동', 60, '정치외교학과', '1교시')\n",
    "professor_1.university()\n",
    "\n",
    "student_1 = Student('고길동', 23, '컴퓨터공학과', '20학번', '싸피스쿨')\n",
    "student_1.university()\n"
   ]
  },
  {
   "cell_type": "markdown",
   "id": "36dfb826",
   "metadata": {},
   "source": [
    "## ⭐ 메서드 오버라이딩\n",
    "\n",
    "참고 : 파이썬은 오버로딩을 지원하지 않음  \n",
    "〰️〰️〰️〰️〰️〰️〰️〰️〰️〰️〰️〰️〰️\n",
    "\n",
    "```\n",
    "❗주의사항❗\n",
    "```\n",
    "1. 가장 중요한 원칙 : 파라미터 구조를 동일하게 유지하라\n",
    "\n",
    "주의사항 읽어보기 : https://lab.ssafy.com/s14/python/python/-/blob/master/%EC%8B%AC%ED%99%94%ED%95%99%EC%8A%B5/%EB%A9%94%EC%84%9C%EB%93%9C_%EC%98%A4%EB%B2%84%EB%9D%BC%EC%9D%B4%EB%94%A9_%EC%A3%BC%EC%9D%98%EC%82%AC%ED%95%AD.md?ref_type=heads"
   ]
  },
  {
   "cell_type": "markdown",
   "id": "27d761bf",
   "metadata": {},
   "source": [
    "## ⭐ 다중 상속\n",
    " - 둘 이상의 상위 클래스로부터 여러 행동이나 특징을 상속 받을 수 있다.\n",
    " - 상속 받은 모든 클래스의 요소를 활용 가능함\n",
    " - 중복된 속성이나 메서드가 있는 경우 ❗상속 순서에 의해 결정 됨❗  \n",
    "   -> 먼저 상속받은 클래스를 먼저 수행함"
   ]
  },
  {
   "cell_type": "code",
   "execution_count": 11,
   "id": "fb6eab30",
   "metadata": {},
   "outputs": [
    {
     "name": "stdout",
     "output_type": "stream",
     "text": [
      "아가은 인사를 해요.\n",
      "아기는 수영을 잘해\n",
      "아기는 아장아장 걸어요\n",
      "XY\n"
     ]
    }
   ],
   "source": [
    "# 가장 상위 클래스\n",
    "class Person:\n",
    "    def __init__(self, name):\n",
    "        self.name = name\n",
    "\n",
    "        print(f'{self.name}은 인사를 해요.')\n",
    "\n",
    "# Person을 물려받은 자식 클래스\n",
    "class Mom(Person):\n",
    "    gene = 'XX'\n",
    "\n",
    "    def swim(self):\n",
    "        return '엄마는 엄마'\n",
    "\n",
    "# Person을 물려받은 자식 클래스\n",
    "class Dad(Person):\n",
    "    gene = 'XY'\n",
    "\n",
    "    def work(self):\n",
    "        return '아빠는 아빠'\n",
    "\n",
    "# Person, Dad, Mom을 물려받은 자식 클래스\n",
    "class FirstChild(Dad, Mom): # Dad 클래스 먼저 상속, 이후 Mom 클래스를 상속 받음\n",
    "    def swim(self): # swim은 이미 가지고 있는 메서드이므로 해당 메서드를 먼저 수행함\n",
    "        return '아기는 수영을 잘해'\n",
    "    \n",
    "    def walk(self): # walk는 이미 가지고 있는 메서드이므로 해당 메서드를 먼저 수행함\n",
    "        return '아기는 아장아장 걸어요'\n",
    "\n",
    "\n",
    "baby1 = FirstChild('아가')\n",
    "\n",
    "print(baby1.swim())\n",
    "print(baby1.walk())\n",
    "print(baby1.gene) # 해당 변수는 FirstChild에 선언되지 않았으므로 먼저 상속 받은 Dad 클래스의 변수를 먼저 찾음\n",
    "\n"
   ]
  },
  {
   "cell_type": "markdown",
   "id": "e093a903",
   "metadata": {},
   "source": [
    "## ⭐ super()\n",
    "메서드 해석 순서(MRO)에 따라, 현재 클래스의 부모(상위) 클래스의 메서드나 속성에 접근할 수 있게 해주는 내장 함수\n",
    "\n",
    "```\n",
    "특징\n",
    "```\n",
    " - 단순히 '부모 클래스의 메서드를 호출'하기 위한 용도 뿐만 아니라, 다중 상속이 있을 때도 올바른 순서에 따라 상위 클래스의 메서드를 찾아 실행하기 위해 super()를 사용\n",
    "\n",
    "```\n",
    "다이아몬드 문제\n",
    "```\n",
    "1. 다중 상속으로 인해 상속이 얽히는 문제가 발생하므로 해당 문제를 해결하기 위해 super() 내장 함수를 사용함\n",
    "\n"
   ]
  },
  {
   "cell_type": "code",
   "execution_count": 14,
   "id": "88ee79e7",
   "metadata": {},
   "outputs": [
    {
     "name": "stdout",
     "output_type": "stream",
     "text": [
      "저는 지금 대학교에서 1교시에 정치외교학과 수업을 하고 있습니다.\n",
      "안녕하세요. 저는 지금 싸피스쿨에서 20학번이고, 컴퓨터공학과를 전공하고 있습니다.\n"
     ]
    }
   ],
   "source": [
    "# 부모클래스의 클래스 이름이 바뀌거나 상속 구조가 변경되어도 super() 호출 부분을 그대로 사용할 수 있어 유지보수성이 향상\n",
    "\n",
    "class Person:\n",
    "    def __init__(self, name, age, department):\n",
    "        self.name = name\n",
    "        self.age = age\n",
    "        self.department = department\n",
    "\n",
    "    def hello(self):\n",
    "        print(f'안녕하세요. 저는 {self.name}입니다.')\n",
    "\n",
    "class Student(Person):\n",
    "    def __init__(self, name, age, department, number, school_name):\n",
    "        super().__init__(name, age, department) # 부모 클래스의 메서드를 호출함\n",
    "        self.number = number\n",
    "        self.school_name = school_name\n",
    "\n",
    "    def university(self):\n",
    "        print(f'안녕하세요. 저는 지금 {self.school_name}에서 {self.number}이고, {self.department}를 전공하고 있습니다.')\n",
    "\n",
    "class Professor(Person):\n",
    "    def __init__(self, name, age, department, time):\n",
    "        super().__init__(name, age, department)\n",
    "        self.time = time\n",
    "\n",
    "    def university(self):\n",
    "        print(f'저는 지금 대학교에서 {self.time}에 {self.department} 수업을 하고 있습니다.')\n",
    "    \n",
    "        \n",
    "\n",
    "professor_1 = Professor('홍길동', 60, '정치외교학과', '1교시')\n",
    "professor_1.university()\n",
    "\n",
    "student_1 = Student('고길동', 23, '컴퓨터공학과', '20학번', '싸피스쿨')\n",
    "student_1.university()\n"
   ]
  },
  {
   "cell_type": "code",
   "execution_count": null,
   "id": "7162d5bf",
   "metadata": {},
   "outputs": [
    {
     "name": "stdout",
     "output_type": "stream",
     "text": [
      "Value from ParentB: ParentB\n",
      "Value from Child: Child\n",
      "Child\n",
      "ParentA\n"
     ]
    }
   ],
   "source": [
    "class ParentA:\n",
    "    def __init__(self):\n",
    "        super().__init__() \n",
    "        # ParentA의 부모 클래스는 따로 없음, \n",
    "        # 하지만 Child 클래스에서 ParentB를 다음 상속자로 지정하였기 때문에 \n",
    "        # ParentA에 super가 있으면 ParentB를 호출하게 됨\n",
    "        self.value_a = 'ParentA'\n",
    "    \n",
    "    # def show_value(self):\n",
    "    #     print(f'Value from ParentA: {self.value_a}')\n",
    "\n",
    "class ParentB:\n",
    "    def __init__(self):\n",
    "        self.value_b = 'ParentB'\n",
    "    def show_value(self):\n",
    "        print(f'Value from ParentB: {self.value_b}')\n",
    "\n",
    "class Child(ParentA, ParentB):\n",
    "    def __init__(self):\n",
    "        super().__init__()\n",
    "        self.value_c = 'Child'\n",
    "\n",
    "    def show_value(self):\n",
    "        super().show_value() # 부모 클래스의 show_value() 먼저 수행\n",
    "        print(f'Value from Child: {self.value_c}') # 자기자신 수행\n",
    "\n",
    "child = Child()\n",
    "child.show_value()\n",
    "\n",
    "print(child.value_c)\n",
    "print(child.value_a)"
   ]
  },
  {
   "cell_type": "code",
   "execution_count": 38,
   "id": "fc8217cc",
   "metadata": {},
   "outputs": [
    {
     "name": "stdout",
     "output_type": "stream",
     "text": [
      "안녕하세요. 저는 홍길동입니다.\n",
      "안녕\n",
      "None\n"
     ]
    }
   ],
   "source": [
    "class A:\n",
    "    def __init__(self, name):\n",
    "        self.name = name\n",
    "        print(f'안녕하세요. 저는 {self.name}입니다.')\n",
    "        \n",
    "class B(A):\n",
    "    def __init__(self, name):\n",
    "        super().__init__(name)\n",
    "        self.insa = '안녕'\n",
    "    def hello1(self):\n",
    "        print('안녕')\n",
    "\n",
    "class C():\n",
    "    def __init__(self):\n",
    "        self.insa = '안녕하세요'\n",
    "    def hello2(self):\n",
    "        print('안녕하세요.')\n",
    "\n",
    "class D(B,C):\n",
    "    def __init__(self, name):\n",
    "        super().__init__(name)\n",
    "\n",
    "person = D('홍길동')\n",
    "\n",
    "print(person.hello1())\n"
   ]
  },
  {
   "cell_type": "markdown",
   "id": "22132222",
   "metadata": {},
   "source": [
    "## ❌에러\n",
    "\n",
    "```\n",
    "버그\n",
    "```\n",
    "소프트웨어에서 발생하는 오류 또는 결함\n",
    "프로그램의 예상된 동작과 실제 동작 사이의 불일치\n",
    "\n",
    "```\n",
    "디버깅\n",
    "```\n",
    "소프트웨어에서 발생하는 버그를 찾아내고 수정하는 과정\n",
    "프로그램의 오작동 원인을 식별하여 수정하는 작업\n",
    "\n",
    "```\n",
    "에러\n",
    "```\n",
    "프로그램 실행 중에 발생하는 예외 상황\n",
    "\n",
    "```\n",
    "문법에러 - 예외\n",
    "```\n",
    "문법에러 : 프로그램의 구문이 올바르지 않은 경우 발생\n",
    "에러 : 프로그램 실행 중에 감지되는 에러\n",
    "\n",
    "```\n",
    "문법 에러 예시\n",
    "```\n",
    "1. Invalid syntax (문법 오류)\n",
    "2. assign to literal (잘못된 할당)\n",
    "3. Unterminated string literal (문자열이나 문장을 제대로 닫지 않은 상태)\n",
    "\n",
    "```\n",
    "예외\n",
    "```\n",
    "1. ZeroDivisionError\n",
    "2. NameError\n",
    "3. TypeError : 타입 불일치, 인자 누락, 인자 초과, 인자 타입 불일치\n",
    "4. ValueError\n",
    "5. IndexError\n",
    "6. KeyError\n",
    "7. ModuleNotFoundError\n",
    "8. ImportError\n",
    "9. KeyboardInterrupt\n",
    "10. IndentationError\n",
    "\n",
    "```\n",
    "예외처리\n",
    "```\n",
    "예외가 발생했을 때 ㅡㅍ로그램이 비정상적으로 종료되지 않고, 적잘하게 처리할 수 있도록 하는 방법\n"
   ]
  },
  {
   "cell_type": "code",
   "execution_count": null,
   "id": "9d193155",
   "metadata": {},
   "outputs": [],
   "source": [
    "# 예외처리\n",
    "\n",
    "try: #예외가 발생할 수 있는 코드 작성\n",
    "\n",
    "except: # 예외가 발생했을 때 실행할 코드 작성\n",
    "\n",
    "else: # 예외가 발생하지 않았을 때 실행할 코드 작성\n",
    "\n",
    "finally: # 예외 발생 여부와 상관없이 항상 실행할 코드 작성\n",
    "\n"
   ]
  },
  {
   "cell_type": "code",
   "execution_count": 43,
   "id": "7058b8fd",
   "metadata": {},
   "outputs": [
    {
     "name": "stdout",
     "output_type": "stream",
     "text": [
      "유효한 숫자가 아닙니다.\n",
      "프로그램이 종료되었습니다.\n"
     ]
    }
   ],
   "source": [
    "try:\n",
    "    x = int(input('숫자를 입력하세요.'))\n",
    "    y = 10/x\n",
    "except ZeroDivisionError:\n",
    "    print('0으로 나눌 수 없습니다.')\n",
    "except ValueError:\n",
    "    print('유효한 숫자가 아닙니다.')\n",
    "else:\n",
    "    print(f'결과: {y}')\n",
    "finally:\n",
    "    print('프로그램이 종료되었습니다.')"
   ]
  },
  {
   "cell_type": "code",
   "execution_count": 44,
   "id": "11a1f563",
   "metadata": {},
   "outputs": [
    {
     "name": "stdout",
     "output_type": "stream",
     "text": [
      "숫자를 입력하세요.\n"
     ]
    }
   ],
   "source": [
    "try:\n",
    "    num = int(input('숫자를 입력하세요.'))\n",
    "except ValueError:\n",
    "    print('숫자를 입력하세요.')"
   ]
  },
  {
   "cell_type": "markdown",
   "id": "26eda572",
   "metadata": {},
   "source": [
    "### 주의사항\n",
    "\n",
    "except Exeption:  # 해당 코드를 가장 위에 올리면, 모든 except 상황을 포함하기 때문에 아래 오류를 잡아내지 못함  \n",
    "    print('숫자를 넣어주세요.')  \n",
    "except ZeroDivisionError:  \n",
    "    print('0으로 나눌 수 없습니다.')  "
   ]
  }
 ],
 "metadata": {
  "kernelspec": {
   "display_name": "Python 3",
   "language": "python",
   "name": "python3"
  },
  "language_info": {
   "codemirror_mode": {
    "name": "ipython",
    "version": 3
   },
   "file_extension": ".py",
   "mimetype": "text/x-python",
   "name": "python",
   "nbconvert_exporter": "python",
   "pygments_lexer": "ipython3",
   "version": "3.11.9"
  }
 },
 "nbformat": 4,
 "nbformat_minor": 5
}
