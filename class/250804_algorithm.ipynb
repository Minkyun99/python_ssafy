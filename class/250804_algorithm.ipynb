{
 "cells": [
  {
   "cell_type": "markdown",
   "id": "622c9523",
   "metadata": {},
   "source": [
    "## ⭐ 알고리즘\n",
    "\n",
    "자료구조와 알고리즘\n",
    "\n",
    "1. APS 기본학습\n",
    "  - 기초 자료 구조 이해 중심\n",
    "    - 입출력을 제외한 내장함수를 사용하지 않음\n",
    "    - 기본적인 내장함수의 동작 원리를 이해함\n",
    "\n",
    "2. AI 활용 방법\n",
    "  - 교과서가 아닌 학습에 도움을 받는 용도로 사용함\n",
    "  - 문제 전체를 넘기고 코드를 요구해서는 안됨\n",
    "  - 대화를 통해 문제점을 찾도록 작은 단위로 질문함"
   ]
  },
  {
   "cell_type": "markdown",
   "id": "e167d74b",
   "metadata": {},
   "source": [
    "##### ⭐ 알고리즘이란?\n",
    "문제를 해결하기 위한 절차나 방법임\n",
    "\n",
    "- 주로 컴퓨터 용어로 쓰이며, 컴퓨터가 어떤 일을 수행하기 위한 단계적 방법을 말합니다."
   ]
  },
  {
   "cell_type": "markdown",
   "id": "fb466480",
   "metadata": {},
   "source": [
    "##### ✨알고리즘의 성능\n",
    "\n",
    "1. 정확성 : 얼마나 정확하게 동작하는가 -> 지금은 일단 정확하게 진행하기\n",
    "2. 작업량 : 얼마나 적은 연산으로 원하는 결과를 얻어내는가\n",
    "3. 메모리 사용량 : 얼마나 적은 메모리를 사용하는가\n",
    "4. 단순성 : 얼마나 단순한가\n",
    "5. 최적성 : 더이상 개선할 여재 없이 최적화 되었는가\n",
    "\n"
   ]
  },
  {
   "cell_type": "markdown",
   "id": "48247d71",
   "metadata": {},
   "source": [
    "##### ✔️알고리즘의 시간 복잡도\n",
    "알고리즘의 작업량을 표현할 때 시간 복잡도로 표현함\n",
    "- 시간 복잡도 (Time Complexity)  \n",
    "    -- 실제 걸리는 시간을 측정  \n",
    "    -- 실행되는 명령문의 개수를 계산  "
   ]
  },
  {
   "cell_type": "code",
   "execution_count": 5,
   "id": "3c71f642",
   "metadata": {},
   "outputs": [
    {
     "name": "stdout",
     "output_type": "stream",
     "text": [
      "5050\n",
      "5050\n"
     ]
    }
   ],
   "source": [
    "total = 0\n",
    "\n",
    "for i in range(101):\n",
    "    total += i\n",
    "\n",
    "print(total)\n",
    "\n",
    "\n",
    "result = 100*(1+100)/2\n",
    "print(int(result))"
   ]
  },
  {
   "cell_type": "markdown",
   "id": "fb4070c1",
   "metadata": {},
   "source": [
    "##### ✔️ 빅-오 표기법 적용 예\n",
    "시간 복잡도 함수 중에서 가장 큰영향력을 주는 n에 대한 항만을 표시\n",
    "- 계수는 생략하여 표시\n",
    "\n",
    "##### ✏️ 예시 문제\n",
    "n개의 데이터를 입력 받아 저장한 후 각 데이터에 1씩 증가시킨 후 각 데이터를 화면에 출력하는 알고리즘 시간 복잡도는? -> 빅-오 표기법 ( O(n) )"
   ]
  },
  {
   "cell_type": "markdown",
   "id": "d74d25fc",
   "metadata": {},
   "source": [
    "## ⭐ 배열 (Array)\n",
    "일정한 자료형의 변수들을 하나의 이름으로 열거하여 사용하는 자료구조\n",
    "\n",
    "- append와 pop 메서드는 배열의 길이를 직접 조정하므로 시간이 많이 소요됨\n",
    "- 배열을 만들 때는 배열의 크기를 지정해주는 것이 좋음\n"
   ]
  },
  {
   "cell_type": "code",
   "execution_count": null,
   "id": "b982914c",
   "metadata": {},
   "outputs": [],
   "source": [
    "# 배열을 만드는 방법\n",
    "\n",
    "arr = list()\n",
    "arr = []\n",
    "arr = [0] * 10 # 크기가 정해진 배열을 만드는 방법\n",
    "arr = [1, 2, 3]\n"
   ]
  },
  {
   "cell_type": "markdown",
   "id": "c1a20836",
   "metadata": {},
   "source": [
    "##### ❗ for문과 while문을 잘 이용하여 논리적인 구조를 만들어야 함\n",
    "##### ❗ if문의 조건을 잘 점검해야 함"
   ]
  },
  {
   "cell_type": "code",
   "execution_count": 64,
   "id": "5d5d92b9",
   "metadata": {},
   "outputs": [
    {
     "name": "stdout",
     "output_type": "stream",
     "text": [
      "[1, 2, 3, 4, 5, 6, 7, 8, 9]\n"
     ]
    }
   ],
   "source": [
    "# input으로 값을 받아 배열을 만드는 방법\n",
    "arr = list(map(int, input().split()))\n",
    "print(arr)"
   ]
  },
  {
   "cell_type": "code",
   "execution_count": 41,
   "id": "6e04493e",
   "metadata": {},
   "outputs": [
    {
     "name": "stdout",
     "output_type": "stream",
     "text": [
      "55\n",
      "55\n"
     ]
    }
   ],
   "source": [
    "# 배열 원소의 합을 계산하는 코드\n",
    "\n",
    "# 1번 코드 : 인덱스를 이용하여 배열의 값에 접근하여 계산하는 방법\n",
    "s = 0\n",
    "N = len(arr)\n",
    "for i in range(N):\n",
    "    s += arr[i]\n",
    "print(s)\n",
    "\n",
    "# 2번 코드 : 배열의 값에 접근하여 계산하는 방법\n",
    "t = 0\n",
    "for i in arr:\n",
    "    t += i\n",
    "print(t)"
   ]
  },
  {
   "cell_type": "code",
   "execution_count": null,
   "id": "f2cae500",
   "metadata": {},
   "outputs": [
    {
     "name": "stdout",
     "output_type": "stream",
     "text": [
      "9\n",
      "9\n",
      "9\n"
     ]
    }
   ],
   "source": [
    "# 배열 원소 중 최댓값 max 찾기\n",
    "N = len(arr)\n",
    "\n",
    "# 배열의 값으로 접근하여 계산하는 방법\n",
    "max_value = arr[0] # 첫 원소를 최대로 가정!\n",
    "for i in range(1, N): # 첫번째 값은 max_value로 정했으므로, 배열의 2번째 값부터 크기 비교함\n",
    "    if max_value < arr[i]: # arr[i] 인덱스로 접근하여 값 비교\n",
    "        max_value = arr[i]\n",
    "print(max_value)\n",
    "\n",
    "# 배열의 인덱스로 접근하여 계산하는 방법\n",
    "max_idx = 0\n",
    "for j in range(1, N):\n",
    "    if arr[max_idx] < arr[j]: # 인덱스로 접근하여 인덱스 0번부터 배열 전체의 숫자 크기 비교\n",
    "        max_idx = j # 만약, 더 큰 숫자를 만나면 인덱스의 번호를 변경함\n",
    "print(arr[max_idx])\n",
    "\n",
    "# 최대값이 여러 개인 경우?\n",
    "max_idx = 0\n",
    "for j in range(1, N):\n",
    "    if arr[max_idx] <= arr[j]: # 등호를 넣어서 처리하기\n",
    "        max_idx = j\n",
    "print(arr[max_idx])"
   ]
  },
  {
   "cell_type": "code",
   "execution_count": null,
   "id": "27efbc0a",
   "metadata": {},
   "outputs": [],
   "source": [
    "# 찾는 값이 배열에 있으면 해당 원소의 인덱스, 없으면 -1을 idx에 넣기\n",
    "\n"
   ]
  },
  {
   "cell_type": "markdown",
   "id": "d93704b7",
   "metadata": {},
   "source": [
    "## ⭐ 정렬(sort)\n",
    "2개 의상의 자료를 키에 의해 작은 값부터 큰 값 혹은 그 반대의 순서대로 재배열하는 알고리즘\n",
    "\n",
    "- 오름차순 : ascending\n",
    "- 내림차순 : descending\n",
    "\n",
    "1. 버블정렬 : 인접한 두 개의 원소를 비교하며 자리를 계속 교환하는 방식 (시간 복잡도 : O(n)^2)   \n",
    " -> 거의 사용하지 않음\n",
    "2. 카운터정렬 : "
   ]
  },
  {
   "cell_type": "code",
   "execution_count": null,
   "id": "5b1187f1",
   "metadata": {},
   "outputs": [
    {
     "name": "stdout",
     "output_type": "stream",
     "text": [
      "[7, 12, 42, 55, 78]\n",
      "[7, 12, 42, 55, 78]\n"
     ]
    }
   ],
   "source": [
    "# 버블정렬\n",
    "\n",
    "bubble_list = [55, 7, 78, 12, 42]\n",
    "N = int(len(bubble_list))\n",
    "\n",
    "for i in range(N-1, 0, -1): # 범위의 끝 위치, 가장 끝 위치에서 -1씩 감소하며 for문을 돌림\n",
    "    for j in range(i): # 비교할 왼쪽 원소 인덱스 j\n",
    "        if bubble_list[j] < bubble_list[j+1]:\n",
    "            bubble_list[j]\n",
    "        elif bubble_list[j] > bubble_list[j+1]:\n",
    "            temp = bubble_list[j+1] # 임시 저장소 temp를 만들어 저장함\n",
    "            bubble_list[j+1] = bubble_list[j] # 인덱스 자리에 해당 값을 집어넣은 후\n",
    "            bubble_list[j] = temp # 임시 값으로 저장한 값을 넣음\n",
    "print(bubble_list)\n",
    "\n",
    "for i in range(N-1, 0, -1):\n",
    "    for j in range(i):\n",
    "        if bubble_list[j] < bubble_list[j+1]:\n",
    "            bubble_list[j]\n",
    "        elif bubble_list[j] > bubble_list[j+1]:\n",
    "            bubble_list[j], bubble_list[j+1] = bubble_list[j+1], bubble_list[j] # ❗ 파이썬은 값을 맞바꾸는 것이 가능함\n",
    "print(bubble_list)\n",
    "        \n",
    "\n"
   ]
  }
 ],
 "metadata": {
  "kernelspec": {
   "display_name": "Python 3",
   "language": "python",
   "name": "python3"
  },
  "language_info": {
   "codemirror_mode": {
    "name": "ipython",
    "version": 3
   },
   "file_extension": ".py",
   "mimetype": "text/x-python",
   "name": "python",
   "nbconvert_exporter": "python",
   "pygments_lexer": "ipython3",
   "version": "3.11.9"
  }
 },
 "nbformat": 4,
 "nbformat_minor": 5
}
