{
 "cells": [
  {
   "cell_type": "markdown",
   "id": "f6942b4f",
   "metadata": {},
   "source": [
    "## ⭐절차지향 프로그래밍\n",
    "함수와 로직 중심 작성 데이터를 순차적으로 처리\n",
    "\n",
    "```\n",
    "변수와 함수를 별개로 다룸\n",
    "입력을 받고 처리하고 결과를 내는 과정이 위에서 아래로 순차적으로 흐르는 형태\n",
    "순차적인 명령어 실행\n",
    "데이터와 함수의 분리\n",
    "함수 호출의 흐름이 중요\n",
    "```\n",
    "\n"
   ]
  },
  {
   "cell_type": "markdown",
   "id": "e9c6fd68",
   "metadata": {},
   "source": [
    "## ⭐객체 지향 프로그래밍\n",
    "클래스는 설계도, 인스턴스는 실제 물건\n",
    "```\n",
    "객체 간의 관계로 코드를 구성함\n",
    "클래스 - 인스턴스\n",
    "```"
   ]
  },
  {
   "cell_type": "markdown",
   "id": "1288ae6f",
   "metadata": {},
   "source": [
    "객체 지향은 기존 절차 지향을 기반으로 두고 보완하기 위해 객체라는 개념을 도입해 상속, 코드 재사용성, 유지보수성 등의 이점을 가지는 패러다임"
   ]
  },
  {
   "cell_type": "code",
   "execution_count": null,
   "id": "d0b91599",
   "metadata": {},
   "outputs": [
    {
     "name": "stdout",
     "output_type": "stream",
     "text": [
      "안녕하세요, Alice입니다. 나이는 25살입니다.\n",
      "안녕하세요. 저는 lab021에 다닌지 None년 되었습니다.\n"
     ]
    }
   ],
   "source": [
    "class Person: # 클래스, 설계도가 됨\n",
    "    def __init__(self, name, age, company, year): # __init__ 생성자 메서드\n",
    "        self.name = name\n",
    "        self.age = age\n",
    "        self.company = company\n",
    "        self.year = year\n",
    "    \n",
    "    def introduce(self): # 함수가 아닌 Person이라는 클래스 내의 메서드임\n",
    "        print(f'안녕하세요, {self.name}입니다. 나이는 {self.age}살입니다.')\n",
    "    \n",
    "    def introduce_company(self):\n",
    "        print(f'안녕하세요. 저는 {self.company}에 다닌지 {self.year}년 되었습니다.')\n",
    "\n",
    "alice = Person(\"Alice\", 25, 'lab021', 1)\n",
    "alice.introduce()\n",
    "alice.introduce_company()"
   ]
  },
  {
   "cell_type": "markdown",
   "id": "f9396a08",
   "metadata": {},
   "source": [
    "##### 💡함수 중심의 프로그램에서는 데이터가 '인자, 파라미터' 등으로 사용되었다면, 객체지향 중심 프로그램은 데이터가 메서드를 불러오는 형식으로 사용되어진다."
   ]
  },
  {
   "cell_type": "markdown",
   "id": "cf659712",
   "metadata": {},
   "source": [
    "## ⭐객체(Object) \n",
    "실제 존재하는 사물을 추상화한 것\n",
    "\"속성\"과 \"동작\"을 가짐\n",
    " - 속성, 메서드, 고유성\n",
    "\n",
    "## ⭐클래스(Class)\n",
    "객체를 만들기 위한 설계도\n",
    "데이터와 기능을 함께 묶는 방법을 제공\n",
    "파이썬에서 타입을 표현하는 방법\n",
    "\n",
    "## ⭐메서드\n",
    "클래스 내부에 정의된 함수로, 해당 객체가 어떻게 동작할지를 정의"
   ]
  },
  {
   "cell_type": "markdown",
   "id": "87e10d6a",
   "metadata": {},
   "source": [
    "### ❓클래스와 인스턴스\n",
    "\n",
    "IU = 가수(나이, 장르) -> IU는 가수 클래스의 인스턴스이다."
   ]
  },
  {
   "cell_type": "code",
   "execution_count": 21,
   "id": "e828b242",
   "metadata": {},
   "outputs": [
    {
     "name": "stdout",
     "output_type": "stream",
     "text": [
      "아이유는 노래를 부를 때 맑게 부릅니다.\n"
     ]
    }
   ],
   "source": [
    "class Singer:\n",
    "    def __init__(self, sound):\n",
    "        self.sound = sound\n",
    "\n",
    "    def sing(self):\n",
    "        print(f'아이유는 노래를 부를 때 {self.sound} 부릅니다.')\n",
    "\n",
    "IU = Singer('맑게') # IU는 가수 클래스의 인스턴스이다.\n",
    "IU.sing()"
   ]
  },
  {
   "cell_type": "markdown",
   "id": "3e0bd228",
   "metadata": {},
   "source": [
    "### ❗클래스 변수와 인스턴스 변수\n",
    " - __init__ 에 생성된 변수는 해당 클래스의 초기 변수로 설정됨\n",
    " - 만약, 인스턴스에 해당 변수가 생성되지 않았으면, 클래스 변수를 참조하게 됨"
   ]
  },
  {
   "cell_type": "code",
   "execution_count": 17,
   "id": "666392d2",
   "metadata": {},
   "outputs": [
    {
     "data": {
      "text/plain": [
       "('kim', 'lee', 'choi')"
      ]
     },
     "execution_count": 17,
     "metadata": {},
     "output_type": "execute_result"
    }
   ],
   "source": [
    "class Car:\n",
    "    C = 'choi'\n",
    "    def __init__(self, a, b): # 파라미터로 2개를 받음\n",
    "        self.A = a\n",
    "        self.B = b\n",
    "\n",
    "    def introduce(self):\n",
    "        return self.A, self.B, self.C # 그러나 출력은 3개를 해야함, 인스턴스에는 C 변수가 없으므로 클래스에 정의된 C 변수를 가지고 옴\n",
    "\n",
    "min = Car('kim', 'lee') # 인자로 2개를 넘김\n",
    "min.introduce()\n"
   ]
  },
  {
   "cell_type": "markdown",
   "id": "972a104e",
   "metadata": {},
   "source": [
    "### ❗인스턴스 메서드 구조\n",
    " - 클래스 내부에 정의되는 메서드의 기본\n",
    " - 반드시 첫 번째 인자로 인스턴스 자신(self)을 받음\n",
    " - 인스턴스의 속성에 접근하거나 변경 가능\n",
    " - 인스턴스 내부에 변수를 선언하려면 무조건 self를 사용하여 선언해야 함"
   ]
  },
  {
   "cell_type": "markdown",
   "id": "c71ebbd7",
   "metadata": {},
   "source": [
    "### ❗생성자 메서드 활용\n",
    " - 생성자 메서드를 사용할 것이 없더라도 빈 __init__ 이라도 놔두기를 권장함\n",
    " - 하지만 무조건 필요한 것은 아님"
   ]
  },
  {
   "cell_type": "code",
   "execution_count": 18,
   "id": "205f2fd4",
   "metadata": {},
   "outputs": [],
   "source": [
    "def __init__(self):\n",
    "        pass"
   ]
  },
  {
   "cell_type": "markdown",
   "id": "1f5f54d9",
   "metadata": {},
   "source": [
    "### ❗클래스 메서드 구조\n",
    " - @classmethod 데코레이터를 사용하여 정의\n",
    " - 호출 시, 첫번째 인자로 해당 메서드를 호출하는 클래스(cls)가 전달됨\n",
    "   -> ⭐cls는 본인 내부에 있는 인스턴스를 불러옴, 따라서 무조건 작성해야 함\n",
    " - 클래스를 인자로 받아 클래스 속성을 변경하거나 읽는 데 사용"
   ]
  },
  {
   "cell_type": "code",
   "execution_count": null,
   "id": "fe7473c5",
   "metadata": {},
   "outputs": [
    {
     "name": "stdout",
     "output_type": "stream",
     "text": [
      "2\n"
     ]
    }
   ],
   "source": [
    "class Person:\n",
    "    population = 0 # (1) 클래스 변수 'population'을 0으로 초기화합니다.\n",
    "\n",
    "    def __init__(self, name):\n",
    "        self.name = name\n",
    "        Person.increase_population() # (2) Person 객체가 생성될 때마다 이 클래스 메서드를 호출합니다.\n",
    "    \n",
    "    @classmethod\n",
    "    def increase_population(cls):\n",
    "        cls.population += 1 # (3) 클래스 변수인 'population'의 값을 1 증가시킵니다.\n",
    "\n",
    "person1 = Person(\"alice\") # (4) 첫 번째 Person 객체를 생성합니다.\n",
    "person2 = Person(\"blice\") # (5) 두 번째 Person 객체를 생성하며, 'person1' 변수는 이 새 객체를 가리킵니다.\n",
    "print(Person.population)  # (6) 최종적으로 클래스 변수 'population'의 값을 출력합니다."
   ]
  },
  {
   "cell_type": "code",
   "execution_count": 32,
   "id": "0417fcc3",
   "metadata": {},
   "outputs": [
    {
     "name": "stdout",
     "output_type": "stream",
     "text": [
      "2\n"
     ]
    }
   ],
   "source": [
    "class Person:\n",
    "    population = 0\n",
    "\n",
    "    def __init__(self, name):\n",
    "        self.name = name\n",
    "        Person.increase_population()\n",
    "\n",
    "    @classmethod\n",
    "    def increase_population(cls):\n",
    "        cls.population +=1\n",
    "\n",
    "person1 = Person(\"alice\")\n",
    "person2 = Person(\"blice\")\n",
    "print(Person.population)"
   ]
  },
  {
   "cell_type": "markdown",
   "id": "59f411d0",
   "metadata": {},
   "source": [
    "### static 메서드\n",
    " - 클래스, 인스턴스와 상관없이 독립적으로 동작하는 메서드\n",
    " - 클래스 및 인스턴스와 관련이 없는 일반적인 기능을 수행\n",
    "\n"
   ]
  },
  {
   "cell_type": "code",
   "execution_count": 37,
   "id": "c922c2af",
   "metadata": {},
   "outputs": [
    {
     "name": "stdout",
     "output_type": "stream",
     "text": [
      "minkyung 고객님께서 이용하고 계신 계좌는 Kbank입니다.\n",
      "20000 입금하셔서 현재 잔액은 1020000 입니다.\n",
      "1020000에서 0 출금하셨습니다.\n"
     ]
    }
   ],
   "source": [
    "class Bank:\n",
    "    interest = 0.5\n",
    "    def __init__(self, name, product, deposit, withdrawal,balance, card):\n",
    "        self.name = name\n",
    "        self.product = product\n",
    "        self.deposit = deposit\n",
    "        self.withdrawal = withdrawal\n",
    "        self.balance = balance\n",
    "        self.card = card\n",
    "\n",
    "    def client_introduce(self):\n",
    "        print(f'{self.name} 고객님께서 이용하고 계신 계좌는 {self.product}입니다.')\n",
    "\n",
    "    def client_deposit(self):\n",
    "        self.balance += self.deposit\n",
    "        print(f'{self.deposit} 입금하셔서 현재 잔액은 {self.balance} 입니다.')\n",
    "\n",
    "    def client_withdrawal(self):\n",
    "        self.balance -= self.withdrawal\n",
    "        print(f'{self.balance}에서 {self.withdrawal} 출금하셨습니다.')\n",
    "\n",
    "\n",
    "Minkyung = Bank(\"minkyung\", \"Kbank\", 20000, 0, 1000000, ['tosim', 'minions'])\n",
    "Minkyung.client_introduce()\n",
    "Minkyung.client_deposit()\n",
    "Minkyung.client_withdrawal()\n"
   ]
  }
 ],
 "metadata": {
  "kernelspec": {
   "display_name": "Python 3",
   "language": "python",
   "name": "python3"
  },
  "language_info": {
   "codemirror_mode": {
    "name": "ipython",
    "version": 3
   },
   "file_extension": ".py",
   "mimetype": "text/x-python",
   "name": "python",
   "nbconvert_exporter": "python",
   "pygments_lexer": "ipython3",
   "version": "3.11.9"
  }
 },
 "nbformat": 4,
 "nbformat_minor": 5
}
