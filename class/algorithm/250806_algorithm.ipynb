{
 "cells": [
  {
   "cell_type": "markdown",
   "id": "2ea9f550",
   "metadata": {},
   "source": [
    "## ⭐ 알고리즘3"
   ]
  },
  {
   "cell_type": "markdown",
   "id": "edd57497",
   "metadata": {},
   "source": [
    "## ✔️ 2차원 배열\n",
    "1. 1차원 List를 묶어놓은 List  \n",
    "2. 2차원 이상의 다차원 List는 차원에 따라 Index를 선언  \n",
    "3. 2차원 List의 선언 : 세로길이(행의 개수), 가로길이(열의 개수)를 필요로 함  \n",
    "4. python에서는 데이터 초기화를 통해 변수선언과 초기화가 가능함  \n"
   ]
  },
  {
   "cell_type": "code",
   "execution_count": null,
   "id": "61b7285a",
   "metadata": {},
   "outputs": [
    {
     "name": "stdout",
     "output_type": "stream",
     "text": [
      "[[0, 0, 0, 0], [0, 0, 0, 0], [0, 0, 0, 0]]\n"
     ]
    }
   ],
   "source": [
    "# 이차원 배열 선언 방법\n",
    "\n",
    "arr = [[0]*4 for _ in range(3)]\n",
    "print(arr)"
   ]
  },
  {
   "cell_type": "code",
   "execution_count": null,
   "id": "fa02227f",
   "metadata": {},
   "outputs": [
    {
     "name": "stdout",
     "output_type": "stream",
     "text": [
      "45\n"
     ]
    },
    {
     "data": {
      "text/plain": [
       "[[5, 5, 5], [5, 5, 5], [5, 5, 5]]"
      ]
     },
     "metadata": {},
     "output_type": "display_data"
    }
   ],
   "source": [
    "# 2차원 배열 크기 설정 후 선언하기\n",
    "s = 0\n",
    "n, m = 3, 3\n",
    "array = [[5]*n for _ in range(m)]\n",
    "\n",
    "for i in range(n):\n",
    "    for j in range(m):\n",
    "        s+=array[i][j]\n",
    "print(s)\n",
    "display(array)"
   ]
  },
  {
   "cell_type": "code",
   "execution_count": null,
   "id": "3a85e251",
   "metadata": {},
   "outputs": [
    {
     "name": "stdout",
     "output_type": "stream",
     "text": [
      "5\n",
      "10\n",
      "15\n"
     ]
    }
   ],
   "source": [
    "t = 0\n",
    "for i in range(n):\n",
    "    t += array[i][0]\n",
    "\n",
    "    for j in range(m):\n",
    "        s += array[j][0]\n",
    "\n"
   ]
  },
  {
   "cell_type": "markdown",
   "id": "84b0f72b",
   "metadata": {},
   "source": [
    "##### ✔️ 행 우선 순회 / 열 우선 순회"
   ]
  },
  {
   "cell_type": "code",
   "execution_count": null,
   "id": "a823f912",
   "metadata": {},
   "outputs": [
    {
     "name": "stdout",
     "output_type": "stream",
     "text": [
      "0\n",
      "0\n",
      "0\n",
      "0\n",
      "0\n",
      "0\n",
      "0\n",
      "0\n",
      "0\n"
     ]
    }
   ],
   "source": [
    "# 행 우선 순회\n",
    "\n",
    "\n",
    "\n",
    "# 열 우선 순회\n",
    "\n",
    "array = [[0]*4 for _ in range(3)]\n",
    "\n",
    "for j in range(len(m)):\n",
    "    for i in range(len(n)):\n",
    "        print(array[i][j])"
   ]
  },
  {
   "cell_type": "markdown",
   "id": "407fb857",
   "metadata": {},
   "source": [
    "##### ✔️ 지그재그순회\n",
    "\n",
    "![zigzag.png](../algorithm/img/zigzag.png)"
   ]
  },
  {
   "cell_type": "markdown",
   "id": "0edd9770",
   "metadata": {},
   "source": [
    "## ⭐ 델타 배열\n",
    "델타를 활용한 2차원 배열 탐색  \n",
    "- 2차 배열의 한 좌표에서 4방향의 인접 배열 요소를 탐색하는 방법  \n",
    "- 인덱스 (i, j)인 칸의 상하좌우 칸 (ni, nj)  \n",
    "\n",
    "![delta.png](./img/delta.png)  \n",
    "\n",
    "1. 기준 값에서 상하좌우로 +1 -1을 하여 값을 부여함  \n",
    "2. 방향은 문제에서 주어진대로 풀기 "
   ]
  },
  {
   "cell_type": "code",
   "execution_count": null,
   "id": "09d092d8",
   "metadata": {},
   "outputs": [
    {
     "name": "stdout",
     "output_type": "stream",
     "text": [
      "12\n"
     ]
    }
   ],
   "source": [
    "# + 방향으로 움직이기\n",
    "\n",
    "N = 3\n",
    "s = []\n",
    "k = 2\n",
    "\n",
    "arr = [[1, 2, 3, 4, 5, 6, 7]*4 for _ in range(N)]\n",
    "\n",
    "max_v = 0\n",
    "# 기준점이 결정 됨\n",
    "for i in range(N):\n",
    "    for j in range(N):\n",
    "        # 기준점을 s에 담음\n",
    "        s= arr[i][j]\n",
    "        # 방향을 정해주는 for 문\n",
    "        for di, dj in [[0,1], [1,0],[0,-1],[-1,0]]:\n",
    "            # 해당 방향으로 몇 칸을 움직일 것인지 정하는 for 문\n",
    "            for c in range(1, k+1):\n",
    "                ni, nj = i+di*c, j+dj*c\n",
    "                # 움직인 방향에서 N보다 벗어났는지 벗어나지 않았는지 확인함\n",
    "                if 0<=ni<N and 0<=nj<N:\n",
    "                    s += arr[ni][nj]\n",
    "            if max_v < s:\n",
    "                max_v =s\n",
    "\n",
    "print(max_v)"
   ]
  },
  {
   "cell_type": "code",
   "execution_count": null,
   "id": "57902504",
   "metadata": {},
   "outputs": [],
   "source": [
    "# X 방향으로 움직이기\n",
    "\n"
   ]
  },
  {
   "cell_type": "markdown",
   "id": "51522ee4",
   "metadata": {},
   "source": [
    "# 전치행렬\n",
    "![delta.png](./img/전치행렬.png)   \n",
    "\n",
    "[0,0], [1,1], [2,2] 와 같이 i=j 값을 제외하고 나머지 값들만 바꾸면, 전치할 수 있음"
   ]
  },
  {
   "cell_type": "code",
   "execution_count": null,
   "id": "2b55a69a",
   "metadata": {},
   "outputs": [
    {
     "name": "stdout",
     "output_type": "stream",
     "text": [
      "[[1, 4, 7], [2, 5, 8], [3, 6, 9]]\n"
     ]
    }
   ],
   "source": [
    "# 전치 행렬 \n",
    "arr = [[1,2,3], [4, 5, 6], [7, 8, 9]]\n",
    "\n",
    "for i in range(3):\n",
    "    for j in range(3):\n",
    "        if i<j:\n",
    "            arr[i][j], arr[j][i] = arr[j][i], arr[i][j]\n",
    "\n",
    "print(arr)"
   ]
  },
  {
   "cell_type": "code",
   "execution_count": null,
   "id": "375c6bfc",
   "metadata": {},
   "outputs": [
    {
     "name": "stdout",
     "output_type": "stream",
     "text": [
      "1\n",
      "5\n",
      "9\n",
      "7\n",
      "5\n",
      "3\n"
     ]
    }
   ],
   "source": [
    "# i, j 크기에 따라 접근하는 원소 비교\n",
    "\n",
    "# 대각선방향으로 움직이는 방법\n",
    "for i in range(N):\n",
    "    print(arr[i][i])\n",
    "\n",
    "# 행은 고정시키고 열만 움직이는 방법\n",
    "for i in range(N):\n",
    "    print(arr[i][N-1-i])"
   ]
  },
  {
   "cell_type": "markdown",
   "id": "a66931e7",
   "metadata": {},
   "source": [
    "## ⭐ 오프라인 강사님 수업"
   ]
  },
  {
   "cell_type": "code",
   "execution_count": 47,
   "id": "e29b8709",
   "metadata": {},
   "outputs": [
    {
     "name": "stdout",
     "output_type": "stream",
     "text": [
      "[[1, 2, 3, 4, 5], [6, 7, 8, 9, 10], [11, 12, 13, 14, 15], [16, 17, 18, 19, 20], [21, 22, 23, 24, 25]]\n",
      "[[1, 8, 15, 22, 29, 36, 43], [2, 9, 16, 23, 30, 37, 44], [3, 10, 17, 24, 31, 38, 45], [4, 11, 18, 25, 32, 39, 46], [5, 12, 19, 26, 33, 40, 47], [6, 13, 20, 27, 34, 41, 48], [7, 14, 21, 28, 35, 42, 49]]\n"
     ]
    }
   ],
   "source": [
    "N = 5\n",
    "M = 7\n",
    "# 0 으로 채워진 NxN 배열을 생성하기\n",
    "arr1 = [[0]*N for _ in range(N)] # 배열 세팅 완료\n",
    "arr2 = [[0]*M for _ in range(M)] # 배열 세팅 완료\n",
    "\n",
    "# 행 우선 순회\n",
    "cnt = 1\n",
    "\n",
    "for r in range(N):\n",
    "    for c in range(N):\n",
    "        # 바깥의 for 문에 쓴 인덱스 값을 우선으로 작성하면, 해당 값이 우선적으로 들어가게 됨\n",
    "        arr1[r][c] = cnt\n",
    "        cnt += 1\n",
    "print(arr1)\n",
    "\n",
    "# 열 우선 순회\n",
    "znt = 1\n",
    "\n",
    "for x in range(M):\n",
    "    for b in range(M):\n",
    "        arr2[b][x] = znt\n",
    "        znt += 1\n",
    "print(arr2)"
   ]
  },
  {
   "cell_type": "code",
   "execution_count": 55,
   "id": "53db1785",
   "metadata": {},
   "outputs": [
    {
     "name": "stdout",
     "output_type": "stream",
     "text": [
      "[[1, 2, 3, 4, 5], [10, 9, 8, 7, 6], [11, 12, 13, 14, 15], [20, 19, 18, 17, 16], [21, 22, 23, 24, 25]]\n"
     ]
    }
   ],
   "source": [
    "# 지그재그 순회\n",
    "a = 5\n",
    "cnt = 1\n",
    "arr3 = [[0]*a for _ in range(a)]\n",
    "\n",
    "for p in range(a):\n",
    "        for c in range(a):\n",
    "            if p % 2 == 0 :\n",
    "                arr3[p][c] = cnt\n",
    "                cnt += 1\n",
    "            else:\n",
    "                arr3[p][(a-1)-c] = cnt\n",
    "                cnt += 1\n",
    "\n",
    "print(arr3)"
   ]
  },
  {
   "cell_type": "code",
   "execution_count": null,
   "id": "9a79b752",
   "metadata": {},
   "outputs": [
    {
     "name": "stdout",
     "output_type": "stream",
     "text": [
      "1 0 0 0 0\n",
      "0 1 0 0 0\n",
      "0 0 1 0 0\n",
      "0 0 0 1 0\n",
      "0 0 0 0 1\n",
      "0 0 0 0 1\n",
      "0 0 0 1 0\n",
      "0 0 1 0 0\n",
      "0 1 0 0 0\n",
      "1 0 0 0 0\n",
      "1 0 0 0 0\n",
      "1 1 0 0 0\n",
      "1 1 1 0 0\n",
      "1 1 1 1 0\n",
      "1 1 1 1 1\n",
      "1 0 0 0 0\n",
      "1 1 0 0 0\n",
      "1 1 1 0 0\n",
      "1 1 1 1 0\n",
      "1 1 1 1 1\n"
     ]
    }
   ],
   "source": [
    "# 대각선으로 순회하기\n",
    "\n",
    "N = 5\n",
    "arr5 = [[0]*N for _ in range(N)]\n",
    "arr6 = [[0]*N for _ in range(N)]\n",
    "arr7 = [[0]*N for _ in range(N)]\n",
    "arr8 = [[0]*N for _ in range(N)]\n",
    "arr9 = [[0]*N for _ in range(N)]\n",
    "\n",
    "for r in range(N):\n",
    "    arr5[r][r] = 1\n",
    "\n",
    "for row in arr5:\n",
    "    print(*row)\n",
    "\n",
    "for row in range(N):\n",
    "    arr6[row][(N-1)-row] = 1\n",
    "\n",
    "for row in arr6:\n",
    "    print(*row)\n",
    "\n",
    "\n",
    "# 대각선 아랫부분 혹은 윗부분에 값 넣기\n",
    "for m in range(N):\n",
    "    for n in range(N):\n",
    "        if n <= m:\n",
    "            arr7[m][n] = 1\n",
    "\n",
    "for row in arr7:\n",
    "    print(*row)\n",
    "    \n",
    "\n",
    "for l in range(N):\n",
    "    for s in range(0, l+1):\n",
    "        arr8[l][s] = 1\n",
    "\n",
    "for row in arr8:\n",
    "    print(*row)\n",
    "\n"
   ]
  },
  {
   "cell_type": "code",
   "execution_count": null,
   "id": "4291d43d",
   "metadata": {},
   "outputs": [
    {
     "name": "stdout",
     "output_type": "stream",
     "text": [
      "[[0, 0, 0, 0, 0, 0, 0], [0, 0, 0, 0, 0, 0, 0], [0, 1, 1, 1, 1, 1, 0], [0, 1, 1, 1, 1, 1, 0], [0, 1, 1, 1, 1, 1, 0], [0, 0, 0, 0, 0, 0, 0], [0, 0, 0, 0, 0, 0, 0]]\n"
     ]
    }
   ],
   "source": [
    "N = 7\n",
    "\n",
    "arr9 = [[0]*N for _ in range(N)]\n",
    "\n",
    "# 좌상단/우하단 좌표를 알 때\n",
    "r1, c1 = 2, 1\n",
    "r2, c2 = 4, 5\n",
    "\n",
    "for r in range(r1, r2 +1):\n",
    "    for c in range(c1, c2+1):\n",
    "        arr9[r][c] = 1\n",
    "\n",
    "print(arr9)\n",
    "\n",
    "arr10 = [[0]*N for _ in range(N)]\n",
    "\n",
    "# 좌상단 위치를 알 때\n",
    "r1, c1 = 2, 1\n",
    "h, w = 3, 5"
   ]
  },
  {
   "cell_type": "code",
   "execution_count": 92,
   "id": "0d1bf19b",
   "metadata": {},
   "outputs": [
    {
     "name": "stdout",
     "output_type": "stream",
     "text": [
      "0 0 0 0 0 0 0\n",
      "0 0 0 4 0 0 0\n",
      "0 0 3 * 1 0 0\n",
      "0 0 0 2 0 0 0\n",
      "0 0 0 0 0 0 0\n",
      "0 0 0 0 0 0 0\n",
      "0 0 0 0 0 0 0\n"
     ]
    }
   ],
   "source": [
    "# 델타\n",
    "N = 7\n",
    "arr10 = [[0]*N for _ in range(N)]\n",
    "\n",
    "# 기준점\n",
    "r, c = 2, 3\n",
    "arr10[r][c] = '*'\n",
    "\n",
    "# 기준이 되는 r, c는 고정되어 있고, 상하좌우를 찾아서 값을 넣음\n",
    "# arr10[r][c+1] = 1 # 오른쪽\n",
    "# arr10[r+1][c] = 2 # 아래쪽\n",
    "# arr10[r][c-1] = 3 # 왼쪽\n",
    "# arr10[r-1][c] = 4 # 위쪽\n",
    "\n",
    "# 위 내용을 식으로 작성하면\n",
    "# arr[r + 0][c + 1]\n",
    "# arr[r + 1][c + 0]\n",
    "# arr[r + 0][c + (-1)]\n",
    "# arr[r + (-1)][c + 0]\n",
    "\n",
    "dr = [0, 1, 0, -1]\n",
    "dc = [1, 0, -1, 0]\n",
    "\n",
    "for i in range(4):\n",
    "    nr = r + dr[i]\n",
    "    nc = c + dc[i]\n",
    "    arr10[nr][nc] = i+1\n",
    "\n",
    "\n",
    "for row in arr10:\n",
    "    print(*row)"
   ]
  },
  {
   "cell_type": "code",
   "execution_count": null,
   "id": "ec9b85bf",
   "metadata": {},
   "outputs": [
    {
     "name": "stdout",
     "output_type": "stream",
     "text": [
      "0 0 1 0 0 0 0\n",
      "0 0 1 0 0 0 0\n",
      "0 0 1 0 0 0 0\n",
      "1 1 * 1 1 1 1\n",
      "0 0 1 0 0 0 0\n",
      "0 0 1 0 0 0 0\n",
      "0 0 1 0 0 0 0\n"
     ]
    }
   ],
   "source": [
    "N = 7\n",
    "arr11 = [[0]*N for _ in range(N)]\n",
    "\n",
    "dr = [0, 1, 0, -1]\n",
    "dc = [1, 0, -1, 0]\n",
    "\n",
    "r, c = 3, 2\n",
    "arr11[r][c] = '*'\n",
    "\n",
    "for dir in range(4):\n",
    "    for i in range(1, N): # 마지막으로 갈 수 있는 칸이 N 까지임 \n",
    "        nr = r + dr[dir]*i\n",
    "        nc = c + dc[dir]*i\n",
    "        if 0 <= nr < N and 0 <= nc < N:\n",
    "            arr11[nr][nc] = 1\n",
    "\n",
    "for row in arr11:\n",
    "    print(*row)"
   ]
  },
  {
   "cell_type": "code",
   "execution_count": null,
   "id": "f81dc706",
   "metadata": {},
   "outputs": [
    {
     "name": "stdout",
     "output_type": "stream",
     "text": [
      "0 0 1 0 0 0 0\n",
      "0 0 1 0 0 0 0\n",
      "0 0 1 0 0 0 0\n",
      "1 1 * 1 1 1 1\n",
      "0 0 1 0 0 0 0\n",
      "0 0 1 0 0 0 0\n",
      "0 0 1 0 0 0 0\n"
     ]
    }
   ],
   "source": [
    "N = 7\n",
    "arr11 = [[0]*N for _ in range(N)]\n",
    "\n",
    "dr = [0, 1, 0, -1]\n",
    "dc = [1, 0, -1, 0]\n",
    "\n",
    "r, c = 3, 2\n",
    "arr11[r][c] = '*'\n",
    "\n",
    "for dir in range(4):\n",
    "    for i in range(1, N): # 마지막으로 갈 수 있는 칸이 N 까지임 \n",
    "        nr = r + dr[dir]*i\n",
    "        nc = c + dc[dir]*i\n",
    "        if nr < 0 or nr >= N or nc < 0 or nc >= N: # 다른 조건문을 줄 수도 있음\n",
    "            break\n",
    "        arr11[nr][nc] = 1\n",
    "\n",
    "for row in arr11:\n",
    "    print(*row)"
   ]
  },
  {
   "cell_type": "code",
   "execution_count": null,
   "id": "8b3045a6",
   "metadata": {},
   "outputs": [],
   "source": [
    "# 대각선으로 움직이기\n",
    "N = 7\n",
    "arr12 = [[0]*N for _ in range(N)]\n",
    "\n",
    "dr = [-1, -1, 1, 1]\n",
    "dc = [-1, 1, 1, -1]\n",
    "\n"
   ]
  },
  {
   "cell_type": "markdown",
   "id": "c8920970",
   "metadata": {},
   "source": [
    "## ✍️ 연습문제"
   ]
  },
  {
   "cell_type": "markdown",
   "id": "97e196f4",
   "metadata": {},
   "source": [
    "1번 문제\n",
    "\n",
    "1. 5x5 2차원 배열에 25개의 숫자를 저장하고 대각선 원소의 합을 구하시오.\n",
    "2. 대각선 원소는 다음과 같은 위치의 원소를 나타낸다.\n",
    "3. 입력파일 : 2_List2/연습문제1_in.txt\n",
    "\n",
    "❗ 배열이 홀수인 경우, 중심원소는 두 번 더해지기 때문에, 한 번 빼줘야 함"
   ]
  },
  {
   "cell_type": "markdown",
   "id": "5b67f2c0",
   "metadata": {},
   "source": [
    "##### 풍선팡2\n",
    "\n",
    "1. 종이 꽃가루가 들어있는 풍선이 NxM 크기의 격자판에 붙어있는데, 어떤 풍선을 터뜨리면 상하좌우의 풍선이 추가로 터진다고 한다.  \n",
    "2. 다음의 경우 가운데 풍선을 터뜨리면 상하좌우의 풍선이 추가로 1개씩 터지면서 총 5개의 꽃가루가 날리게 된다. \n",
    "3. NxM개의 풍선에 들어있는 종이 꽃가루 개수A가 주어지면, 한 개의 풍선을 선택해 터뜨렸을 때 날릴 수 있는 꽃가루 수 중 최대값을 출력하는 프로그램을 만드시오. (3<=N, M<=100)   \n",
    "\n",
    "[입력]  \n",
    "\n",
    "1. 첫 줄에 테스트케이스 수 T, 다음 줄부터 테스트케이스 별로 첫 줄에 N과 M, 이후 N줄에 걸쳐 M개씩 풍선에 든 종이 꽃가루 개수가 주어진다.\n",
    "\n",
    "\n",
    "[출력]  \n",
    "\n",
    "2. '#'과 테스트케이스 번호, 빈칸에 이어 종이 꽃가루의 최대 개수를 출력한다."
   ]
  },
  {
   "cell_type": "code",
   "execution_count": 260,
   "id": "8fef7121",
   "metadata": {},
   "outputs": [
    {
     "name": "stdout",
     "output_type": "stream",
     "text": [
      "2\n"
     ]
    }
   ],
   "source": [
    "# T = int(input())\n",
    "\n",
    "# for time in range(1, T+1):\n",
    "#     N, M = map(int, input().split())\n",
    "#     v = []\n",
    "\n",
    "N = 3\n",
    "M = 5\n",
    "v = [[2, 1, 1, 2, 2],[2, 2, 1, 2, 2,],[2, 2, 1, 1, 2]]\n",
    "\n",
    "# for i in range(N):\n",
    "#         input_arr = [int(x) for x in input().split()]\n",
    "#         v.append(input_arr)\n",
    "#         print(v)\n",
    "\n",
    "nr = [0, 0, 1, 0, -1]\n",
    "nc = [0, 1, 0, -1, 0]\n",
    "\n",
    "max_value = 0\n",
    "\n",
    "for row in range(N):\n",
    "    for column in range(M):\n",
    "        for idx in range(5):\n",
    "            space = 0\n",
    "            new_value = 0\n",
    "            if row+nr[idx] < 0 or row+nr[idx] >= N or column+nc[idx] < 0 or column+nc[idx] >= N:\n",
    "                space += 0\n",
    "            else :\n",
    "                space += v[row+nr[idx]][column+nc[idx]]\n",
    "                new_value += space\n",
    "            # print(new_value)\n",
    "        if max_value < new_value:\n",
    "            max_value = new_value\n",
    "            # print(max_value)\n",
    "print(max_value)\n",
    "                        \n",
    "            \n",
    "\n",
    "\n",
    "\n",
    "    "
   ]
  }
 ],
 "metadata": {
  "kernelspec": {
   "display_name": "Python 3",
   "language": "python",
   "name": "python3"
  },
  "language_info": {
   "codemirror_mode": {
    "name": "ipython",
    "version": 3
   },
   "file_extension": ".py",
   "mimetype": "text/x-python",
   "name": "python",
   "nbconvert_exporter": "python",
   "pygments_lexer": "ipython3",
   "version": "3.11.9"
  }
 },
 "nbformat": 4,
 "nbformat_minor": 5
}
