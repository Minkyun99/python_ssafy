{
 "cells": [
  {
   "cell_type": "markdown",
   "id": "2ea9f550",
   "metadata": {},
   "source": [
    "## ⭐ 알고리즘3"
   ]
  },
  {
   "cell_type": "markdown",
   "id": "edd57497",
   "metadata": {},
   "source": [
    "## ✔️ 2차원 배열\n",
    "1. 1차원 List를 묶어놓은 List  \n",
    "2. 2차원 이상의 다차원 List는 차원에 따라 Index를 선언  \n",
    "3. 2차원 List의 선언 : 세로길이(행의 개수), 가로길이(열의 개수)를 필요로 함  \n",
    "4. python에서는 데이터 초기화를 통해 변수선언과 초기화가 가능함  \n"
   ]
  },
  {
   "cell_type": "code",
   "execution_count": null,
   "id": "61b7285a",
   "metadata": {},
   "outputs": [
    {
     "name": "stdout",
     "output_type": "stream",
     "text": [
      "[[0, 0, 0, 0], [0, 0, 0, 0], [0, 0, 0, 0]]\n"
     ]
    }
   ],
   "source": [
    "# 이차원 배열 선언 방법\n",
    "\n",
    "arr = [[0]*4 for _ in range(3)]\n",
    "print(arr)"
   ]
  },
  {
   "cell_type": "code",
   "execution_count": null,
   "id": "fa02227f",
   "metadata": {},
   "outputs": [
    {
     "name": "stdout",
     "output_type": "stream",
     "text": [
      "45\n"
     ]
    },
    {
     "data": {
      "text/plain": [
       "[[5, 5, 5], [5, 5, 5], [5, 5, 5]]"
      ]
     },
     "metadata": {},
     "output_type": "display_data"
    }
   ],
   "source": [
    "# 2차원 배열 크기 설정 후 선언하기\n",
    "s = 0\n",
    "n, m = 3, 3\n",
    "array = [[5]*n for _ in range(m)]\n",
    "\n",
    "for i in range(n):\n",
    "    for j in range(m):\n",
    "        s+=array[i][j]\n",
    "print(s)\n",
    "display(array)"
   ]
  },
  {
   "cell_type": "code",
   "execution_count": null,
   "id": "3a85e251",
   "metadata": {},
   "outputs": [
    {
     "name": "stdout",
     "output_type": "stream",
     "text": [
      "5\n",
      "10\n",
      "15\n"
     ]
    }
   ],
   "source": [
    "t = 0\n",
    "for i in range(n):\n",
    "    t += array[i][0]\n",
    "\n",
    "    for j in range(m):\n",
    "        s += array[j][0]\n",
    "\n"
   ]
  },
  {
   "cell_type": "markdown",
   "id": "84b0f72b",
   "metadata": {},
   "source": [
    "##### ✔️ 행 우선 순회 / 열 우선 순회"
   ]
  },
  {
   "cell_type": "code",
   "execution_count": null,
   "id": "a823f912",
   "metadata": {},
   "outputs": [
    {
     "name": "stdout",
     "output_type": "stream",
     "text": [
      "0\n",
      "0\n",
      "0\n",
      "0\n",
      "0\n",
      "0\n",
      "0\n",
      "0\n",
      "0\n"
     ]
    }
   ],
   "source": [
    "# 행 우선 순회\n",
    "\n",
    "\n",
    "\n",
    "# 열 우선 순회\n",
    "\n",
    "array = [[0]*4 for _ in range(3)]\n",
    "\n",
    "for j in range(len(m)):\n",
    "    for i in range(len(n)):\n",
    "        print(array[i][j])"
   ]
  },
  {
   "cell_type": "markdown",
   "id": "407fb857",
   "metadata": {},
   "source": [
    "##### ✔️ 지그재그순회\n",
    "\n",
    "![zigzag.png](../algorithm/img/zigzag.png)"
   ]
  },
  {
   "cell_type": "markdown",
   "id": "0edd9770",
   "metadata": {},
   "source": [
    "## ⭐ 델타 배열\n",
    "델타를 활용한 2차원 배열 탐색  \n",
    "- 2차 배열의 한 좌표에서 4방향의 인접 배열 요소를 탐색하는 방법  \n",
    "- 인덱스 (i, j)인 칸의 상하좌우 칸 (ni, nj)  \n",
    "\n",
    "![delta.png](./img/delta.png)"
   ]
  },
  {
   "cell_type": "markdown",
   "id": "06b8f1d7",
   "metadata": {},
   "source": []
  },
  {
   "cell_type": "markdown",
   "id": "59635d81",
   "metadata": {},
   "source": []
  }
 ],
 "metadata": {
  "kernelspec": {
   "display_name": "Python 3",
   "language": "python",
   "name": "python3"
  },
  "language_info": {
   "codemirror_mode": {
    "name": "ipython",
    "version": 3
   },
   "file_extension": ".py",
   "mimetype": "text/x-python",
   "name": "python",
   "nbconvert_exporter": "python",
   "pygments_lexer": "ipython3",
   "version": "3.11.9"
  }
 },
 "nbformat": 4,
 "nbformat_minor": 5
}
