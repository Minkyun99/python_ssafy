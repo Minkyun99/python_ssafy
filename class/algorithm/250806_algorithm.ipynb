{
 "cells": [
  {
   "cell_type": "markdown",
   "id": "2ea9f550",
   "metadata": {},
   "source": [
    "## ⭐ 알고리즘3"
   ]
  },
  {
   "cell_type": "markdown",
   "id": "edd57497",
   "metadata": {},
   "source": [
    "## ✔️ 2차원 배열\n",
    "1. 1차원 List를 묶어놓은 List  \n",
    "2. 2차원 이상의 다차원 List는 차원에 따라 Index를 선언  \n",
    "3. 2차원 List의 선언 : 세로길이(행의 개수), 가로길이(열의 개수)를 필요로 함  \n",
    "4. python에서는 데이터 초기화를 통해 변수선언과 초기화가 가능함  \n"
   ]
  },
  {
   "cell_type": "code",
   "execution_count": null,
   "id": "61b7285a",
   "metadata": {},
   "outputs": [
    {
     "name": "stdout",
     "output_type": "stream",
     "text": [
      "[[0, 0, 0, 0], [0, 0, 0, 0], [0, 0, 0, 0]]\n"
     ]
    }
   ],
   "source": [
    "# 이차원 배열 선언 방법\n",
    "\n",
    "arr = [[0]*4 for _ in range(3)]\n",
    "print(arr)"
   ]
  },
  {
   "cell_type": "code",
   "execution_count": null,
   "id": "fa02227f",
   "metadata": {},
   "outputs": [
    {
     "name": "stdout",
     "output_type": "stream",
     "text": [
      "45\n"
     ]
    },
    {
     "data": {
      "text/plain": [
       "[[5, 5, 5], [5, 5, 5], [5, 5, 5]]"
      ]
     },
     "metadata": {},
     "output_type": "display_data"
    }
   ],
   "source": [
    "# 2차원 배열 크기 설정 후 선언하기\n",
    "s = 0\n",
    "n, m = 3, 3\n",
    "array = [[5]*n for _ in range(m)]\n",
    "\n",
    "for i in range(n):\n",
    "    for j in range(m):\n",
    "        s+=array[i][j]\n",
    "print(s)\n",
    "display(array)"
   ]
  },
  {
   "cell_type": "code",
   "execution_count": null,
   "id": "3a85e251",
   "metadata": {},
   "outputs": [
    {
     "name": "stdout",
     "output_type": "stream",
     "text": [
      "5\n",
      "10\n",
      "15\n"
     ]
    }
   ],
   "source": [
    "t = 0\n",
    "for i in range(n):\n",
    "    t += array[i][0]\n",
    "\n",
    "    for j in range(m):\n",
    "        s += array[j][0]\n",
    "\n"
   ]
  },
  {
   "cell_type": "markdown",
   "id": "84b0f72b",
   "metadata": {},
   "source": [
    "##### ✔️ 행 우선 순회 / 열 우선 순회"
   ]
  },
  {
   "cell_type": "code",
   "execution_count": null,
   "id": "a823f912",
   "metadata": {},
   "outputs": [
    {
     "name": "stdout",
     "output_type": "stream",
     "text": [
      "0\n",
      "0\n",
      "0\n",
      "0\n",
      "0\n",
      "0\n",
      "0\n",
      "0\n",
      "0\n"
     ]
    }
   ],
   "source": [
    "# 행 우선 순회\n",
    "\n",
    "\n",
    "\n",
    "# 열 우선 순회\n",
    "\n",
    "array = [[0]*4 for _ in range(3)]\n",
    "\n",
    "for j in range(len(m)):\n",
    "    for i in range(len(n)):\n",
    "        print(array[i][j])"
   ]
  },
  {
   "cell_type": "markdown",
   "id": "407fb857",
   "metadata": {},
   "source": [
    "##### ✔️ 지그재그순회\n",
    "\n",
    "![zigzag.png](../algorithm/img/zigzag.png)"
   ]
  },
  {
   "cell_type": "markdown",
   "id": "0edd9770",
   "metadata": {},
   "source": [
    "## ⭐ 델타 배열\n",
    "델타를 활용한 2차원 배열 탐색  \n",
    "- 2차 배열의 한 좌표에서 4방향의 인접 배열 요소를 탐색하는 방법  \n",
    "- 인덱스 (i, j)인 칸의 상하좌우 칸 (ni, nj)  \n",
    "\n",
    "![delta.png](./img/delta.png)  \n",
    "\n",
    "1. 기준 값에서 상하좌우로 +1 -1을 하여 값을 부여함  \n",
    "2. 방향은 문제에서 주어진대로 풀기 "
   ]
  },
  {
   "cell_type": "code",
   "execution_count": null,
   "id": "09d092d8",
   "metadata": {},
   "outputs": [
    {
     "name": "stdout",
     "output_type": "stream",
     "text": [
      "12\n"
     ]
    }
   ],
   "source": [
    "# + 방향으로 움직이기\n",
    "\n",
    "N = 3\n",
    "s = []\n",
    "k = 2\n",
    "\n",
    "arr = [[1, 2, 3, 4, 5, 6, 7]*4 for _ in range(N)]\n",
    "\n",
    "max_v = 0\n",
    "# 기준점이 결정 됨\n",
    "for i in range(N):\n",
    "    for j in range(N):\n",
    "        # 기준점을 s에 담음\n",
    "        s= arr[i][j]\n",
    "        # 방향을 정해주는 for 문\n",
    "        for di, dj in [[0,1], [1,0],[0,-1],[-1,0]]:\n",
    "            # 해당 방향으로 몇 칸을 움직일 것인지 정하는 for 문\n",
    "            for c in range(1, k+1):\n",
    "                ni, nj = i+di*c, j+dj*c\n",
    "                # 움직인 방향에서 N보다 벗어났는지 벗어나지 않았는지 확인함\n",
    "                if 0<=ni<N and 0<=nj<N:\n",
    "                    s += arr[ni][nj]\n",
    "            if max_v < s:\n",
    "                max_v =s\n",
    "\n",
    "print(max_v)"
   ]
  },
  {
   "cell_type": "code",
   "execution_count": null,
   "id": "57902504",
   "metadata": {},
   "outputs": [],
   "source": [
    "# X 방향으로 움직이기\n",
    "\n"
   ]
  },
  {
   "cell_type": "markdown",
   "id": "51522ee4",
   "metadata": {},
   "source": [
    "# 전치행렬\n",
    "![delta.png](./img/전치행렬.png)   \n",
    "\n",
    "[0,0], [1,1], [2,2] 와 같이 i=j 값을 제외하고 나머지 값들만 바꾸면, 전치할 수 있음"
   ]
  },
  {
   "cell_type": "code",
   "execution_count": null,
   "id": "2b55a69a",
   "metadata": {},
   "outputs": [
    {
     "name": "stdout",
     "output_type": "stream",
     "text": [
      "[[1, 4, 7], [2, 5, 8], [3, 6, 9]]\n"
     ]
    }
   ],
   "source": [
    "# 전치 행렬 \n",
    "arr = [[1,2,3], [4, 5, 6], [7, 8, 9]]\n",
    "\n",
    "for i in range(3):\n",
    "    for j in range(3):\n",
    "        if i<j:\n",
    "            arr[i][j], arr[j][i] = arr[j][i], arr[i][j]\n",
    "\n",
    "print(arr)"
   ]
  },
  {
   "cell_type": "code",
   "execution_count": null,
   "id": "375c6bfc",
   "metadata": {},
   "outputs": [
    {
     "name": "stdout",
     "output_type": "stream",
     "text": [
      "1\n",
      "5\n",
      "9\n",
      "7\n",
      "5\n",
      "3\n"
     ]
    }
   ],
   "source": [
    "# i, j 크기에 따라 접근하는 원소 비교\n",
    "\n",
    "# 대각선방향으로 움직이는 방법\n",
    "for i in range(N):\n",
    "    print(arr[i][i])\n",
    "\n",
    "# 행은 고정시키고 열만 움직이는 방법\n",
    "for i in range(N):\n",
    "    print(arr[i][N-1-i])"
   ]
  },
  {
   "cell_type": "markdown",
   "id": "a66931e7",
   "metadata": {},
   "source": [
    "## ⭐ 오프라인 강사님 수업"
   ]
  },
  {
   "cell_type": "code",
   "execution_count": 47,
   "id": "e29b8709",
   "metadata": {},
   "outputs": [
    {
     "name": "stdout",
     "output_type": "stream",
     "text": [
      "[[1, 2, 3, 4, 5], [6, 7, 8, 9, 10], [11, 12, 13, 14, 15], [16, 17, 18, 19, 20], [21, 22, 23, 24, 25]]\n",
      "[[1, 8, 15, 22, 29, 36, 43], [2, 9, 16, 23, 30, 37, 44], [3, 10, 17, 24, 31, 38, 45], [4, 11, 18, 25, 32, 39, 46], [5, 12, 19, 26, 33, 40, 47], [6, 13, 20, 27, 34, 41, 48], [7, 14, 21, 28, 35, 42, 49]]\n"
     ]
    }
   ],
   "source": [
    "N = 5\n",
    "M = 7\n",
    "# 0 으로 채워진 NxN 배열을 생성하기\n",
    "arr1 = [[0]*N for _ in range(N)] # 배열 세팅 완료\n",
    "arr2 = [[0]*M for _ in range(M)] # 배열 세팅 완료\n",
    "\n",
    "# 행 우선 순회\n",
    "cnt = 1\n",
    "\n",
    "for r in range(N):\n",
    "    for c in range(N):\n",
    "        # 바깥의 for 문에 쓴 인덱스 값을 우선으로 작성하면, 해당 값이 우선적으로 들어가게 됨\n",
    "        arr1[r][c] = cnt\n",
    "        cnt += 1\n",
    "print(arr1)\n",
    "\n",
    "# 열 우선 순회\n",
    "znt = 1\n",
    "\n",
    "for x in range(M):\n",
    "    for b in range(M):\n",
    "        arr2[b][x] = znt\n",
    "        znt += 1\n",
    "print(arr2)"
   ]
  },
  {
   "cell_type": "code",
   "execution_count": 55,
   "id": "53db1785",
   "metadata": {},
   "outputs": [
    {
     "name": "stdout",
     "output_type": "stream",
     "text": [
      "[[1, 2, 3, 4, 5], [10, 9, 8, 7, 6], [11, 12, 13, 14, 15], [20, 19, 18, 17, 16], [21, 22, 23, 24, 25]]\n"
     ]
    }
   ],
   "source": [
    "# 지그재그 순회\n",
    "a = 5\n",
    "cnt = 1\n",
    "arr3 = [[0]*a for _ in range(a)]\n",
    "\n",
    "for p in range(a):\n",
    "        for c in range(a):\n",
    "            if p % 2 == 0 :\n",
    "                arr3[p][c] = cnt\n",
    "                cnt += 1\n",
    "            else:\n",
    "                arr3[p][(a-1)-c] = cnt\n",
    "                cnt += 1\n",
    "\n",
    "print(arr3)"
   ]
  },
  {
   "cell_type": "code",
   "execution_count": null,
   "id": "9a79b752",
   "metadata": {},
   "outputs": [
    {
     "name": "stdout",
     "output_type": "stream",
     "text": [
      "1 0 0 0 0\n",
      "0 1 0 0 0\n",
      "0 0 1 0 0\n",
      "0 0 0 1 0\n",
      "0 0 0 0 1\n",
      "0 0 0 0 1\n",
      "0 0 0 1 0\n",
      "0 0 1 0 0\n",
      "0 1 0 0 0\n",
      "1 0 0 0 0\n",
      "1 0 0 0 0\n",
      "1 1 0 0 0\n",
      "1 1 1 0 0\n",
      "1 1 1 1 0\n",
      "1 1 1 1 1\n",
      "1 0 0 0 0\n",
      "1 1 0 0 0\n",
      "1 1 1 0 0\n",
      "1 1 1 1 0\n",
      "1 1 1 1 1\n"
     ]
    }
   ],
   "source": [
    "# 대각선으로 순회하기\n",
    "\n",
    "N = 5\n",
    "arr5 = [[0]*N for _ in range(N)]\n",
    "arr6 = [[0]*N for _ in range(N)]\n",
    "arr7 = [[0]*N for _ in range(N)]\n",
    "arr8 = [[0]*N for _ in range(N)]\n",
    "arr9 = [[0]*N for _ in range(N)]\n",
    "\n",
    "for r in range(N):\n",
    "    arr5[r][r] = 1\n",
    "\n",
    "for row in arr5:\n",
    "    print(*row)\n",
    "\n",
    "for row in range(N):\n",
    "    arr6[row][(N-1)-row] = 1\n",
    "\n",
    "for row in arr6:\n",
    "    print(*row)\n",
    "\n",
    "\n",
    "# 대각선 아랫부분 혹은 윗부분에 값 넣기\n",
    "for m in range(N):\n",
    "    for n in range(N):\n",
    "        if n <= m:\n",
    "            arr7[m][n] = 1\n",
    "\n",
    "for row in arr7:\n",
    "    print(*row)\n",
    "    \n",
    "\n",
    "for l in range(N):\n",
    "    for s in range(0, l+1):\n",
    "        arr8[l][s] = 1\n",
    "\n",
    "for row in arr8:\n",
    "    print(*row)\n",
    "\n"
   ]
  },
  {
   "cell_type": "code",
   "execution_count": null,
   "id": "4291d43d",
   "metadata": {},
   "outputs": [
    {
     "name": "stdout",
     "output_type": "stream",
     "text": [
      "[[0, 0, 0, 0, 0, 0, 0], [0, 0, 0, 0, 0, 0, 0], [0, 1, 1, 1, 1, 1, 0], [0, 1, 1, 1, 1, 1, 0], [0, 1, 1, 1, 1, 1, 0], [0, 0, 0, 0, 0, 0, 0], [0, 0, 0, 0, 0, 0, 0]]\n"
     ]
    }
   ],
   "source": [
    "N = 7\n",
    "\n",
    "arr9 = [[0]*N for _ in range(N)]\n",
    "\n",
    "# 좌상단/우하단 좌표를 알 때\n",
    "r1, c1 = 2, 1\n",
    "r2, c2 = 4, 5\n",
    "\n",
    "for r in range(r1, r2 +1):\n",
    "    for c in range(c1, c2+1):\n",
    "        arr9[r][c] = 1\n",
    "\n",
    "print(arr9)\n",
    "\n",
    "arr10 = [[0]*N for _ in range(N)]\n",
    "\n",
    "# 좌상단 위치를 알 때\n",
    "r1, c1 = 2, 1\n",
    "h, w = 3, 5"
   ]
  },
  {
   "cell_type": "code",
   "execution_count": 92,
   "id": "0d1bf19b",
   "metadata": {},
   "outputs": [
    {
     "name": "stdout",
     "output_type": "stream",
     "text": [
      "0 0 0 0 0 0 0\n",
      "0 0 0 4 0 0 0\n",
      "0 0 3 * 1 0 0\n",
      "0 0 0 2 0 0 0\n",
      "0 0 0 0 0 0 0\n",
      "0 0 0 0 0 0 0\n",
      "0 0 0 0 0 0 0\n"
     ]
    }
   ],
   "source": [
    "# 델타\n",
    "N = 7\n",
    "arr10 = [[0]*N for _ in range(N)]\n",
    "\n",
    "# 기준점\n",
    "r, c = 2, 3\n",
    "arr10[r][c] = '*'\n",
    "\n",
    "# 기준이 되는 r, c는 고정되어 있고, 상하좌우를 찾아서 값을 넣음\n",
    "# arr10[r][c+1] = 1 # 오른쪽\n",
    "# arr10[r+1][c] = 2 # 아래쪽\n",
    "# arr10[r][c-1] = 3 # 왼쪽\n",
    "# arr10[r-1][c] = 4 # 위쪽\n",
    "\n",
    "# 위 내용을 식으로 작성하면\n",
    "# arr[r + 0][c + 1]\n",
    "# arr[r + 1][c + 0]\n",
    "# arr[r + 0][c + (-1)]\n",
    "# arr[r + (-1)][c + 0]\n",
    "\n",
    "dr = [0, 1, 0, -1]\n",
    "dc = [1, 0, -1, 0]\n",
    "\n",
    "for i in range(4):\n",
    "    nr = r + dr[i]\n",
    "    nc = c + dc[i]\n",
    "    arr10[nr][nc] = i+1\n",
    "\n",
    "\n",
    "for row in arr10:\n",
    "    print(*row)"
   ]
  },
  {
   "cell_type": "code",
   "execution_count": null,
   "id": "ec9b85bf",
   "metadata": {},
   "outputs": [
    {
     "name": "stdout",
     "output_type": "stream",
     "text": [
      "0 0 1 0 0 0 0\n",
      "0 0 1 0 0 0 0\n",
      "0 0 1 0 0 0 0\n",
      "1 1 * 1 1 1 1\n",
      "0 0 1 0 0 0 0\n",
      "0 0 1 0 0 0 0\n",
      "0 0 1 0 0 0 0\n"
     ]
    }
   ],
   "source": [
    "N = 7\n",
    "arr11 = [[0]*N for _ in range(N)]\n",
    "\n",
    "dr = [0, 1, 0, -1]\n",
    "dc = [1, 0, -1, 0]\n",
    "\n",
    "r, c = 3, 2\n",
    "arr11[r][c] = '*'\n",
    "\n",
    "for dir in range(4):\n",
    "    for i in range(1, N): # 마지막으로 갈 수 있는 칸이 N 까지임 \n",
    "        nr = r + dr[dir]*i\n",
    "        nc = c + dc[dir]*i\n",
    "        if 0 <= nr < N and 0 <= nc < N:\n",
    "            arr11[nr][nc] = 1\n",
    "\n",
    "for row in arr11:\n",
    "    print(*row)"
   ]
  },
  {
   "cell_type": "code",
   "execution_count": null,
   "id": "f81dc706",
   "metadata": {},
   "outputs": [
    {
     "name": "stdout",
     "output_type": "stream",
     "text": [
      "0 0 1 0 0 0 0\n",
      "0 0 1 0 0 0 0\n",
      "0 0 1 0 0 0 0\n",
      "1 1 * 1 1 1 1\n",
      "0 0 1 0 0 0 0\n",
      "0 0 1 0 0 0 0\n",
      "0 0 1 0 0 0 0\n"
     ]
    }
   ],
   "source": [
    "N = 7\n",
    "arr11 = [[0]*N for _ in range(N)]\n",
    "\n",
    "dr = [0, 1, 0, -1]\n",
    "dc = [1, 0, -1, 0]\n",
    "\n",
    "r, c = 3, 2\n",
    "arr11[r][c] = '*'\n",
    "\n",
    "for dir in range(4):\n",
    "    for i in range(1, N): # 마지막으로 갈 수 있는 칸이 N 까지임 \n",
    "        nr = r + dr[dir]*i\n",
    "        nc = c + dc[dir]*i\n",
    "        if nr < 0 or nr >= N or nc < 0 or nc >= N: # 다른 조건문을 줄 수도 있음\n",
    "            break\n",
    "        arr11[nr][nc] = 1\n",
    "\n",
    "for row in arr11:\n",
    "    print(*row)"
   ]
  },
  {
   "cell_type": "code",
   "execution_count": null,
   "id": "8b3045a6",
   "metadata": {},
   "outputs": [],
   "source": [
    "# 대각선으로 움직이기\n",
    "N = 7\n",
    "arr12 = [[0]*N for _ in range(N)]\n",
    "\n",
    "dr = [-1, -1, 1, 1]\n",
    "dc = [-1, 1, 1, -1]\n",
    "\n"
   ]
  },
  {
   "cell_type": "markdown",
   "id": "c8920970",
   "metadata": {},
   "source": [
    "## ✍️ 연습문제"
   ]
  },
  {
   "cell_type": "markdown",
   "id": "97e196f4",
   "metadata": {},
   "source": [
    "1번 문제\n",
    "\n",
    "1. 5x5 2차원 배열에 25개의 숫자를 저장하고 대각선 원소의 합을 구하시오.\n",
    "2. 대각선 원소는 다음과 같은 위치의 원소를 나타낸다.\n",
    "3. 입력파일 : 2_List2/연습문제1_in.txt\n",
    "\n",
    "❗ 배열이 홀수인 경우, 중심원소는 두 번 더해지기 때문에, 한 번 빼줘야 함"
   ]
  },
  {
   "cell_type": "markdown",
   "id": "5b67f2c0",
   "metadata": {},
   "source": [
    "##### 풍선팡2\n",
    "\n",
    "1. 종이 꽃가루가 들어있는 풍선이 NxM 크기의 격자판에 붙어있는데, 어떤 풍선을 터뜨리면 상하좌우의 풍선이 추가로 터진다고 한다.  \n",
    "2. 다음의 경우 가운데 풍선을 터뜨리면 상하좌우의 풍선이 추가로 1개씩 터지면서 총 5개의 꽃가루가 날리게 된다. \n",
    "3. NxM개의 풍선에 들어있는 종이 꽃가루 개수A가 주어지면, 한 개의 풍선을 선택해 터뜨렸을 때 날릴 수 있는 꽃가루 수 중 최대값을 출력하는 프로그램을 만드시오. (3<=N, M<=100)   \n",
    "\n",
    "[입력]  \n",
    "\n",
    "1. 첫 줄에 테스트케이스 수 T, 다음 줄부터 테스트케이스 별로 첫 줄에 N과 M, 이후 N줄에 걸쳐 M개씩 풍선에 든 종이 꽃가루 개수가 주어진다.\n",
    "\n",
    "\n",
    "[출력]  \n",
    "\n",
    "2. '#'과 테스트케이스 번호, 빈칸에 이어 종이 꽃가루의 최대 개수를 출력한다."
   ]
  },
  {
   "cell_type": "code",
   "execution_count": null,
   "id": "8fef7121",
   "metadata": {},
   "outputs": [
    {
     "name": "stdout",
     "output_type": "stream",
     "text": [
      "2\n"
     ]
    }
   ],
   "source": [
    "# 문제 풀이 방식1\n",
    "# 초기 값을 nr, nc에 배치하여 계산하는 방법\n",
    "\n",
    "T = int(input())\n",
    " \n",
    "# time 번 실시\n",
    "for time in range(1, T+1):\n",
    "    # N(행)과 M(열)의 크기 받기\n",
    "    N, M = map(int, input().split())\n",
    "    # 3행 5열 2차원 배열 받아서 v 배열에 넣기\n",
    "    v = [list(map(int, input().split())) for _ in range(N)]\n",
    " \n",
    "    # 꽃가루가 날리는 범위 설정하기\n",
    "    # 상하좌우 및 가운데 한 번에 설정하여 range를 5로 설정함\n",
    "    nr = [0, 0, 0, -1, 1]\n",
    "    nc = [0, -1, 1, 0, 0]\n",
    " \n",
    "    # max 값 초기화\n",
    "    max_value = 0\n",
    " \n",
    "    # 코드 시작\n",
    "    # 행과 열 크기 만큼 for문 작성\n",
    "    # 모든 행열을 돌며, 가장 큰 꽃가루 수를 세어야 함\n",
    "    for row in range(N):\n",
    "        for column in range(M):\n",
    "            space = 0\n",
    "            new_value = 0\n",
    "            # 행열을 탐색한 이후 꽃가루 범위 탐색\n",
    "            # range를 5로 두고 상하좌우, 가운데를 탐색함\n",
    "            for idx in range(5):\n",
    "                r = row+nr[idx]\n",
    "                c = column+nc[idx]\n",
    "                # 제외 범위 설정 : 행열의 틀에서 벗어나는 값이 있으면 제외함\n",
    "                if r < 0 or r >= N or c < 0 or c >= M:\n",
    "                    continue\n",
    "                # 5개의 값을 누적함\n",
    "                space += v[r][c]\n",
    "            # 누적된 값을 비교하여 max값을 찾음\n",
    "            if max_value < space:\n",
    "                max_value = space   \n",
    "# 출력\n",
    "    print(f'#{time} {max_value}')"
   ]
  },
  {
   "cell_type": "code",
   "execution_count": null,
   "id": "ec30c4c7",
   "metadata": {},
   "outputs": [],
   "source": [
    "# 문제 풀이 방식2\n",
    "# new_value에 첫 포인트를 지정하고 값을 누적하는 방식\n",
    "\n",
    "T = int(input())\n",
    " \n",
    "# time 번 실시\n",
    "for time in range(1, T+1):\n",
    "    # N(행)과 M(열)의 크기 받기\n",
    "    N, M = map(int, input().split())\n",
    "    # 3행 5열 2차원 배열 받아서 v 배열에 넣기\n",
    "    v = [list(map(int, input().split())) for _ in range(N)]\n",
    " \n",
    "    # 꽃가루가 날리는 범위 설정하기\n",
    "    # 상하좌우 및 가운데 한 번에 설정하여 range를 5로 설정함\n",
    "    nr = [0, 0, -1, 1]\n",
    "    nc = [-1, 1, 0, 0]\n",
    " \n",
    "    # max 값 초기화\n",
    "    max_value = 0\n",
    " \n",
    "    # 코드 시작\n",
    "    # 행과 열 크기 만큼 for문 작성\n",
    "    # 모든 행열을 돌며, 가장 큰 꽃가루 수를 세어야 함\n",
    "    for row in range(N):\n",
    "        for column in range(M):\n",
    "            space = 0\n",
    "            new_value = v[row][column]\n",
    "            # 행열을 탐색한 이후 꽃가루 범위 탐색\n",
    "            # range를 5로 두고 상하좌우, 가운데를 탐색함\n",
    "            for idx in range(5):\n",
    "                r = row+nr[idx]\n",
    "                c = column+nc[idx]\n",
    "                # 제외 범위 설정 : 행열의 틀에서 벗어나는 값이 있으면 제외함\n",
    "                if r < 0 or r >= N or c < 0 or c >= M:\n",
    "                    continue\n",
    "                # 5개의 값을 누적함\n",
    "                new_value += v[r][c]\n",
    "            # 누적된 값을 비교하여 max값을 찾음\n",
    "            if max_value < new_value:\n",
    "                max_value = new_value   \n",
    "# 출력\n",
    "    print(f'#{time} {max_value}')"
   ]
  },
  {
   "cell_type": "markdown",
   "id": "06ae87c8",
   "metadata": {},
   "source": [
    "##### 배열2_색칠하기_확인용\n",
    "\n",
    "1. 그림과 같이 인덱스가 있는 10x10 격자에 빨간색과 파란색을 칠하려고 한다.  \n",
    "2. N개의 영역에 대해 왼쪽 위와 오른쪽 아래 모서리 인덱스, 칠할 색상이 주어질 때, 칠이 끝난 후 색이 겹쳐 보라색이 된 칸 수를 구하는 프로그램을 만드시오.  \n",
    "3. 주어진 정보에서 같은 색인 영역은 겹치지 않는다.  \n",
    "![delta.png](./img/color.png)  \n",
    "4. 예를 들어 2개의 색칠 영역을 갖는 위 그림에 대한 색칠 정보이다.\n",
    "2. 2 2 4 4 1  ( [2,2] 부터 [4,4] 까지 color 1 (빨강) 으로 칠한다 )\n",
    "3. 3 3 6 6 2 ( [3,3] 부터 [6,6] 까지 color 2 (파랑) 으로 칠한다 )\n",
    "\n",
    "[입력]  \n",
    "1. 첫 줄에 테스트 케이스 개수 T가 주어진다.( 1 ≤ T ≤ 50 )  \n",
    "2. 다음 줄부터 테스트케이스의 첫 줄에 칠할 영역의 개수 N이 주어진다.( 2 ≤ N ≤ 30 )  \n",
    "3. 다음 줄에 왼쪽 위 모서리 인덱스 r1, c1, 오른쪽 아래 모서리 r2, c2와 색상 정보 color가 주어진다. ( 0 ≤ r1, c1, r2, c2 ≤ 9 )  \n",
    "4. color = 1 (빨강), color = 2 (파랑)  \n",
    "\n",
    "[출력]  \n",
    " \n",
    "1. 각 줄마다 \"#T\" (T는 테스트 케이스 번호)를 출력한 뒤, 답을 출력한다.  "
   ]
  },
  {
   "cell_type": "code",
   "execution_count": 24,
   "id": "47f97fc4",
   "metadata": {},
   "outputs": [
    {
     "name": "stdout",
     "output_type": "stream",
     "text": [
      "4\n"
     ]
    }
   ],
   "source": [
    "T = int(input())\n",
    "\n",
    "for time in range(1, T+1):\n",
    "    # 10X10 배열 우선 세팅\n",
    "    v = [[0]*10 for _ in range(10)]\n",
    "\n",
    "    N = int(input())\n",
    "\n",
    "    purple_count = 0\n",
    "\n",
    "    # 색칠 시작하기\n",
    "    # N번 동안 색칠할 구역을 입력 받음\n",
    "    for _ in range(N):\n",
    "        r1, c1, r2, c2, color = map(int, input().split())\n",
    "\n",
    "        # 주어진 범위 안으로 색칠 하기\n",
    "        for row in range(r1, r2+1):\n",
    "            for column in range(c1, c2+1):\n",
    "                # 만약, 해당 값이 0이면, color를 넣기\n",
    "                if v[row][column] == 0:\n",
    "                    v[row][column] = color\n",
    "                # 만약, 해당 범위 안에 1 or 2가 있다면, 겹치는 부분이므로 purple을 넣기\n",
    "                elif v[row][column] == 1 or v[row][column] == 2:\n",
    "                    v[row][column] = 4\n",
    "                    purple_count += 1\n",
    "    \n",
    "    print(f'#{time} {purple_count}')\n",
    "    \n"
   ]
  },
  {
   "cell_type": "markdown",
   "id": "3f9c17c1",
   "metadata": {},
   "source": [
    "##### 파리 잡기\n",
    "\n",
    "1. N x N 배열 안의 숫자는 해당 영역에 존재하는 파리의 개수를 의미한다.  \n",
    "2. 아래는 N=5 의 예이다.  \n",
    "![delta.png](./img/fly.png)  \n",
    "3. M x M 크기의 파리채를 한 번 내리쳐 최대한 많은 파리를 죽이고자 한다.  \n",
    "4. 죽은 파리의 개수를 구하라!  \n",
    "5. 예를 들어 M=2 일 경우 위 예제의 정답은 49마리가 된다.  \n",
    "\n",
    "[제약 사항]  \n",
    "1. N 은 5 이상 15 이하이다.  \n",
    "2. M은 2 이상 N 이하이다.  \n",
    "3. 각 영역의 파리 갯수는 30 이하 이다.  \n",
    "\n",
    "[입력]  \n",
    "1. 가장 첫 줄에는 테스트 케이스의 개수 T가 주어지고, 그 아래로 각 테스트 케이스가 주어진다.  \n",
    "2. 각 테스트 케이스의 첫 번째 줄에 N 과 M 이 주어지고,  \n",
    "3. 다음 N 줄에 걸쳐 N x N 배열이 주어진다.  \n",
    "\n",
    "[출력]  \n",
    "\n",
    "1. 출력의 각 줄은 '#t'로 시작하고, 공백을 한 칸 둔 다음 정답을 출력한다.  \n",
    "(t는 테스트 케이스의 번호를 의미하며 1부터 시작한다.)\n"
   ]
  },
  {
   "cell_type": "code",
   "execution_count": 2,
   "id": "ac04c9a9",
   "metadata": {},
   "outputs": [
    {
     "ename": "ValueError",
     "evalue": "invalid literal for int() with base 10: ''",
     "output_type": "error",
     "traceback": [
      "\u001b[31m---------------------------------------------------------------------------\u001b[39m",
      "\u001b[31mValueError\u001b[39m                                Traceback (most recent call last)",
      "\u001b[36mCell\u001b[39m\u001b[36m \u001b[39m\u001b[32mIn[2]\u001b[39m\u001b[32m, line 2\u001b[39m\n\u001b[32m      1\u001b[39m \u001b[38;5;66;03m# 테스트 케이스 갯수 입력 받기\u001b[39;00m\n\u001b[32m----> \u001b[39m\u001b[32m2\u001b[39m T = \u001b[38;5;28;43mint\u001b[39;49m\u001b[43m(\u001b[49m\u001b[38;5;28;43minput\u001b[39;49m\u001b[43m(\u001b[49m\u001b[43m)\u001b[49m\u001b[43m)\u001b[49m\n\u001b[32m      4\u001b[39m \u001b[38;5;28;01mfor\u001b[39;00m time \u001b[38;5;129;01min\u001b[39;00m \u001b[38;5;28mrange\u001b[39m(\u001b[32m1\u001b[39m, T+\u001b[32m1\u001b[39m):\n\u001b[32m      5\u001b[39m     \u001b[38;5;66;03m# 파리 행렬 크기(N)와 파리채 크기(M) 입력 받기\u001b[39;00m\n\u001b[32m      6\u001b[39m     N, M = \u001b[38;5;28mmap\u001b[39m(\u001b[38;5;28mint\u001b[39m, \u001b[38;5;28minput\u001b[39m().split())\n",
      "\u001b[31mValueError\u001b[39m: invalid literal for int() with base 10: ''"
     ]
    }
   ],
   "source": [
    "# 테스트 케이스 갯수 입력 받기\n",
    "T = int(input())\n",
    "\n",
    "for time in range(1, T+1):\n",
    "    # 파리 행렬 크기(N)와 파리채 크기(M) 입력 받기\n",
    "    N, M = map(int, input().split())\n",
    "    # 파리 행렬 내의 값 입력 받기\n",
    "    v = [list(map(int, input().split())) for _ in range(N)]\n",
    "    \n",
    "    # 파리를 가장 많이 잡은 max 값 변수 초기화\n",
    "    max_value = 0\n",
    "\n",
    "    # 초기값 설정을 위한 파리 행렬 크기 만큼의 for 문 수행\n",
    "    for x in range(N):\n",
    "        for y in range(N):\n",
    "            # 파리채 크기 만큼의 합산을 해야하므로, 파리채 크기 설정 전 total 값 변수 초기화\n",
    "            total_fly = 0\n",
    "            # 파리채 행을 먼저 고정함\n",
    "            for i in range(M):\n",
    "                r = x + i\n",
    "                # 파리채 열을 움직이며 파리채 크기 만큼 순회하기\n",
    "                for idx in range(M):\n",
    "                    c = y + idx\n",
    "                    # ❗실수한 부분 : 제외하는 부분의 경우 파리채 크기가 아닌 파리 행렬 크기로 잡아야 함!\n",
    "                    if r >= N or r < 0 or c<0 or c >= N:\n",
    "                        continue \n",
    "                    total_fly += v[r][c]\n",
    "\n",
    "            if max_value < total_fly:\n",
    "                max_value = total_fly\n",
    "\n",
    "    print(f'#{time} {max_value}')\n"
   ]
  },
  {
   "cell_type": "markdown",
   "id": "eca5fa32",
   "metadata": {},
   "source": [
    "##### 스도쿠 검증\n",
    "\n",
    "1. 스도쿠는 숫자퍼즐로, 가로 9칸 세로 9칸으로 이루어져 있는 표에 1 부터 9 까지의 숫자를 채워넣는 퍼즐이다.\n",
    "   \n",
    "![image.png](./img/sdoku1.png)  \n",
    "  \n",
    "2. 같은 줄에 1 에서 9 까지의 숫자를 한번씩만 넣고, 3 x 3 크기의 작은 격자 또한, 1 에서 9 까지의 숫자가 겹치지 않아야 한다.\n",
    " \n",
    "![image.png](./img/sdoku2.png)  \n",
    "  \n",
    "3. 입력으로 9 X 9 크기의 스도쿠 퍼즐의 숫자들이 주어졌을 때, 위와 같이 겹치는 숫자가 없을 경우, 1을 정답으로 출력하고 그렇지 않을 경우 0 을 출력한다.\n",
    "  \n",
    "[제약 사항]  \n",
    "\n",
    "1. 퍼즐은 모두 숫자로 채워진 상태로 주어진다.\n",
    "2. 입력으로 주어지는 퍼즐의 모든 숫자는 1 이상 9 이하의 정수이다.\n",
    "\n",
    "\n",
    "[입력]  \n",
    "1. 입력은 첫 줄에 총 테스트 케이스의 개수 T가 온다.\n",
    "2. 다음 줄부터 각 테스트 케이스가 주어진다.\n",
    "3. 테스트 케이스는 9 x 9 크기의 퍼즐의 데이터이다.\n",
    "\n",
    "[출력]  \n",
    "1. 테스트 케이스 t에 대한 결과는 “#t”을 찍고, 한 칸 띄고, 정답을 출력한다. (t는 테스트 케이스의 번호를 의미하며 1부터 시작한다.)  \n"
   ]
  },
  {
   "cell_type": "code",
   "execution_count": null,
   "id": "c624c4d7",
   "metadata": {},
   "outputs": [],
   "source": [
    "import sys\n",
    "sys.stdin = open('input.txt')\n",
    "\n",
    "T = int(input())\n",
    "\n",
    "for time in range(1, T+1):\n",
    "    arr = [list(map(int, input().split())) for _ in range(9)]\n",
    "\n",
    "    isTwice = False\n",
    "\n",
    "    for i in range(9):\n",
    "        total = []\n",
    "        c_total = []\n",
    "        for j in range(9):\n",
    "            if arr[i][j] not in total and arr[j][i] not in c_total: \n",
    "                total.append(arr[i][j])\n",
    "                c_total.append(arr[j][i])\n",
    "            else:\n",
    "                print(arr[i][j], i, j, '중복')\n",
    "                isTwice = True\n",
    "                total = []\n",
    "                c_total = []\n",
    "                break\n",
    "            for m in range(0, 9, 3):\n",
    "                for n in range(0, 9, 3):\n",
    "                    total_square = []\n",
    "                    for c in range(3):\n",
    "                        for r in range(3):\n",
    "                            a = m + c\n",
    "                            b = n + r\n",
    "                            if a < 0 or a >= 9 or b < 0 or b >= 9:\n",
    "                                break\n",
    "                            if arr[a][b] not in total_square:\n",
    "                                total_square.append(arr[a][b])\n",
    "                            else:\n",
    "                                isTwice = True\n",
    "                                total_square = []\n",
    "                                break    \n",
    "            if isTwice == True:\n",
    "                break\n",
    "    if isTwice == True:\n",
    "        print(f'#{time} 0')\n",
    "    else:\n",
    "        print(f'#{time} 1')"
   ]
  }
 ],
 "metadata": {
  "kernelspec": {
   "display_name": "Python 3",
   "language": "python",
   "name": "python3"
  },
  "language_info": {
   "codemirror_mode": {
    "name": "ipython",
    "version": 3
   },
   "file_extension": ".py",
   "mimetype": "text/x-python",
   "name": "python",
   "nbconvert_exporter": "python",
   "pygments_lexer": "ipython3",
   "version": "3.11.9"
  }
 },
 "nbformat": 4,
 "nbformat_minor": 5
}
