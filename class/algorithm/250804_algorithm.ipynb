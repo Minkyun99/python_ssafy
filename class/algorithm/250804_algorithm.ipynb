{
 "cells": [
  {
   "cell_type": "markdown",
   "id": "622c9523",
   "metadata": {},
   "source": [
    "## ⭐ 알고리즘\n",
    "\n",
    "자료구조와 알고리즘\n",
    "\n",
    "1. APS 기본학습\n",
    "  - 기초 자료 구조 이해 중심\n",
    "    - 입출력을 제외한 내장함수를 사용하지 않음\n",
    "    - 기본적인 내장함수의 동작 원리를 이해함\n",
    "\n",
    "2. AI 활용 방법\n",
    "  - 교과서가 아닌 학습에 도움을 받는 용도로 사용함\n",
    "  - 문제 전체를 넘기고 코드를 요구해서는 안됨\n",
    "  - 대화를 통해 문제점을 찾도록 작은 단위로 질문함"
   ]
  },
  {
   "cell_type": "markdown",
   "id": "e167d74b",
   "metadata": {},
   "source": [
    "##### ⭐ 알고리즘이란?\n",
    "문제를 해결하기 위한 절차나 방법임\n",
    "\n",
    "- 주로 컴퓨터 용어로 쓰이며, 컴퓨터가 어떤 일을 수행하기 위한 단계적 방법을 말합니다."
   ]
  },
  {
   "cell_type": "markdown",
   "id": "fb466480",
   "metadata": {},
   "source": [
    "##### ✨알고리즘의 성능\n",
    "\n",
    "1. 정확성 : 얼마나 정확하게 동작하는가 -> 지금은 일단 정확하게 진행하기\n",
    "2. 작업량 : 얼마나 적은 연산으로 원하는 결과를 얻어내는가\n",
    "3. 메모리 사용량 : 얼마나 적은 메모리를 사용하는가\n",
    "4. 단순성 : 얼마나 단순한가\n",
    "5. 최적성 : 더이상 개선할 여재 없이 최적화 되었는가\n",
    "\n"
   ]
  },
  {
   "cell_type": "markdown",
   "id": "48247d71",
   "metadata": {},
   "source": [
    "##### ✔️알고리즘의 시간 복잡도\n",
    "알고리즘의 작업량을 표현할 때 시간 복잡도로 표현함  \n",
    "- 시간 복잡도 (Time Complexity)  \n",
    "    -- 실제 걸리는 시간을 측정  \n",
    "    -- 실행되는 명령문의 개수를 계산  \n",
    "\n",
    "컴퓨터가 프로세스를 수행하려면 CPU와 메모리가 필수적으로 필요함  \n",
    "-> CPU를 많이 점유하는 것은 프로세스를 수행하는데, 시간이 많이 소요된다는 것  \n",
    "-> 메모리를 많이 점유하는 것은 프로세스를 수행하는데, 공간을 많이 소요한다는 것  \n",
    "\n",
    "```\n",
    "명령문 ------------------------------> 1  \n",
    "for i in range(N):  \n",
    "    명령문---------------------------> N  \n",
    "    for j in range(1, N):  \n",
    "        명령문 ----------------------> N (N+1) / 2  \n",
    "        명령문 ----------------------> N (N+1) / 2  \n",
    "    명령문 --------------------------> N  \n",
    "```\n",
    "\n",
    "- 위 함수의 시간 복잡도 : f(n) = N^2 + 3N + 1  \n",
    " --> 최악의 경우에는 이러한 복잡도 계산식이 나옴  \n",
    "\n",
    "- N의 크기에 따라 시간 복잡도가 얼마나 변화하는가를 알아보기 위하여 시간 복잡도라는 개념이 나옴  \n",
    "- 시간 복잡도는 최악의 경우를 안내함  \n"
   ]
  },
  {
   "cell_type": "code",
   "execution_count": 5,
   "id": "3c71f642",
   "metadata": {},
   "outputs": [
    {
     "name": "stdout",
     "output_type": "stream",
     "text": [
      "5050\n",
      "5050\n"
     ]
    }
   ],
   "source": [
    "total = 0\n",
    "\n",
    "for i in range(101):\n",
    "    total += i\n",
    "\n",
    "print(total)\n",
    "\n",
    "\n",
    "result = 100*(1+100)/2\n",
    "print(int(result))"
   ]
  },
  {
   "cell_type": "markdown",
   "id": "fb4070c1",
   "metadata": {},
   "source": [
    "##### ✔️ 빅-오 표기법 적용 예\n",
    "시간 복잡도 함수 중에서 가장 큰영향력을 주는 n에 대한 항만을 표시\n",
    "- 계수는 생략하여 표시\n",
    "\n",
    "##### ✏️ 예시 문제\n",
    "n개의 데이터를 입력 받아 저장한 후 각 데이터에 1씩 증가시킨 후 각 데이터를 화면에 출력하는 알고리즘 시간 복잡도는? -> 빅-오 표기법 ( O(n) )"
   ]
  },
  {
   "cell_type": "markdown",
   "id": "d74d25fc",
   "metadata": {},
   "source": [
    "## ⭐ 배열 (Array)\n",
    "일정한 자료형의 변수들을 하나의 이름으로 열거하여 사용하는 자료구조\n",
    "\n",
    "- append와 pop 메서드는 배열의 길이를 직접 조정하므로 시간이 많이 소요됨\n",
    "- 배열을 만들 때는 배열의 크기를 지정해주는 것이 좋음\n"
   ]
  },
  {
   "cell_type": "code",
   "execution_count": null,
   "id": "b982914c",
   "metadata": {},
   "outputs": [],
   "source": [
    "# 배열을 만드는 방법\n",
    "\n",
    "arr = list()\n",
    "arr = []\n",
    "arr = [0] * 10 # 크기가 정해진 배열을 만드는 방법\n",
    "arr = [1, 2, 3]\n"
   ]
  },
  {
   "cell_type": "markdown",
   "id": "c1a20836",
   "metadata": {},
   "source": [
    "##### ❗ for문과 while문을 잘 이용하여 논리적인 구조를 만들어야 함\n",
    "##### ❗ if문의 조건을 잘 점검해야 함"
   ]
  },
  {
   "cell_type": "code",
   "execution_count": 64,
   "id": "5d5d92b9",
   "metadata": {},
   "outputs": [
    {
     "name": "stdout",
     "output_type": "stream",
     "text": [
      "[1, 2, 3, 4, 5, 6, 7, 8, 9]\n"
     ]
    }
   ],
   "source": [
    "# input으로 값을 받아 배열을 만드는 방법\n",
    "arr = list(map(int, input().split()))\n",
    "print(arr)"
   ]
  },
  {
   "cell_type": "code",
   "execution_count": 41,
   "id": "6e04493e",
   "metadata": {},
   "outputs": [
    {
     "name": "stdout",
     "output_type": "stream",
     "text": [
      "55\n",
      "55\n"
     ]
    }
   ],
   "source": [
    "# 배열 원소의 합을 계산하는 코드\n",
    "\n",
    "# 1번 코드 : 인덱스를 이용하여 배열의 값에 접근하여 계산하는 방법\n",
    "s = 0\n",
    "N = len(arr)\n",
    "for i in range(N):\n",
    "    s += arr[i]\n",
    "print(s)\n",
    "\n",
    "# 2번 코드 : 배열의 값에 접근하여 계산하는 방법\n",
    "t = 0\n",
    "for i in arr:\n",
    "    t += i\n",
    "print(t)"
   ]
  },
  {
   "cell_type": "code",
   "execution_count": null,
   "id": "f2cae500",
   "metadata": {},
   "outputs": [
    {
     "name": "stdout",
     "output_type": "stream",
     "text": [
      "9\n",
      "9\n",
      "9\n"
     ]
    }
   ],
   "source": [
    "# 배열 원소 중 최댓값 max 찾기\n",
    "N = len(arr)\n",
    "\n",
    "# 배열의 값으로 접근하여 계산하는 방법\n",
    "max_value = arr[0] # 첫 원소를 최대로 가정!\n",
    "for i in range(1, N): # 첫번째 값은 max_value로 정했으므로, 배열의 2번째 값부터 크기 비교함\n",
    "    if max_value < arr[i]: # arr[i] 인덱스로 접근하여 값 비교\n",
    "        max_value = arr[i]\n",
    "print(max_value)\n",
    "\n",
    "# 배열의 인덱스로 접근하여 계산하는 방법\n",
    "max_idx = 0\n",
    "for j in range(1, N):\n",
    "    if arr[max_idx] < arr[j]: # 인덱스로 접근하여 인덱스 0번부터 배열 전체의 숫자 크기 비교\n",
    "        max_idx = j # 만약, 더 큰 숫자를 만나면 인덱스의 번호를 변경함\n",
    "print(arr[max_idx])\n",
    "\n",
    "# 최대값이 여러 개인 경우?\n",
    "max_idx = 0\n",
    "for j in range(1, N):\n",
    "    if arr[max_idx] <= arr[j]: # 등호를 넣어서 처리하기\n",
    "        max_idx = j\n",
    "print(arr[max_idx])"
   ]
  },
  {
   "cell_type": "code",
   "execution_count": null,
   "id": "27efbc0a",
   "metadata": {},
   "outputs": [],
   "source": [
    "# 찾는 값이 배열에 있으면 해당 원소의 인덱스, 없으면 -1을 idx에 넣기\n",
    "\n"
   ]
  },
  {
   "cell_type": "markdown",
   "id": "d93704b7",
   "metadata": {},
   "source": [
    "## ⭐ 정렬(sort)\n",
    "2개 의상의 자료를 키에 의해 작은 값부터 큰 값 혹은 그 반대의 순서대로 재배열하는 알고리즘\n",
    "\n",
    "- 오름차순 : ascending\n",
    "- 내림차순 : descending\n",
    "\n",
    "1. 버블정렬 : 인접한 두 개의 원소를 비교하며 자리를 계속 교환하는 방식 (시간 복잡도 : O(n)^2)   \n",
    " -> 거의 사용하지 않음\n",
    "2. 카운터정렬 : "
   ]
  },
  {
   "cell_type": "markdown",
   "id": "f88c2292",
   "metadata": {},
   "source": [
    "## ✍️ 버블정렬"
   ]
  },
  {
   "cell_type": "code",
   "execution_count": null,
   "id": "5b1187f1",
   "metadata": {},
   "outputs": [
    {
     "name": "stdout",
     "output_type": "stream",
     "text": [
      "[7, 12, 42, 55, 78]\n",
      "[7, 12, 42, 55, 78]\n"
     ]
    }
   ],
   "source": [
    "# 버블정렬\n",
    "\n",
    "bubble_list = [55, 7, 78, 12, 42]\n",
    "N = int(len(bubble_list))\n",
    "\n",
    "for i in range(N-1, 0, -1): # 범위의 끝 위치, 가장 끝 위치에서 -1씩 감소하며 for문을 돌림\n",
    "    for j in range(i): # 비교할 왼쪽 원소 인덱스 j\n",
    "        if bubble_list[j] < bubble_list[j+1]:\n",
    "            bubble_list[j]\n",
    "        elif bubble_list[j] > bubble_list[j+1]:\n",
    "            temp = bubble_list[j+1] # 임시 저장소 temp를 만들어 저장함\n",
    "            bubble_list[j+1] = bubble_list[j] # 인덱스 자리에 해당 값을 집어넣은 후\n",
    "            bubble_list[j] = temp # 임시 값으로 저장한 값을 넣음\n",
    "print(bubble_list)\n",
    "\n",
    "for i in range(0, N-2 +1):\n",
    "    for j in range(i):\n",
    "        if bubble_list[j] < bubble_list[j+1]:\n",
    "            bubble_list[j]\n",
    "        elif bubble_list[j] > bubble_list[j+1]:\n",
    "            bubble_list[j], bubble_list[j+1] = bubble_list[j+1], bubble_list[j] # ❗ 파이썬은 값을 맞바꾸는 것이 가능함\n",
    "print(bubble_list)"
   ]
  },
  {
   "cell_type": "markdown",
   "id": "05680e9c",
   "metadata": {},
   "source": [
    "## 연습문제"
   ]
  },
  {
   "cell_type": "code",
   "execution_count": null,
   "id": "e0df4da3",
   "metadata": {},
   "outputs": [
    {
     "name": "stdout",
     "output_type": "stream",
     "text": [
      "29646\n",
      "29646\n",
      "29646\n",
      "29646\n",
      "29646\n",
      "#1 11088\n"
     ]
    }
   ],
   "source": [
    "T = int(input()) # 테스트 케이스 정수 입력 받기\n",
    "\n",
    "for i in range(1, T+1): # 받아온 T 값만큼 순회하기\n",
    "    N, M = map(int, input().split()) # N : 배열의 길이, M : 덧셈 구간\n",
    "    v = list(map(int, input().split()))\n",
    "\n",
    "    min_sum = sum(v[0:M])\n",
    "    max_sum = sum(v[0:M])\n",
    " \n",
    "    for min_idx in range(1, N-M+1):\n",
    "        if min_sum > sum(v[min_idx:min_idx+M]):\n",
    "            min_sum = sum(v[min_idx:min_idx+M])\n",
    "\n",
    "    for max_idx in range(1, N-M+1):\n",
    "        if max_sum < sum(v[max_idx:max_idx+M]):\n",
    "            max_sum = sum(v[max_idx:max_idx+M])\n",
    "        print(max_sum)\n",
    "\n",
    "\n",
    "    print(f'#{i} {max_sum - min_sum}')\n"
   ]
  },
  {
   "cell_type": "code",
   "execution_count": null,
   "id": "897cce78",
   "metadata": {},
   "outputs": [],
   "source": [
    "# 풀이\n",
    "N,M = map(int, input())\n",
    "lst = list(map(int, input()))\n",
    "min_hap = 1000000\n",
    "max_hap = 0\n",
    "\n",
    "for s in range(0, N-M+1):\n",
    "    hap = 0\n",
    "    for i in range(s, s+M):\n",
    "        hap += lst[i]\n",
    "    if max_hap < hap:\n",
    "        max_hap = hap\n",
    "    if min_hap > hap:\n",
    "        min_hap = hap\n"
   ]
  },
  {
   "cell_type": "code",
   "execution_count": null,
   "id": "3fd309fb",
   "metadata": {},
   "outputs": [],
   "source": [
    "hap =0\n",
    "for i in range(M):\n",
    "    hap += lst[i]\n",
    "max_hap = min_hap = hap\n",
    "\n",
    "for e in range(M,N):\n",
    "    i = e - M\n",
    "    lst[e] - lst[i]"
   ]
  },
  {
   "cell_type": "code",
   "execution_count": 107,
   "id": "092a4a70",
   "metadata": {},
   "outputs": [
    {
     "name": "stdout",
     "output_type": "stream",
     "text": [
      "#1 630739\n",
      "#2 740510\n",
      "#3 838110\n"
     ]
    }
   ],
   "source": [
    "T = int(input())\n",
    "\n",
    "\n",
    "for time in range(1, T+1):\n",
    "    N = int(input())\n",
    "    user_input = list(map(int, input().split()))\n",
    "    \n",
    "    min_value = user_input[0]\n",
    "    max_value = user_input[0]\n",
    "    \n",
    "    for i in range(1, len(user_input)):\n",
    "        if min_value > user_input[i]:\n",
    "            min_value = user_input[i]\n",
    "    for i in range(1, len(user_input)):\n",
    "        if max_value < user_input[i]:\n",
    "            max_value = user_input[i]\n",
    "\n",
    "    print(f'#{time} {max_value-min_value}')"
   ]
  },
  {
   "cell_type": "code",
   "execution_count": null,
   "id": "6743a443",
   "metadata": {},
   "outputs": [
    {
     "ename": "IndexError",
     "evalue": "list index out of range",
     "output_type": "error",
     "traceback": [
      "\u001b[31m---------------------------------------------------------------------------\u001b[39m",
      "\u001b[31mIndexError\u001b[39m                                Traceback (most recent call last)",
      "\u001b[36mCell\u001b[39m\u001b[36m \u001b[39m\u001b[32mIn[245]\u001b[39m\u001b[32m, line 19\u001b[39m\n\u001b[32m     16\u001b[39m                         total += result\n\u001b[32m     17\u001b[39m         \u001b[38;5;28mprint\u001b[39m(\u001b[33mf\u001b[39m\u001b[33m'\u001b[39m\u001b[33m#\u001b[39m\u001b[38;5;132;01m{\u001b[39;00mtime\u001b[38;5;132;01m}\u001b[39;00m\u001b[33m \u001b[39m\u001b[38;5;132;01m{\u001b[39;00mtotal\u001b[38;5;132;01m}\u001b[39;00m\u001b[33m'\u001b[39m)\n\u001b[32m---> \u001b[39m\u001b[32m19\u001b[39m \u001b[43mmain\u001b[49m\u001b[43m(\u001b[49m\u001b[43m)\u001b[49m\n",
      "\u001b[36mCell\u001b[39m\u001b[36m \u001b[39m\u001b[32mIn[245]\u001b[39m\u001b[32m, line 8\u001b[39m, in \u001b[36mmain\u001b[39m\u001b[34m()\u001b[39m\n\u001b[32m      6\u001b[39m total = \u001b[32m0\u001b[39m      \n\u001b[32m      7\u001b[39m \u001b[38;5;28;01mfor\u001b[39;00m i \u001b[38;5;129;01min\u001b[39;00m \u001b[38;5;28mrange\u001b[39m(N):           \n\u001b[32m----> \u001b[39m\u001b[32m8\u001b[39m     \u001b[38;5;28;01mif\u001b[39;00m \u001b[43mv\u001b[49m\u001b[43m[\u001b[49m\u001b[43mi\u001b[49m\u001b[43m+\u001b[49m\u001b[32;43m1\u001b[39;49m\u001b[43m]\u001b[49m \u001b[38;5;129;01mand\u001b[39;00m v[i-\u001b[32m1\u001b[39m] != \u001b[32m0\u001b[39m:\n\u001b[32m      9\u001b[39m         \u001b[38;5;28;01mfor\u001b[39;00m idx \u001b[38;5;129;01min\u001b[39;00m \u001b[38;5;28mrange\u001b[39m(\u001b[32m2\u001b[39m, \u001b[38;5;28mlen\u001b[39m(v)-\u001b[32m2\u001b[39m):\n\u001b[32m     10\u001b[39m             \u001b[38;5;28;01mif\u001b[39;00m v[idx-\u001b[32m1\u001b[39m] < v[idx] > v[idx+\u001b[32m1\u001b[39m] \u001b[38;5;129;01mand\u001b[39;00m v[idx-\u001b[32m2\u001b[39m] < v[idx] > v[idx+\u001b[32m2\u001b[39m]:\n",
      "\u001b[31mIndexError\u001b[39m: list index out of range"
     ]
    }
   ],
   "source": [
    "\n",
    "def main():\n",
    "    for time in range(1, 11):\n",
    "        N = int(input())\n",
    "        v = list(map(int, input().split()))\n",
    "        \n",
    "        total = 0      \n",
    "        for i in range(N):           \n",
    "            if v[i] != 0:\n",
    "                for idx in range(2, len(v)-2):\n",
    "                    if v[idx-1] < v[idx] and v[idx+1] < v[idx] and v[idx-2] < v[idx] and v[idx+2] < v[idx]:\n",
    "                        second_height = v[idx-2]\n",
    "                        for i in v[idx-1:idx+2]:\n",
    "                            if second_height < i < v[idx]:\n",
    "                                second_height = i\n",
    "                        result = v[idx]-second_height\n",
    "                        total += result\n",
    "        print(f'#{time} {total}')\n",
    "\n",
    "main()\n",
    "\n"
   ]
  },
  {
   "cell_type": "markdown",
   "id": "b75e5762",
   "metadata": {},
   "source": [
    "배열1_gravity\n",
    "\n",
    "상자들이 쌓여있는 방이 있다. 방이 오른쪽으로 90도 회전하여 상자들이 중력의 영향을 받아 낙하한다고 할 때, 낙차가 가장 큰 상자를 구하는 프로그램을 작성하시오.  \n",
    "중력은 회전이 완료된 후 적용된다.  \n",
    "\n",
    "상자들은 모두 한쪽 벽면에 붙여진 상태로 쌓여 2차원의 형태를 이루며 벽에서 떨어져서 쌓인 상자는 없다.  \n",
    "\n",
    "상자가 놓인 가로 칸의 수 N, 다음 줄에 각 칸의 상자 높이가 주어진다.  \n",
    "\n",
    "아래 예시 : N이 9인 방에 총 26개의 상자가 회전 후, 오른쪽 방 그림의 상태가 된다. A 상자의 낙차가 7로 가장 크므로 7을 리턴하면 된다.  \n",
    "회전 결과, B상자의 낙차는 6, C상자의 낙차는 1이다.  "
   ]
  },
  {
   "cell_type": "code",
   "execution_count": null,
   "id": "2883dd0f",
   "metadata": {},
   "outputs": [
    {
     "name": "stdout",
     "output_type": "stream",
     "text": [
      "7\n"
     ]
    }
   ],
   "source": [
    "T = int(input())\n",
    "\n",
    "for time in range(1, T+1):\n",
    "\n",
    "    N = int(input())\n",
    "    v = list(map(int, input().split()))\n",
    "\n",
    "    max_value = 0\n",
    "    for i in range(len(v)):\n",
    "        count = 0\n",
    "        height = (N-1) - i\n",
    "        \n",
    "        for j in range(i+1, N-1):\n",
    "            if v[i] <= v[j]:\n",
    "                count += 1\n",
    "\n",
    "        if max_value < height - count:\n",
    "            max_value = height - count\n",
    "\n",
    "    print(f'#{time} {max_value}')\n",
    "    \n",
    "                "
   ]
  },
  {
   "cell_type": "code",
   "execution_count": null,
   "id": "936e81b8",
   "metadata": {},
   "outputs": [],
   "source": [
    "v = [7, 4, 2, 0, 0, 6, 0, 7, 0]\n",
    "N = 9\n",
    "\n",
    "last_value = 0\n",
    "for idx in range(0, N):\n",
    "    first_value = v[idx]\n",
    "    while first_value > 0:\n",
    "            for i in range(idx+1, N):\n",
    "                if first_value == 0:\n",
    "                    last_value = 0\n",
    "                    break\n",
    "                elif first_value <= v[i]:\n",
    "                    print(f'i{i} - idx{idx} = {i-idx}')\n",
    "                    last_value = i - idx\n",
    "                    break\n",
    "                elif first_value > v[i]:\n",
    "                    first_value =first_value - v[i]\n",
    "    # print(last_value)"
   ]
  },
  {
   "cell_type": "code",
   "execution_count": null,
   "id": "f926aad2",
   "metadata": {},
   "outputs": [],
   "source": [
    "v = [7, 4, 2, 0, 0, 6, 0, 7, 0]\n",
    "N = len(v)\n",
    "last_value = 0\n",
    "count = 1\n",
    "\n",
    "for idx in range(N):\n",
    "    first_value = v[idx]\n",
    "\n",
    "    if first_value == 0:\n",
    "        last_value = 0\n",
    "        count += 1\n",
    "    else :\n",
    "        for i in range(idx+1, N):\n",
    "            while first_value > 0:\n",
    "                if first_value > 0 :\n",
    "                    first_value -= v[i]\n",
    "                else:\n",
    "                    last_value = N-(idx+1) - count\n",
    "                    break              \n",
    "        count += 1\n",
    "        \n",
    "    print(f\"v[{idx}]={v[idx]} 계산 후, 남은 값: {last_value}\")"
   ]
  }
 ],
 "metadata": {
  "kernelspec": {
   "display_name": "Python 3",
   "language": "python",
   "name": "python3"
  },
  "language_info": {
   "codemirror_mode": {
    "name": "ipython",
    "version": 3
   },
   "file_extension": ".py",
   "mimetype": "text/x-python",
   "name": "python",
   "nbconvert_exporter": "python",
   "pygments_lexer": "ipython3",
   "version": "3.11.9"
  }
 },
 "nbformat": 4,
 "nbformat_minor": 5
}
