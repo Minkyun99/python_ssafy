{
 "cells": [
  {
   "cell_type": "markdown",
   "id": "1c353026",
   "metadata": {},
   "source": [
    "## ⭐ 문자열 연산\n",
    "\n",
    "##### ✔️ 문자열 뒤집기\n",
    "```\n",
    "S = 'Reverse this strings'\n",
    "S = s[::-1]\n",
    "```\n"
   ]
  },
  {
   "cell_type": "code",
   "execution_count": 15,
   "id": "03d593a6",
   "metadata": {},
   "outputs": [
    {
     "name": "stdout",
     "output_type": "stream",
     "text": [
      "sgnirts siht esreveR\n",
      "dcba\n"
     ]
    }
   ],
   "source": [
    "# 문자열을 역순으로 재정의\n",
    "S = 'Reverse this strings'\n",
    "S = S[::-1]\n",
    "print(S)\n",
    "\n",
    "# 리스트로 변환후 다시 문자열로 변환\n",
    "s = 'abcd'\n",
    "s = list(s)\n",
    "s.reverse()\n",
    "s = ''.join(s)\n",
    "print(s)"
   ]
  },
  {
   "cell_type": "markdown",
   "id": "1b959d66",
   "metadata": {},
   "source": [
    "##### 회문 \n",
    "\"기러기\", \"토마토\", \"스위스\"와 같이 똑바로 읽어도 거꾸로 읽어도 똑같은 문장이나 낱말\n",
    "- 문자열 길이의 반만 비교하면 됩니다.  \n",
    "\n",
    "![image.png](./img/for_str.png)  \n",
    "\n",
    "\n"
   ]
  },
  {
   "cell_type": "code",
   "execution_count": 14,
   "id": "869dfcec",
   "metadata": {},
   "outputs": [
    {
     "ename": "IndexError",
     "evalue": "list index out of range",
     "output_type": "error",
     "traceback": [
      "\u001b[31m---------------------------------------------------------------------------\u001b[39m",
      "\u001b[31mIndexError\u001b[39m                                Traceback (most recent call last)",
      "\u001b[36mCell\u001b[39m\u001b[36m \u001b[39m\u001b[32mIn[14]\u001b[39m\u001b[32m, line 8\u001b[39m\n\u001b[32m      5\u001b[39m             \u001b[38;5;28;01mreturn\u001b[39;00m \u001b[38;5;28;01mFalse\u001b[39;00m\n\u001b[32m      7\u001b[39m s = [\u001b[33m'\u001b[39m\u001b[33ma\u001b[39m\u001b[33m'\u001b[39m, \u001b[33m'\u001b[39m\u001b[33mb\u001b[39m\u001b[33m'\u001b[39m, \u001b[33m'\u001b[39m\u001b[33mc\u001b[39m\u001b[33m'\u001b[39m, \u001b[33m'\u001b[39m\u001b[33md\u001b[39m\u001b[33m'\u001b[39m, \u001b[33m'\u001b[39m\u001b[33mc\u001b[39m\u001b[33m'\u001b[39m, \u001b[33m'\u001b[39m\u001b[33mb\u001b[39m\u001b[33m'\u001b[39m, \u001b[33m'\u001b[39m\u001b[33ma\u001b[39m\u001b[33m'\u001b[39m]\n\u001b[32m----> \u001b[39m\u001b[32m8\u001b[39m result = \u001b[43mis_txt\u001b[49m\u001b[43m(\u001b[49m\u001b[43ms\u001b[49m\u001b[43m)\u001b[49m\n\u001b[32m      9\u001b[39m \u001b[38;5;28mprint\u001b[39m(result)\n",
      "\u001b[36mCell\u001b[39m\u001b[36m \u001b[39m\u001b[32mIn[14]\u001b[39m\u001b[32m, line 4\u001b[39m, in \u001b[36mis_txt\u001b[39m\u001b[34m(arr)\u001b[39m\n\u001b[32m      2\u001b[39m n = \u001b[38;5;28mlen\u001b[39m(arr)\n\u001b[32m      3\u001b[39m \u001b[38;5;28;01mfor\u001b[39;00m i \u001b[38;5;129;01min\u001b[39;00m \u001b[38;5;28mrange\u001b[39m(n//\u001b[32m2\u001b[39m):\n\u001b[32m----> \u001b[39m\u001b[32m4\u001b[39m     \u001b[38;5;28;01mif\u001b[39;00m arr[i] != \u001b[43marr\u001b[49m\u001b[43m[\u001b[49m\u001b[38;5;28;43mlen\u001b[39;49m\u001b[43m(\u001b[49m\u001b[43marr\u001b[49m\u001b[43m)\u001b[49m\u001b[43m-\u001b[49m\u001b[43mi\u001b[49m\u001b[43m]\u001b[49m:\n\u001b[32m      5\u001b[39m         \u001b[38;5;28;01mreturn\u001b[39;00m \u001b[38;5;28;01mFalse\u001b[39;00m\n",
      "\u001b[31mIndexError\u001b[39m: list index out of range"
     ]
    }
   ],
   "source": [
    "def is_txt(arr):\n",
    "    n = len(arr)\n",
    "    for i in range(n//2):\n",
    "        if arr[i] != arr[len(arr)-i]:\n",
    "            return False\n",
    "        \n",
    "s = ['a', 'b', 'c', 'd', 'c', 'b', 'a']\n",
    "result = is_txt(s)\n",
    "print(result)"
   ]
  },
  {
   "cell_type": "markdown",
   "id": "d3934100",
   "metadata": {},
   "source": [
    "##### ✔️ 문자열 비교\n",
    "1. 연산자와 is 연산자  \n",
    "- ==는 값(value)이 같은지를 비교합니다.  \n",
    "- is는 객체의 정체성, 즉 같은 객체인지 비교합니다.  \n",
    "- == 연산자는 내부적으로 특수 메서드 __eq__()를 호출합니다.  \n",
    "\n",
    "2. C와 Java에서의 문자열 비교    \n",
    "- C : strcmp() 함수를 사용해 문자열의 내용을 비교합니다.\n",
    "- Java :   \n",
    "  --> == 연산자는 객체의 주소를 비교합니다. (python에서 is 연산자 역할)  \n",
    "  --> equals()메소드는 객체의 내용을 비교합니다. (python에서 == 연산자 역할)  "
   ]
  },
  {
   "cell_type": "markdown",
   "id": "68271af2",
   "metadata": {},
   "source": [
    "##### ✔️ 사전 순서 비교\n",
    "1. 비교 연산자 <> 사용\n",
    "- 유니코드를 비교합니다.\n",
    "\n",
    "```\n",
    "def my_strcmp(s1, s2):\n",
    "  if s1 < s2:\n",
    "    return -1\n",
    "  elif s1 > s2:\n",
    "    return 1\n",
    "  else:\n",
    "    return 0\n",
    "```\n",
    "- 문자열에 대한 <> 연산은 유니코드 값에 대한 비교입니다.  \n",
    "- 따라서 'Apple'<'apple'도 True이고 'Zebra'<'apple'도 True입니다.  \n",
    "\n",
    "##### ✔️ 문자열 숫자를 숫자로 변환\n",
    "1. 문자열을 숫자로 변환\n",
    "```\n",
    "a = int('123')\n",
    "b = float('3.14')\n",
    "c = int('A0', 16) # 문자열 'A0'을 16진법으로 해석해서 변환\n",
    "```\n",
    "2. 숫자를 문자열로 변환\n",
    "```\n",
    "a = str(123)\n",
    "b = str(3.14)\n",
    "```"
   ]
  },
  {
   "cell_type": "markdown",
   "id": "7a749177",
   "metadata": {},
   "source": [
    "## ⭐ 패턴 매칭  \n",
    "\n",
    "### ✖️ 고지식한 패턴 검색  \n",
    "##### ✔️ 고지식한 알고리즘  \n",
    "1. 단순한 방볍  \n",
    "- 본문 문자열을 처음부터 끝까지 차례대로 순회하면서 패턴 내의 문자들을 일일이 비교하는 방식입니다.  \n",
    "##### ✔️ 구현  \n",
    "2. 본문의 비교 위치 i, 패턴에서의 비교 위치 j  \n",
    "- 일치하면 i, j증가, 실패하면 i는 이전 시작위치 다음으로, j는 맨 앞으로 초기화  \n"
   ]
  },
  {
   "cell_type": "code",
   "execution_count": 19,
   "id": "f5fd550e",
   "metadata": {},
   "outputs": [
    {
     "name": "stdout",
     "output_type": "stream",
     "text": [
      "-3\n"
     ]
    }
   ],
   "source": [
    "def brute_force(p, t):\n",
    "    i = 0\n",
    "    j = 0\n",
    "    M = len(p)\n",
    "    N = len(t)\n",
    "\n",
    "    while j < M and i < N:\n",
    "        if t[i] != p[j]:\n",
    "            i = i - j\n",
    "            i = -1\n",
    "        i = i + 1\n",
    "        j = j + 1\n",
    "    if j == M :\n",
    "        return i - M\n",
    "    else : \n",
    "        return -1\n",
    "\n",
    "t = ['T', 'T', 'T', 'T', 'A', 'T', 'A', 'C', 'C', 'A']\n",
    "p = ['T', 'T', 'A', 'T']\n",
    "result = brute_force(p, t)\n",
    "print(result)"
   ]
  },
  {
   "cell_type": "code",
   "execution_count": 22,
   "id": "06607625",
   "metadata": {},
   "outputs": [],
   "source": [
    "n, m = len(t), len(p)\n",
    "i, j = 0, 0\n",
    "\n",
    "while j < m and i < n:\n",
    "    if t[i] != p[j]:\n",
    "        j = 0\n",
    "        i = i - j + 1\n",
    "    else:\n",
    "        i = i + 1\n",
    "        j = j + 1\n",
    "\n",
    "if j == m:\n",
    "    print('found>', t[i - j:i])"
   ]
  },
  {
   "cell_type": "markdown",
   "id": "d668005b",
   "metadata": {},
   "source": [
    "##### ✔️ KMP 알고리즘\n",
    "1. 연구자인 Knuth, Morris, Pratt 세 사람의 이름에서 유래\n",
    "2. 패턴의 각 위치에서 매칭에 실패했을 때 돌아갈 위치를 미리 계산\n",
    "3. 시간 복잡도\n",
    "- 패턴의 길이가 M일 때, 전처리에 걸리는 시간은 O(M) 임\n",
    "- 텍스트의 길이가 N일 때, 검색은 최악의 경우 O(N) 임\n",
    "- 결과적으로 O(M+N) 이 됨\n",
    "- 만약 M이 고정된 값으로 매우 짧다면 평균적으로 theta(N)이 됨"
   ]
  },
  {
   "cell_type": "markdown",
   "id": "d39a2fde",
   "metadata": {},
   "source": [
    "##### ✔️ 보이어무어 알고리즘\n",
    "1. 상용 소프트웨어에서 채택하고 있는 알고리즘\n",
    "2. 실제 검색에서 매우 빠른 성능\n",
    "- 패턴 오른쪽 끝에 있는 문자가 불일치 하고 이 문자가 패턴 내에 존재하지 않는 경우, 이동 거리는 패턴의 길이만큼이 됨"
   ]
  },
  {
   "cell_type": "markdown",
   "id": "a61f16b5",
   "metadata": {},
   "source": [
    "## ✍️ 연습문제"
   ]
  },
  {
   "cell_type": "markdown",
   "id": "e66210cd",
   "metadata": {},
   "source": [
    "##### ✍️ 문자열_문자열비교_확인용\n",
    "\n",
    "1. 두 개의 문자열 str1과 str2가 주어진다. 문자열 str2 안에 str1과 일치하는 부분이 있는지 찾는 프로그램을 만드시오.\n",
    "2. 예를 들어 두 개의 문자열이 다음과 같이 주어질 때, 첫 문자열이 두번째에 존재하면 1, 존재하지 않으면 0을 출력한다.\n",
    "```\n",
    "ABC\n",
    "ZZZZZABCZZZZZ\n",
    "```\n",
    "3. 두번째 문자열에 첫번째 문자열과 일치하는 부분이 있으므로 1을 출력.\n",
    "```\n",
    "ABC\n",
    "ZZZZAZBCZZZZZ\n",
    "```\n",
    "4. 문자열이 일치하지 않으므로 0을 출력.\n",
    "\n",
    "[입력]  \n",
    "1. 첫 줄에 테스트 케이스 개수 T가 주어진다.  (1≤T≤50)\n",
    "2. 다음 줄부터 테스트 케이스 별로 길이가 N인 문자열 str1과 길이가 M인 str2가 각각 다른 줄에 주어집니다. (5≤N≤100, 10≤M≤1000, N≤M)\n",
    "\n",
    "[출력]  \n",
    "1. 각 줄마다 \"#T\" (T는 테스트 케이스 번호)를 출력한 뒤, 답을 출력한다."
   ]
  },
  {
   "cell_type": "code",
   "execution_count": null,
   "id": "8704aab8",
   "metadata": {},
   "outputs": [
    {
     "name": "stdout",
     "output_type": "stream",
     "text": [
      "0\n"
     ]
    }
   ],
   "source": [
    "T = int(input())\n",
    "\n",
    "for time in range(1, T + 1):\n",
    "\n",
    "\n",
    "    p = input()\n",
    "    t = input()\n",
    "\n",
    "    n = len(t)\n",
    "    m = len(p)\n",
    "\n",
    "    count = 0\n",
    "    i, j = 0, 0\n",
    "    while j < m and i < n:\n",
    "        if t[i] != p[j]:\n",
    "            j = 0\n",
    "            i = i - j + 1\n",
    "        else:\n",
    "            i = i + 1\n",
    "            j = j + 1\n",
    "        if j == m:\n",
    "            count += 1\n",
    "    print(f'#{time} {count}')\n",
    "\n"
   ]
  },
  {
   "cell_type": "code",
   "execution_count": null,
   "id": "ad0165a2",
   "metadata": {},
   "outputs": [],
   "source": [
    "n, m = len(t), len(p)\n",
    "i, j = 0, 0\n",
    "\n",
    "while j < m and i < n:\n",
    "    if t[i] != p[j]:\n",
    "        j = 0\n",
    "        i = i - j + 1\n",
    "    else:\n",
    "        i = i + 1\n",
    "        j = j + 1\n",
    "\n",
    "if j == m:\n",
    "    print('found>', t[i - j:i])"
   ]
  },
  {
   "cell_type": "markdown",
   "id": "fa67332e",
   "metadata": {},
   "source": [
    "##### [S/W 문제해결 기본] 3일차 - 회문1\n",
    "\n",
    "1. \"기러기\", \"토마토\", \"스위스\"와 같이 똑바로 읽어도 거꾸로 읽어도 똑같은 문장이나 낱말을 회문(回文, palindrome)이라 한다.\n",
    "2. 8x8 평면 글자판에서 제시된 길이를 가진 회문의 개수를 구하라.\n",
    " \n",
    "![image.png](./img/round_str1.png)  \n",
    "\n",
    "3. 위와 같은 글자판이 주어졌을 때, 길이가 5인 회문은 붉은색 테두리로 표시된 4개이므로 4를 반환하면 된다.\n",
    "\n",
    "[제약 사항]  \n",
    "1. 각 칸의 들어가는 글자는 'A', 'B', 'C' 중 하나이다.\n",
    "2. ABA도 회문이며, ABBA도 회문이다. A 또한 길이 1짜리 회문이다.\n",
    "3. 가로 또는 세로로 이어진 회문의 개수만 센다.\n",
    "4. 아래 그림에서 노란색 경로를 따라가면 길이 7짜리 회문이 되지만 직선이 아니기 때문에 인정되지 않는다.\n",
    "\n",
    "![image.png](./img/round_str2.png) \n",
    "\n",
    "[입력]  \n",
    "\n",
    "1. 총 10개의 테스트 케이스가 주어진다.\n",
    "2. 각 테스트 케이스의 첫 번째 줄에는 찾아야 하는 회문의 길이가 주어지며, 다음 줄에 8x8 크기의 글자판이 주어진다.\n",
    "\n",
    "[출력]  \n",
    "1. '#'부호와 함께 테스트 케이스의 번호를 출력하고, 공백 문자 후 찾은 회문의 개수를 출력한다."
   ]
  },
  {
   "cell_type": "code",
   "execution_count": null,
   "id": "9461b1fd",
   "metadata": {},
   "outputs": [],
   "source": [
    "import sys\n",
    "sys.stdin = open('input.txt')\n",
    "\n",
    "for time in range(1, 11):\n",
    "    N = int(input())\n",
    "    arr = [list(input()) for _ in range(8)]\n",
    "\n",
    "    t_count = 0\n",
    "\n",
    "    for i in range(8):\n",
    "        count = 0\n",
    "        for j in range(8):\n",
    "            for idx in range(N//2):\n",
    "\n",
    "                # 범위에서 벗어나면, 해당 문자는 회문이 될 수 없기 때문에 break 처리하여 해당 순회를 멈춤\n",
    "                if j+idx < 0 or j+idx >= 8 or j+((N-1)-idx) < 0 or j+((N-1)-idx) >= 8:\n",
    "                    break\n",
    "                # 만약 마주보는 글자가 다르다면, 누적한 count 값을 초기화 하고, break 처리하여 해당 순회를 멈춤\n",
    "                if arr[i][j+idx] != arr[i][j+((N-1)-idx)]:\n",
    "                    count = 0\n",
    "                    break\n",
    "                # 이상없이 순회가 끝났다면, count를 누적함\n",
    "                else:\n",
    "                    count += 1     \n",
    "            # 이상없이 N//2 순회가 끝났다면, t_count를 누적함\n",
    "            if count == N//2:\n",
    "                t_count += 1\n",
    "                count = 0\n",
    "\n",
    "            for idx in range(N//2):\n",
    "                # 범위에서 벗어나면, 해당 문자는 회문이 될 수 없기 때문에 break 처리\n",
    "                if j+idx < 0 or j+idx >= 8 or j+((N-1)-idx) < 0 or j+((N-1)-idx) >= 8:\n",
    "                    break\n",
    "                # 만약 마주보는 글자가 다르다면, 누적한 count 값을 초기화 하고, break 처리하여 해당 순회를 멈춤\n",
    "                if arr[j+idx][i] != arr[j+((N-1)-idx)][i]:\n",
    "                    count = 0\n",
    "                    break\n",
    "                # 이상없이 순회가 끝났다면, count를 누적함\n",
    "                else:\n",
    "                    count += 1    \n",
    "            # 이상없이 N//2 순회가 끝났다면, t_count를 누적함 \n",
    "            if count == N//2:\n",
    "                t_count += 1\n",
    "                count = 0\n",
    "  \n",
    "\n",
    "    print(f'#{time} {t_count}')\n"
   ]
  }
 ],
 "metadata": {
  "kernelspec": {
   "display_name": "Python 3",
   "language": "python",
   "name": "python3"
  },
  "language_info": {
   "codemirror_mode": {
    "name": "ipython",
    "version": 3
   },
   "file_extension": ".py",
   "mimetype": "text/x-python",
   "name": "python",
   "nbconvert_exporter": "python",
   "pygments_lexer": "ipython3",
   "version": "3.11.9"
  }
 },
 "nbformat": 4,
 "nbformat_minor": 5
}
