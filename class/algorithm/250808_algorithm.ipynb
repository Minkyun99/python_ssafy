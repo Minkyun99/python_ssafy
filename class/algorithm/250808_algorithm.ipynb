{
 "cells": [
  {
   "cell_type": "markdown",
   "id": "74283cdd",
   "metadata": {},
   "source": [
    "## ⭐ String\n",
    "컴퓨터가 문자를 저장하는 방법을 배울 수 있다.  \n",
    "\n",
    "##### ⏩ 코드체계\n",
    "문자에 대응되는 숫자를 정한 것  \n",
    "- ex) 영여는 대소문자 52자 이므로 6비트(64가지 경우)면 저장할 수 있음\n",
    "\n",
    "```\n",
    "'a' --> 000000(0) 과 같이 6비트 이진수를 배정하여 사용함\n",
    "```\n",
    "\n",
    "코드체계는 왜 생겼나?\n",
    "- 네트워크가 발전되기 전 미국의 각 지역 별로 코드체계를 정해 놓고 사용함\n",
    "- 네트워크가 발전하면서 서로 정보를 주고 받을 때 정보를 달리 해석한다는 문제가 생김\n",
    "- 혼동을 피하기 위해 표준안을 만들기로 함\n",
    "\n",
    "코드체계 개선\n",
    "- 1967년 미국에서 ASCII 라는 문자 인코딩 표준이 제정됨\n",
    "- ASCII는 7-bit 인코딩으로 128문자를 표현하며 33개의 출력 불가능한 제어 문자들과 공백을 비롯한 95개의 출력 가능한 문자들로 이루어짐\n",
    "  \n",
    "![image.png](./img/ASCII.png)  \n",
    "\n",
    "##### ✔️ 확장 아스키\n",
    "- 표준 문자 이외의 악센트 문자, 도형 문자, 특수 문자, 특수 기호 등 부가적인 문자를 128개 추가\n",
    "- 표준 아스키는 7-bit를 사용하여 문자를 표현, 확장 아스키는 1Byte 내의 8-bit를 모두 사용함으로써 추가적인 문자를 표현할 수 있음\n",
    "  \n",
    "![image.png](./img/extra_ASCII.png)  \n",
    "\n",
    "##### ✔️ 유니코드\n",
    "- 컴퓨터가 발전하면서 미국 뿐만 아니라 각 나라에서 컴퓨터가 발전함\n",
    "- 각 국가들은 자국의 문자를 표현하기 위하여 코드체계를 만들어서 사용하게 됨\n",
    "  --> 우리나라도 한글 코드체계를 만들어 사용했고, 조합형/완성형 두 종류를 가짐\n",
    "- 인터넷이 전 세계로 발전하면서 ASCII를 만들기 전과 같은 문제가 국가 사이에 정보를 주고 받을 때 발생함\n",
    "- 자국의 코드체계를 타국가가 가지고 있지 않으면 정보를 잘못 해석 할 수 밖에 없음\n",
    "- 다국어 처리를 위해 표준인 유니코드를 만듦\n",
    "  \n",
    "![image.png](./img/unicode.png)  \n",
    "\n",
    "##### ✔️ 유니코드 Character Set\n",
    "- 유니코드도 다시 Character Set으로 분류됨\n",
    "- UCS-2\n",
    "- USC-4\n",
    "- 유니코드를 저장하는 변수의 크기를 정의함\n",
    "- 파일을 읽을 때 UCS-2 / ICS-4 인지 인식하고 각 경우를 구분해서 모두 다르게 구현해야 하는 문제가 발생"
   ]
  },
  {
   "cell_type": "code",
   "execution_count": null,
   "id": "a8122b70",
   "metadata": {},
   "outputs": [
    {
     "name": "stdout",
     "output_type": "stream",
     "text": [
      "/\\B364\n"
     ]
    }
   ],
   "source": [
    "print('\\\\B364')"
   ]
  },
  {
   "cell_type": "markdown",
   "id": "e97beec0",
   "metadata": {},
   "source": [
    "## ⭐ python 인코딩"
   ]
  }
 ],
 "metadata": {
  "kernelspec": {
   "display_name": "Python 3",
   "language": "python",
   "name": "python3"
  },
  "language_info": {
   "codemirror_mode": {
    "name": "ipython",
    "version": 3
   },
   "file_extension": ".py",
   "mimetype": "text/x-python",
   "name": "python",
   "nbconvert_exporter": "python",
   "pygments_lexer": "ipython3",
   "version": "3.11.9"
  }
 },
 "nbformat": 4,
 "nbformat_minor": 5
}
