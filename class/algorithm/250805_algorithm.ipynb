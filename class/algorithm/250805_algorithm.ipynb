{
 "cells": [
  {
   "cell_type": "markdown",
   "id": "1ea9aabe",
   "metadata": {},
   "source": [
    "## ⭐ 알고리즘2\n",
    "\n",
    "## ⭐ 정렬(sort)\n",
    "2개 의상의 자료를 키에 의해 작은 값부터 큰 값 혹은 그 반대의 순서대로 재배열하는 알고리즘\n",
    "\n",
    "- 오름차순 : ascending\n",
    "- 내림차순 : descending\n",
    "\n",
    "1. 버블정렬 : 인접한 두 개의 원소를 비교하며 자리를 계속 교환하는 방식 (시간 복잡도 : O(n)^2)   \n",
    " -> 거의 사용하지 않음\n",
    "2. 카운터정렬 : 항목들의 순서를 결정하기 위해 집합에 각 항목이 몇 개씩 있는지 세는 작업을 하여, 선형 시간에 정렬하는 효율적인 방식 (시간 복잡도 : O(n+k))"
   ]
  },
  {
   "cell_type": "markdown",
   "id": "5b499a15",
   "metadata": {},
   "source": [
    "## ✍️ 카운팅 정렬\n",
    "1. 정수나 정수로 표현할 수 있는 자료에 대해서만 적용 가능  \n",
    "- 각 항목의 발생 회수를 기록하기 위해, 정수 항목으로 인덱스 되는 카운트들의 배열을 사용하기 때문\n",
    "2. 카운트들을 위한 충분한 공간을 할당하려면 집합 내의 가장 큰 정수를 알아야 함\n",
    "\n",
    "```\n",
    "시간 복잡도\n",
    "- O(n+k) : n은 리스트 길이, k는 정수의 최댓값\n",
    "```\n",
    "\n",
    "카운팅 정렬 과정 예시\n",
    "1. DATA에서 각 항목들의 발생 횟수를 세고, 정수 항목들로 직접 인덱스 되는 카운트 배열 COUNTS에 저장한다.\n",
    "2. 정렬된 집합에서 각 항목의 앞에 위치할 항목의 개수를 반영하기 위해 COUNTS의 원소를 조정한다.\n",
    "3. DATA의 마지막 원소 1의 발생 횟수 COUNTS[1]을 감소시키고 TEMP에 1을 삽입한다."
   ]
  },
  {
   "cell_type": "code",
   "execution_count": 3,
   "id": "b9274932",
   "metadata": {},
   "outputs": [
    {
     "name": "stdout",
     "output_type": "stream",
     "text": [
      "[1, 3, 1, 1, 2]\n",
      "[1, 4, 5, 6, 8]\n"
     ]
    }
   ],
   "source": [
    "def counting_sort(DATA, TEMP, k):\n",
    "    COUNTS = [0] * (k+1)\n",
    "\n",
    "    # 1단계\n",
    "    for i in range(len(DATA)): # DATA[i] 발생횟수 기록\n",
    "        COUNTS[DATA[i]] += 1\n",
    "    print(COUNTS)\n",
    "    \n",
    "    # 2단계 : COUNTS 값 조정 (누적)\n",
    "    for i in range(1, k+1):\n",
    "        COUNTS[i] += COUNTS[i-1]\n",
    "    print(COUNTS)\n",
    "    \n",
    "    # 3단계 : 누적값에 따라 위치 조정\n",
    "    for i in range(len(DATA)-1, -1, -1):\n",
    "        COUNTS[DATA[i]] -= 1\n",
    "        TEMP[COUNTS[DATA[i]]] = DATA[i] \n",
    "\n",
    "arr = [0, 4, 1, 3, 1, 2, 4, 1]\n",
    "result = [0] * len(arr)\n",
    "\n",
    "counting_sort(arr, result, max(arr))\n",
    "# print(result)"
   ]
  },
  {
   "cell_type": "markdown",
   "id": "cbbdfce3",
   "metadata": {},
   "source": [
    "## 완전검색\n",
    "\n",
    "##### Baby-gin Game\n",
    "![image.png](baby-gin_Game:image.png)"
   ]
  }
 ],
 "metadata": {
  "kernelspec": {
   "display_name": "Python 3",
   "language": "python",
   "name": "python3"
  },
  "language_info": {
   "codemirror_mode": {
    "name": "ipython",
    "version": 3
   },
   "file_extension": ".py",
   "mimetype": "text/x-python",
   "name": "python",
   "nbconvert_exporter": "python",
   "pygments_lexer": "ipython3",
   "version": "3.11.9"
  }
 },
 "nbformat": 4,
 "nbformat_minor": 5
}
