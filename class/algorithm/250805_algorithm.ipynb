{
 "cells": [
  {
   "cell_type": "markdown",
   "id": "1ea9aabe",
   "metadata": {},
   "source": [
    "## ⭐ 알고리즘2\n",
    "\n",
    "## ⭐ 정렬(sort)\n",
    "2개 의상의 자료를 키에 의해 작은 값부터 큰 값 혹은 그 반대의 순서대로 재배열하는 알고리즘\n",
    "\n",
    "- 오름차순 : ascending\n",
    "- 내림차순 : descending\n",
    "\n",
    "1. 버블정렬 : 인접한 두 개의 원소를 비교하며 자리를 계속 교환하는 방식 (시간 복잡도 : O(n)^2)   \n",
    " -> 거의 사용하지 않음\n",
    "2. 카운터정렬 : 항목들의 순서를 결정하기 위해 집합에 각 항목이 몇 개씩 있는지 세는 작업을 하여, 선형 시간에 정렬하는 효율적인 방식 (시간 복잡도 : O(n+k))"
   ]
  },
  {
   "cell_type": "markdown",
   "id": "5b499a15",
   "metadata": {},
   "source": [
    "## ✍️ 카운팅 정렬\n",
    "1. 정수나 정수로 표현할 수 있는 자료에 대해서만 적용 가능  \n",
    "- 각 항목의 발생 회수를 기록하기 위해, 정수 항목으로 인덱스 되는 카운트들의 배열을 사용하기 때문  \n",
    "2. 카운트들을 위한 충분한 공간을 할당하려면 집합 내의 가장 큰 정수를 알아야 함  \n",
    "\n",
    "```\n",
    "시간 복잡도\n",
    "- O(n+k) : n은 리스트 길이, k는 정수의 최댓값\n",
    "```\n",
    "\n",
    "카운팅 정렬 과정 예시  \n",
    "1. DATA에서 각 항목들의 발생 횟수를 세고, 정수 항목들로 직접 인덱스 되는 카운트 배열 COUNTS에 저장한다.  \n",
    "2. 정렬된 집합에서 각 항목의 앞에 위치할 항목의 개수를 반영하기 위해 COUNTS의 원소를 조정한다.  \n",
    "3. DATA의 마지막 원소 1의 발생 횟수 COUNTS[1]을 감소시키고 TEMP에 1을 삽입한다.  "
   ]
  },
  {
   "cell_type": "code",
   "execution_count": 176,
   "id": "b9274932",
   "metadata": {},
   "outputs": [
    {
     "name": "stdout",
     "output_type": "stream",
     "text": [
      "[1, 3, 1, 1, 2]\n",
      "[1, 4, 5, 6, 8]\n",
      "[0, 1, 1, 1, 2, 3, 4, 4]\n"
     ]
    }
   ],
   "source": [
    "def counting_sort(DATA, TEMP, k):\n",
    "    COUNTS = [0] * (k+1)\n",
    "\n",
    "    # 1단계\n",
    "    for i in range(len(DATA)): # DATA[i] 발생횟수 기록\n",
    "        COUNTS[DATA[i]] += 1\n",
    "    print(COUNTS)\n",
    "    \n",
    "    # 2단계 : COUNTS 값 조정 (누적)\n",
    "    for i in range(1, k+1):\n",
    "        COUNTS[i] += COUNTS[i-1]\n",
    "    print(COUNTS)\n",
    "    \n",
    "    # 3단계 : 누적값에 따라 위치 조정\n",
    "    for i in range(len(DATA)-1, -1, -1):\n",
    "        COUNTS[DATA[i]] -= 1\n",
    "        TEMP[COUNTS[DATA[i]]] = DATA[i] \n",
    "\n",
    "arr = [0, 4, 1, 3, 1, 2, 4, 1]\n",
    "result = [0] * len(arr)\n",
    "\n",
    "counting_sort(arr, result, max(arr))\n",
    "print(result)"
   ]
  },
  {
   "cell_type": "markdown",
   "id": "cbbdfce3",
   "metadata": {},
   "source": [
    "## ⭐ 완전검색\n",
    "문제의 해법으로 생각할 수 있는 모든 경우의 수를 나열해보고 확인하는 기법  \n",
    "\n",
    "1. 모든 경우의 수를 생성하고 테스트하기 때문에 수행 속도는 느리지만, 해답을 찾아내지 못할 확률이 작습니다.  \n",
    "2. 작격검정 평가 등에서 주어진 무넺를 풀 때, 우선 완전 검색으로 접근하여 해답을 도출한 후, 성능 개선을 위해 다른 알고리즘을 사용하고 해답을 확인하는 것이 바람직합니다.  \n",
    "\n",
    "##### Baby-gin Game\n",
    "baby-gin 게임의 경우, 완전검색으로 답을 구할 수 있음\n",
    "![image.png](../algorithm/img/baby-gin_Game.png)\n",
    "![image.png](../algorithm/img/baby_gin_game2.png)\n"
   ]
  },
  {
   "cell_type": "markdown",
   "id": "47357538",
   "metadata": {},
   "source": [
    "## ⭐ 순열\n",
    "1. 서로 다른 것들 중 몇 개를 뽑아서 한 줄로 나열하는 것입니다.  \n",
    "2. 서로 다른 n개 중 r개를 택하는 순열은 아래와 같이 표현합니다.  \n",
    "```\n",
    "nPr\n",
    "```\n",
    "3. 그리고 nPr은 다음과 같은 식이 성립합니다.  \n",
    "```\n",
    "nPr = n*(n-1)*(n-2)*(n-3)* ... *(n-r+1)\n",
    "```\n",
    "4. nPn = n!이라고 표기하며 Factorial이라 부릅니다.  \n",
    "```\n",
    "n! = n*(n-1)*(n-2)* ... * *2*1\n",
    "```"
   ]
  },
  {
   "cell_type": "code",
   "execution_count": null,
   "id": "8b703eed",
   "metadata": {},
   "outputs": [],
   "source": [
    "import itertools\n",
    "\n",
    "arr =[1, 2, 3, 4, 5, 6, 7, 8, 9, 10, 11, 12, 13, 14, 15, 16, 17, 18, 19, 20]\n",
    "nPr = list(itertools.permutations(arr,5))\n",
    "for x in nPr:\n",
    "    print(x)"
   ]
  },
  {
   "cell_type": "code",
   "execution_count": null,
   "id": "a716fe48",
   "metadata": {},
   "outputs": [
    {
     "name": "stdout",
     "output_type": "stream",
     "text": [
      "1 2 3\n",
      "1 3 2\n",
      "2 1 3\n",
      "2 3 1\n",
      "3 1 2\n",
      "3 2 1\n"
     ]
    }
   ],
   "source": [
    "# 1,2,3으로 순열 만들기\n",
    "# 동일한 숫자가 포함되지 않게, loop를 이용하여 구현\n",
    "\n",
    "for i1 in [1,2,3]:\n",
    "    for i2 in [1,2,3]:\n",
    "        if i1 != i2: # i1과 i2의 숫자가 겹치지 않게 해야 함\n",
    "            for i3 in [1,2,3]:\n",
    "                if i3 != i1 and i3 != i2: # i3과 나머지 숫자가 겹치지 않게 해야 함\n",
    "                    print(i1, i2, i3)\n"
   ]
  },
  {
   "cell_type": "markdown",
   "id": "2a1762db",
   "metadata": {},
   "source": [
    "## ⭐ 탐욕 알고리즘  \n",
    "여러 경우 중 하나를 결정해야 할 때마다 ◾그 순간에 최적◾이라고 생각되는 것을 선택해 나가는 방식으로 진행하여 최종적인 해답에 도달하는 방식   \n",
    "\n",
    "##### ✔️ 탐욕 알고리즘 특징  \n",
    "1. 최적 해를 구하는 데 사용되는 근시안적인 방법    \n",
    "2. 각 선택의 시점에서 이루어지는 결정은 지역적으로는 최적이지만, 그 선택들을 계속 수집하여 최종적인 해답을 만들었다고 하여, 그것이 최적이라는 보장은 없음  \n",
    "3. 일반적으로, 머릿속에 떠오르는 생각을 검증 없이 바로 구현하면 Greedy 접근임  \n",
    "\n",
    "##### ✔️ 탐욕 알고리즘 예시\n",
    "1. 거스름돈 줄이기  \n",
    "-> 어떻게 하면 손님에게 거스름돈으로 주는 지폐와 동전의 개수를 최소한으로 줄일 수 있을까?  \n",
    "\n",
    "##### ✔️ 탐욕 알고리즘 단계\n",
    "1. 해 선택 : 멀리 내다볼 것 없이 가장 좋은 해를 선택  \n",
    "-> 단위가 큰 동전으로만 거스름돈을 만들면 동전의 개수가 줄어들므로 현재 고를 수 있는 가장 단위가 큰 동전을 하나 골라 거스름돈에 추가함  \n",
    "2. 실행 가능성 검사   : 거스름돈이 손님에게 내드려야 할 액수를 초과하는지 확인  \n",
    "-> 초과한다면 마지막에 추가한 동전을 거스름돈에서 빼고, 1번으로 돌아가서 현재보다 한 단계 작은 단위의 동전을 추가함  \n",
    "3. 해 선택 : 거스름돈 문제의 해는 당연히 거스름돈이 손님에게 내드려야 하는 액수와 일치해야 함  \n",
    "-> 더 드려도, 덜드려도 안되기 때문에 거스름돈을 확인해서 액수에 모자라면 다시 1번으로 돌아가서 거스름돈에 추가할 동전을 고름  "
   ]
  },
  {
   "cell_type": "code",
   "execution_count": null,
   "id": "667dd694",
   "metadata": {},
   "outputs": [
    {
     "name": "stdout",
     "output_type": "stream",
     "text": [
      "0\n",
      "0\n",
      "1\n",
      "2\n",
      "3\n",
      "0\n",
      "Baby Gin\n"
     ]
    }
   ],
   "source": [
    "# 입력예시 444345\n",
    "\n",
    "arr1 = int(input())\n",
    "arr2 = [int(x) for x in input()] # for 문으로 배열에 값을 하나씩 차례대로 넣을 수 있음\n",
    "c = [0] * 12\n",
    "# print(arr1)\n",
    "\n",
    "\n",
    "for i in range(6):\n",
    "    c[arr1%10] += 1\n",
    "    arr1 //= 10\n",
    "\n",
    "i = 0\n",
    "tri = run = 0\n",
    "while i < 10:\n",
    "        if c[i] >= 3:\n",
    "            c[i] -= 3\n",
    "            tri += 1\n",
    "            continue\n",
    "        if c[i] >= 1 and c[i+1] >= 1 and c[i+2] >=1:\n",
    "            c[i] -= 1\n",
    "            c[i+1] -= 1\n",
    "            c[i+2] -= 1\n",
    "            run += 1\n",
    "            continue\n",
    "        i += 1\n",
    "\n",
    "if run + tri == 2 : print(\"Baby Gin\")\n",
    "else : print(\"Lose\")\n",
    "\n"
   ]
  },
  {
   "cell_type": "markdown",
   "id": "b298d7d6",
   "metadata": {},
   "source": [
    "## ✍️ 연습문제"
   ]
  },
  {
   "cell_type": "markdown",
   "id": "76d82f99",
   "metadata": {},
   "source": [
    "##### 배열1_숫자카드_확인용\n",
    "\n",
    "1. 0에서 9까지 숫자가 적힌 N장의 카드가 주어진다.  \n",
    "2. 가장 많은 카드에 적힌 숫자와 카드가 몇 장인지 출력하는 프로그램을 만드시오. 카드 장수가 같을 때는 적힌 숫자가 큰 쪽을 출력한다.  \n",
    "\n",
    "[입력]  \n",
    "1. 첫 줄에 테스트 케이스 개수 T가 주어진다.  ( 1 ≤ T ≤ 50 )  \n",
    "2. 다음 줄부터 테스트케이스의 첫 줄에 카드 장수 N이 주어진다. ( 5 ≤ N ≤ 100 )  \n",
    "3. 다음 줄에 N개의 숫자 ai가 여백없이 주어진다. (0으로 시작할 수도 있다.)  ( 0 ≤ ai ≤ 9 )   \n",
    "\n",
    "[출력]   \n",
    "1. 각 줄마다 \"#T\" (T는 테스트 케이스 번호)를 출력한 뒤, 가장 많은 카드의 숫자와 장 수를 차례로 출력한다.  "
   ]
  },
  {
   "cell_type": "code",
   "execution_count": null,
   "id": "70e690ff",
   "metadata": {},
   "outputs": [
    {
     "name": "stdout",
     "output_type": "stream",
     "text": [
      "[1, 1, 1, 0, 0, 0, 0, 1, 1, 0]\n",
      "#1 8 1\n"
     ]
    }
   ],
   "source": [
    "T = int(input())\n",
    "\n",
    "for time in range(1, T+1):\n",
    "    c = [0] * 10\n",
    "    N = int(input())\n",
    "    v = [int(x) for x in input()]\n",
    "\n",
    "    for idx in range(len(c)):\n",
    "        for i in v:\n",
    "            if idx == i:\n",
    "                c[idx] += 1\n",
    "    print(c)\n",
    "    first_value = c[0]\n",
    "    index = 0\n",
    "    for j in range(1, len(c)): # dirty work\n",
    "        if first_value <= c[j]:\n",
    "            first_value = c[j]\n",
    "            index = j\n",
    "    print(f'#{time} {index} {c[index]}')"
   ]
  },
  {
   "cell_type": "markdown",
   "id": "f0bfe859",
   "metadata": {},
   "source": [
    "##### Flatten\n",
    "\n",
    "한 쪽 벽면에 다음과 같이 노란색 상자들이 쌓여 있다.  \n",
    "\n",
    "높은 곳의 상자를 낮은 곳에 옮기는 방식으로 최고점과 최저점의 간격을 줄이는 작업을 평탄화라고 한다.  \n",
    "\n",
    "평탄화를 모두 수행하고 나면, 가장 높은 곳과 가장 낮은 곳의 차이가 최대 1 이내가 된다.  \n",
    "\n",
    "평탄화 작업을 위해서 상자를 옮기는 작업 횟수에 제한이 걸려있을 때, 제한된 횟수만큼 옮기는 작업을 한 후 최고점과 최저점의 차이를 반환하는 프로그램을 작성하시오.  \n",
    "\n",
    "[제약 사항]  \n",
    "\n",
    "1. 가로 길이는 항상 100으로 주어진다.  \n",
    "2. 모든 위치에서 상자의 높이는 1이상 100이하로 주어진다.  \n",
    "3. 덤프 횟수는 1이상 1000이하로 주어진다.  \n",
    "4. 주어진 덤프 횟수 이내에 평탄화가 완료되면 더 이상 덤프를 수행할 수 없으므로 그 때의 최고점과 최저점의 높이 차를 반환한다    \n",
    "(주어진 data에 따라 0 또는 1이 된다).  \n",
    "\n",
    "[입력]  \n",
    "\n",
    "1. 총 10개의 테스트 케이스가 주어지며, 각 테스트 케이스의 첫 번째 줄에는 덤프 횟수가 주어진다. 그리고 다음 줄에 각 상자의 높이값이 주어진다.  \n",
    "\n",
    "[출력]  \n",
    "\n",
    "2. '#'부호와 함께 테스트 케이스의 번호를 출력하고, 공백 문자 후 테스트 케이스의 최고점과 최저점의 높이 차를 출력한다.  \n"
   ]
  },
  {
   "cell_type": "code",
   "execution_count": null,
   "id": "44de72bc",
   "metadata": {},
   "outputs": [
    {
     "name": "stdout",
     "output_type": "stream",
     "text": [
      "24\n",
      "24\n",
      "24\n",
      "24\n",
      "24\n",
      "24\n",
      "24\n",
      "24\n",
      "24\n",
      "24\n",
      "24\n",
      "24\n",
      "24\n",
      "24\n",
      "24\n",
      "24\n",
      "24\n",
      "24\n",
      "[0, 1, 0, 1, 0, 1, 1, 0, 0, 0, 0, 0, 0, 0, 0, 0, 0, 0, 0, 0, 0, 0, 1, 0, 0, 1, 0, 0, 2, 0, 0, 0, 0, 0, 0, 1, 0, 1, 0, 0, 0, 0, 1, 1, 0, 0, 1, 0, 0, 0, 0, 0, 0, 0, 1, 0, 0, 0, 0, 1, 0, 0, 1, 1, 0, 1, 0, 0, 1, 0, 1, 0, 0, 0, 0, 0, 0, 0, 0, 1, 0, 0, 1, 1, 0, 0, 0, 0, 0, 0, 0, 0, 2, 1, 0, 0, 1, 0, 0, 0]\n"
     ]
    }
   ],
   "source": [
    "# Flatten\n",
    "\n",
    "v =[42, 68, 35, 1, 70, 25, 79, 59, 63, 65, 6, 46, 82, 28, 62, 92, 96, 43, 28, 37, 92, 5, 3, 54, 93, 83, 22]\n",
    "c = [0] * 100\n",
    "dump = 18\n",
    "\n",
    "for i in range(len(c)):\n",
    "    for idx in v:\n",
    "        if i == idx:\n",
    "            c[i] += 1\n",
    "\n",
    "\n",
    "for _ in range(dump):\n",
    "    new_arr = []\n",
    "    max_l = 0\n",
    "    first_value = c[0]\n",
    "\n",
    "    for i in range(len(c)):\n",
    "        if c[i] != 0:\n",
    "            new_arr.append(i)\n",
    "            max_l = len(new_arr)-1\n",
    "\n",
    "    for idx in range(len(c)):\n",
    "        if first_value > c[idx]:\n",
    "            first_value = idx\n",
    "            print(first_value)\n",
    "\n",
    "    c[new_arr[max_l]] -= 1\n",
    "    print(first_value)\n",
    "    c[first_value] += 1\n",
    "\n",
    "    # print(first_value, new_arr[max_l])\n",
    "\n",
    "print(c)\n",
    "\n",
    "\n"
   ]
  },
  {
   "cell_type": "code",
   "execution_count": 175,
   "id": "a4aaa940",
   "metadata": {},
   "outputs": [],
   "source": [
    "# Flatten\n",
    "\n",
    "# v =[42, 68, 35, 1, 70, 25, 79, 59, 63, 65, 6, 46, 82, 28, 62, 92, 96, 43, 28, 37, 92, 5, 3, 54, 93, 83, 22]\n",
    "c = [0] * 100\n",
    "# dump = 18\n",
    "\n",
    "\n",
    "dump = int(input())\n",
    "v = list[map(int, input().split())]\n",
    "\n",
    "for i in range(len(c)):\n",
    "    for idx in v:\n",
    "        if i == idx:\n",
    "            c[i] += 1\n",
    "\n",
    "\n",
    "for _ in range(dump):\n",
    "    new_arr = []\n",
    "    max_l = 0\n",
    "    min_l = 0\n",
    "    for i in range(len(c)):\n",
    "        if c[i] != 0:\n",
    "            new_arr.append(i)\n",
    "            max_l = len(new_arr)-1\n",
    "            min_l = new_arr[0]\n",
    "            print(max_l)\n",
    "#     if new_arr[0] < new_arr[max_l]:\n",
    "#         c[new_arr[max_l]] -= 1\n",
    "#         c[new_arr[0]] -= 1\n",
    "#         c[new_arr[max_l]-1] += 1\n",
    "#         c[new_arr[0]+1] += 1\n",
    "\n",
    "\n",
    "# last_l = len(new_arr) -1\n",
    "# last_value = new_arr[last_l] - new_arr[0]\n",
    "# print(last_value)\n",
    "    \n",
    "            \n",
    "    \n",
    "\n",
    "\n"
   ]
  },
  {
   "cell_type": "code",
   "execution_count": null,
   "id": "5235c442",
   "metadata": {},
   "outputs": [],
   "source": [
    "# Flatten\n",
    "\n",
    "# v =[42, 68, 35, 1, 70, 25, 79, 59, 63, 65, 6, 46, 82, 28, 62, 92, 96, 43, 28, 37, 92, 5, 3, 54, 93, 83, 22]\n",
    "# dump = 18\n",
    "\n",
    "\n",
    "v = list[map(int, input().split())]\n",
    "dump = int(input())\n",
    "print(max(v))\n",
    "k = max(v)\n",
    "c = [0] * (k+1)\n",
    "temp = [0] * 100\n",
    "\n",
    "\n",
    "for i in range(len(c)):\n",
    "    for idx in v:\n",
    "        if i == idx:\n",
    "            c[i] += 1\n",
    "\n",
    "for i in range(1, len(v)+1):\n",
    "    c[i] += c[i-1]\n",
    "\n",
    "for i in range(len(v)-1, -1, -1):\n",
    "    c[v[i]] -= 1\n",
    "    temp[c[v[i]]] = v[i]\n",
    "\n",
    "print(temp)\n",
    "\n",
    "    \n",
    "    "
   ]
  },
  {
   "cell_type": "markdown",
   "id": "3d924480",
   "metadata": {},
   "source": [
    "##### 문제 5번\n",
    "##### 🚌 전기 버스\n",
    "\n",
    "A도시는 전기버스를 운행하려고 한다. 전기버스는 한번 충전으로 이동할 수 있는 정류장 수가 정해져 있어서, 중간에 충전기가 설치된 정류장을 만들기로 했다.  \n",
    "\n",
    "버스는 0번에서 출발해 종점인 N번 정류장까지 이동하고, 한번 충전으로 최대한 이동할 수 있는 정류장 수 K가 정해져 있다.  \n",
    "\n",
    "충전기가 설치된 M개의 정류장 번호가 주어질 때, 최소한 몇 번의 충전을 해야 종점에 도착할 수 있는지 출력하는 프로그램을 만드시오.  \n",
    "\n",
    "만약 충전기 설치가 잘못되어 종점에 도착할 수 없는 경우는 0을 출력한다. 출발지에는 항상 충전기가 설치되어 있지만 충전횟수에는 포함하지 않는다.  \n",
    "\n",
    "[예시]  \n",
    "![electric_bus.png](../algorithm/img/electric_bus.png)  \n",
    "\n",
    "\n",
    "1. 다음은 K = 3, N = 10, M = 5, 충전기가 설치된 정류장이 1, 3, 5, 7, 9인 경우의 예이다.  \n",
    "\n",
    "[입력]\n",
    " \n",
    "\n",
    "2. 첫 줄에 노선 수 T가 주어진다.  ( 1 ≤ T ≤ 50 )  \n",
    "\n",
    "\n",
    "3. 각 노선별로 K, N, M이 주어지고, 다음줄에 M개의 정류장 번호가 주어진다. ( 1 ≤ K, N, M ≤ 100 )  \n",
    " \n",
    "\n",
    "[출력]\n",
    "\n",
    "\n",
    "4. '#'과 노선번호, 빈칸에 이어 최소 충전횟수 또는 0을 출력한다.  "
   ]
  },
  {
   "cell_type": "code",
   "execution_count": 216,
   "id": "b3e497a3",
   "metadata": {},
   "outputs": [
    {
     "name": "stdout",
     "output_type": "stream",
     "text": [
      "[0, 1, 0, 1, 0, 1, 0, 1, 0, 1]\n",
      "3\n",
      "3\n"
     ]
    }
   ],
   "source": [
    "T = 1\n",
    "K = 3\n",
    "N = 10\n",
    "M = 5\n",
    "v = [1, 3, 5, 7, 9]\n",
    "\n",
    "Z = [0] * N\n",
    "\n",
    "for i in v:\n",
    "    for idx in range(len(Z)):\n",
    "        if i == idx:\n",
    "            Z[i] += 1\n",
    "print(Z)\n",
    "\n",
    "count = N\n",
    "fuel_count = 0\n",
    "fuel = K\n",
    "\n",
    "for time in (1, T+1):\n",
    "\n",
    "    while N > 0:\n",
    "        if K > 0 :\n",
    "            for i in Z[N:count]:\n",
    "                if i !=0:\n",
    "                    if fuel < i:\n",
    "                        fuel_count += 1\n",
    "                        fuel += K\n",
    "        elif K < 0:\n",
    "            print('운행종료')\n",
    "            break\n",
    "        N -= 1\n",
    "        fuel -= 1\n",
    "    print(fuel_count)\n",
    "                \n"
   ]
  },
  {
   "cell_type": "markdown",
   "id": "ca9b4045",
   "metadata": {},
   "source": [
    "##### 문제 4번\n",
    "최빈수 구하기"
   ]
  },
  {
   "cell_type": "code",
   "execution_count": 205,
   "id": "b5bd6442",
   "metadata": {},
   "outputs": [
    {
     "name": "stdout",
     "output_type": "stream",
     "text": [
      "#1 76\n",
      "#2 79\n",
      "#3 80\n"
     ]
    }
   ],
   "source": [
    "\n",
    "\n",
    "T = int(input())\n",
    "\n",
    "for time in range(1, T+1):\n",
    "    c = [0] * 100\n",
    "    index = 0   \n",
    "    case = int(input())\n",
    "    first_value = c[0]\n",
    "    \n",
    "    grade_list = list(map(int, input().split()))\n",
    "\n",
    "    for i in range(len(c)):\n",
    "        for idx in grade_list:\n",
    "            if i == idx:\n",
    "                c[i] += 1\n",
    "\n",
    "    for j in range(len(c)):\n",
    "        if first_value <= c[j]:\n",
    "            first_value = c[j]\n",
    "            index = j\n",
    "    print(f'#{case} {index}')"
   ]
  }
 ],
 "metadata": {
  "kernelspec": {
   "display_name": "Python 3",
   "language": "python",
   "name": "python3"
  },
  "language_info": {
   "codemirror_mode": {
    "name": "ipython",
    "version": 3
   },
   "file_extension": ".py",
   "mimetype": "text/x-python",
   "name": "python",
   "nbconvert_exporter": "python",
   "pygments_lexer": "ipython3",
   "version": "3.11.9"
  }
 },
 "nbformat": 4,
 "nbformat_minor": 5
}
