{
 "cells": [
  {
   "cell_type": "markdown",
   "id": "19b1406e",
   "metadata": {},
   "source": [
    "## ⭐ 관통 프로젝트\n",
    "\n",
    "```\n",
    "jupyter notebook 설치하기\n",
    "```\n",
    "\n",
    "1. jupyter 설치 : 터미널 창   \n",
    "pip install jupyter  \n",
    "\n",
    "2. jupyter 실행이 필요한 폴더로 접근  \n",
    "C:\\Users\\SSAFY\\Desktop\\code python -m notebook  \n",
    "\n",
    "❗ 만약, 실행이 되지 않는다면 jupyter가 제대로 설치되었는지 확인하기!  \n"
   ]
  },
  {
   "cell_type": "markdown",
   "id": "325d2548",
   "metadata": {},
   "source": [
    "# ⭐ 오늘의 목표\n",
    "\n",
    "수 많은 데이터를 모아서, 필요한 정보만을 이용하여 내가 원하는 정보 혹은 새로운 지식을 알아내는 과학 분야를 무엇이라고 하는가?\n",
    "\n",
    "```\n",
    "데이터 출처 : https://www.kaggle.com/datasets\n",
    "```"
   ]
  },
  {
   "cell_type": "markdown",
   "id": "41c4e43b",
   "metadata": {},
   "source": [
    "## ⭐ 데이터 사이언스\n",
    "\n",
    "- 데이터를 활용 + 원하는 정보를 추출하기 위해 다양한 (통계, 시스템, 알고리즘) 적용하는 융합 분야\n",
    "\n",
    "##### ✨5단계 프로세스\n",
    "1. 문제 정의\n",
    "2. 데이터 수집 --> kaggle\n",
    "3. 데이터 정제 (전처리)\n",
    "4. 데이터 분석 --> numpy, pandas\n",
    "5. 결과 공유 및 시각화 --> matplotlib"
   ]
  },
  {
   "cell_type": "markdown",
   "id": "90e64c96",
   "metadata": {},
   "source": [
    "## ⭐ pandas\n",
    "\n",
    "1. np.array('배열명')\n",
    "  -> 배열을 pandas 형태로 변환\n",
    "\n",
    "2. np.arange\n",
    "  -> python의 range와 비슷한 형태\n",
    "\n",
    "3. np.arange().reshape()\n",
    "  -> 2차원 배열로 변형\n",
    "  -> reshape의 x,y 축 곱이 배열의 개수와 맞지 않으면 에러가 발생함"
   ]
  },
  {
   "cell_type": "markdown",
   "id": "ff9e5e25",
   "metadata": {},
   "source": [
    "## ⭐ numpy"
   ]
  },
  {
   "cell_type": "markdown",
   "id": "227aa569",
   "metadata": {},
   "source": [
    "## ⭐ 데이터 수집 미션\n",
    "\n",
    "데이터가 많아야 해당 데이터를 학습시켜 인공지능을 더 완벽하게 만들어낼 수 있음\n",
    "\n",
    "1. 주제 : 일상사진 \n",
    "2. 기간 : 250804 ~ 250829\n",
    "3. 방식 : 구글폼 (본인 폴더) 제출\n",
    "4. 필수 참여!\n",
    "5. 개인 별 10장\n",
    "6. 파일 확장자는 jpg와 png만 가능"
   ]
  },
  {
   "cell_type": "code",
   "execution_count": null,
   "id": "8e92570e",
   "metadata": {},
   "outputs": [],
   "source": [
    "# Install dependencies as needed:\n",
    "# pip install kagglehub[pandas-datasets]\n",
    "import kagglehub\n",
    "from kagglehub import KaggleDatasetAdapter\n",
    "\n",
    "# Set the path to the file you'd like to load\n",
    "file_path = \"\"\n"
   ]
  },
  {
   "cell_type": "code",
   "execution_count": 2,
   "id": "5266af36",
   "metadata": {},
   "outputs": [
    {
     "ename": "ModuleNotFoundError",
     "evalue": "No module named 'kagglehub'",
     "output_type": "error",
     "traceback": [
      "\u001b[31m---------------------------------------------------------------------------\u001b[39m",
      "\u001b[31mModuleNotFoundError\u001b[39m                       Traceback (most recent call last)",
      "\u001b[36mCell\u001b[39m\u001b[36m \u001b[39m\u001b[32mIn[2]\u001b[39m\u001b[32m, line 1\u001b[39m\n\u001b[32m----> \u001b[39m\u001b[32m1\u001b[39m \u001b[38;5;28;01mimport\u001b[39;00m\u001b[38;5;250m \u001b[39m\u001b[34;01mkagglehub\u001b[39;00m\n\u001b[32m      2\u001b[39m \u001b[38;5;28;01mfrom\u001b[39;00m\u001b[38;5;250m \u001b[39m\u001b[34;01mkagglehub\u001b[39;00m\u001b[38;5;250m \u001b[39m\u001b[38;5;28;01mimport\u001b[39;00m KaggleDatasetAdapter\n\u001b[32m      4\u001b[39m \u001b[38;5;66;03m# Set the path to the file you'd like to load\u001b[39;00m\n",
      "\u001b[31mModuleNotFoundError\u001b[39m: No module named 'kagglehub'"
     ]
    }
   ],
   "source": [
    "\n",
    "import kagglehub\n",
    "from kagglehub import KaggleDatasetAdapter\n",
    "\n",
    "# Set the path to the file you'd like to load\n",
    "file_path = \"\"\n",
    "\n",
    "# Load the latest version\n",
    "df = kagglehub.load_dataset(\n",
    "  KaggleDatasetAdapter.PANDAS,\n",
    "  \"jainilcoder/netflix-stock-price-prediction\",\n",
    "  file_path,\n",
    "  # Provide any additional arguments like \n",
    "  # sql_query or pandas_kwargs. See the \n",
    "  # documenation for more information:\n",
    "  # https://github.com/Kaggle/kagglehub/blob/main/README.md#kaggledatasetadapterpandas\n",
    ")\n",
    "\n",
    "print(\"First 5 records:\", df.head())"
   ]
  },
  {
   "cell_type": "code",
   "execution_count": 5,
   "id": "ec964245",
   "metadata": {},
   "outputs": [
    {
     "ename": "ModuleNotFoundError",
     "evalue": "No module named 'kagglehub'",
     "output_type": "error",
     "traceback": [
      "\u001b[31m---------------------------------------------------------------------------\u001b[39m",
      "\u001b[31mModuleNotFoundError\u001b[39m                       Traceback (most recent call last)",
      "\u001b[36mCell\u001b[39m\u001b[36m \u001b[39m\u001b[32mIn[5]\u001b[39m\u001b[32m, line 1\u001b[39m\n\u001b[32m----> \u001b[39m\u001b[32m1\u001b[39m \u001b[38;5;28;01mimport\u001b[39;00m\u001b[38;5;250m \u001b[39m\u001b[34;01mkagglehub\u001b[39;00m\n\u001b[32m      3\u001b[39m \u001b[38;5;66;03m# Download latest version\u001b[39;00m\n\u001b[32m      4\u001b[39m path = kagglehub.dataset_download(\u001b[33m\"\u001b[39m\u001b[33mjainilcoder/netflix-stock-price-prediction\u001b[39m\u001b[33m\"\u001b[39m)\n",
      "\u001b[31mModuleNotFoundError\u001b[39m: No module named 'kagglehub'"
     ]
    }
   ],
   "source": [
    "import kagglehub\n",
    "\n",
    "# Download latest version\n",
    "path = kagglehub.dataset_download(\"jainilcoder/netflix-stock-price-prediction\")\n",
    "\n",
    "print(\"Path to dataset files:\", path)"
   ]
  }
 ],
 "metadata": {
  "kernelspec": {
   "display_name": "Python (test_1)",
   "language": "python",
   "name": "test_1"
  },
  "language_info": {
   "codemirror_mode": {
    "name": "ipython",
    "version": 3
   },
   "file_extension": ".py",
   "mimetype": "text/x-python",
   "name": "python",
   "nbconvert_exporter": "python",
   "pygments_lexer": "ipython3",
   "version": "3.11.9"
  }
 },
 "nbformat": 4,
 "nbformat_minor": 5
}
