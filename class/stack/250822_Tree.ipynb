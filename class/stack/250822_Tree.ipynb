{
 "cells": [
  {
   "cell_type": "markdown",
   "id": "ec9daeed",
   "metadata": {},
   "source": [
    "## ⭐ 트리\n",
    "\n",
    "##### 트리의 개념\n",
    "1. 비선형 구조\n",
    "2. 원소들 간에 1:n 관계를 가지는 자료구조\n",
    "3. 원소들 간에 계층 관계를 가지는 계층형 자료구조\n",
    "4. 상위 원소에서 하위 원소로 내려가면서 확장되는 트리 모양의 구조\n",
    "\n",
    "##### 트리의 정의\n",
    "1. 한 개 이상의 노드로 이루어진 유한 집합이며 다음 조건을 만족한다.\n",
    "- 노드 중 최상위 노드를 루트라 한다.\n",
    "- 나머지 노드들은 n개의 분리 집합 T1, ..., TN으로 분리될 수 있다.\n",
    "2. 이들 T1, ... , TN은 각각 하나의 트리가 되며 (재귀적 정의) 루트의 부 트리(subtree)라 한다.\n",
    "\n",
    "![image.png](./img/tree.png)  \n",
    "\n",
    "##### 용어 정리\n",
    "1. **노드(node)** - 트리의 원소\n",
    "- 트리 T의 노드 : A, B, C, D, E, F, G, H, I , J, K\n",
    "2. **간선 (edge)** : 노드를 연결하는 선. 부모 노드와 자식 노드를 연결\n",
    "3. **루트 노드 (root node)** : 트리의 시작 노드\n",
    "- 트리 T의 루트노드 : A\n",
    "3. **형제노드** : 같은 부모 노드의 자식 노드들\n",
    "- B, C, D는 형제 노드\n",
    "4. **조상노드** : 간선을 따라 루트 노드까지 이르는 경로에 있는 모든 노드들\n",
    "- K의 조상 노드 : F, B, A\n",
    "5. **서브트리** : 부모 노드와 연결된 간선을 끊었을 때 생성되는 트리\n",
    "6. **자손노드** : 서브 트리에 있는 하위 레벨의 노드들\n",
    "- B의 자손 노드 : E, F, K\n",
    "7. **노드의 차수** : 노드에 연결된 자식 노드의 수\n",
    "- B의 차수 = 2, C의 차수 = 1\n",
    "8. **트리의 차수** : 트리에 있는 노드의 차수 중에서 가장 큰 값\n",
    "- 트리 T의 차수 = 3\n",
    "9. **단말노드** : 차수가 0인 노드. 자식이 없는 노드\n",
    "10. **노드의 높이** : 루트에서 노드에 이르는 간선의 수. 노드의 레벨\n",
    "- B의 높이 = 1, F의 높이 = 2\n",
    "11. **트리의 높이** : 트리에 있는 노드의 높이 중에서 가장 큰 값. 최대 레벨\n",
    "- 트리 T의 높이 = 3\n",
    "\n",
    "![image.png](./img/tree1.png)  \n"
   ]
  },
  {
   "cell_type": "markdown",
   "id": "5d0164b0",
   "metadata": {},
   "source": [
    "## ⭐ 이진트리\n",
    "1. 모든 노드들이 2개의 서브트리를 갖는 특별한 형태의 트리\n",
    "2. 각 노드가 자식 노드를 최대한 2개까지만 가질 수 있는 트리\n",
    "- 왼쪽 자식 노드\n",
    "- 오른쪽 자식 노드\n",
    "3. 이진 트리의 예\n",
    "![image.png](./img/tree2.png)  \n",
    "\n",
    "##### ✔️ 이진 트리의 특성\n",
    "1. 레벨 i에서의 노드의 최대 개수는 2^i개\n",
    "2. 높이가 h인 이진 트리가 가질 수 있는 노드의 최소 개수는 (h+1)개가 되며, 최대 개수는 (2^(h+1)-1)개\n",
    "\n",
    "##### ✔️ 포화 이진 트리\n",
    "❗트리 구조 중, 포화 이진 트리는 루트노드가 1부터 시작함  \n",
    "1. 모든 레벨에 노드가 포화상태로 차 있는 이진 트리\n",
    "2. 높이가 h일 때, 최대의 노드의 개수인 (2^(h+1)-1)의 노드를 가진 이진 트리\n",
    "- 높이가 3일 때, 2^(3+1)-1=15 개의 노드를 갖습니다.\n",
    "3. 루트를 1번으로 하여 2^(h+1)-1까지 정해진 위치에 대한 노드 번호를 가짐\n",
    "![image.png](./img/tree3.png)  \n",
    "\n",
    "##### ✔️ 완전 이진 트리\n",
    "❗ 포화 이진 트리에서 가장 오른쪽 리프부터 제거해 나간 트리를 의미함  \n",
    "1. 높이가 h이고 노드 수가 n일 때, (단, 2^h <= n <= 2^(h+1)-1), 포화 이진 트리의 노드 번호 1번부터 n번까지 빈 자리가 없는 이진 트리\n",
    "![image.png](./img/tree4.png)  \n",
    "\n",
    "##### ✔️ 편향 이진 트리\n",
    "1. 높이가 h에 대한 최소 개수의 노드를 가지면서 한쪽 방향의 자식 노드만을 가진 이진 트리\n",
    "\n"
   ]
  },
  {
   "cell_type": "markdown",
   "id": "8c9d5358",
   "metadata": {},
   "source": [
    "## ⭐ 순회\n",
    "트리의 각 노드를 중복되지 않게 전부 방문하는 것  \n",
    "- 트리는 비선형구조이기 때문에 선형구조에서와 같이 선후 연결 관계를 알 수 없음\n",
    "\n",
    "##### ✔️ 순회\n",
    "트리의 노드들을 체계적으로 방문하는 것  \n",
    "\n",
    "##### 3가지의 기본적인 순회 방법\n",
    "![image.png](./img/tree5.png)   \n",
    "1. 전위순회 : VLR\n",
    "- 부모 노드 방문 후, 자식 노드를 좌/우 순서로 방문\n",
    "2. 중위순회 : LVR\n",
    "- 왼쪽 자식 노드, 부모 노드, 오른쪽 자식 노드 순으로 방문\n",
    "3. 후위순회 : LRV\n",
    "- 자식 노드를 좌/우 순서롤 방문한 후, 부모 노드로 방문\n",
    "\n",
    "\n"
   ]
  },
  {
   "cell_type": "code",
   "execution_count": 1,
   "id": "9d427ba3",
   "metadata": {},
   "outputs": [
    {
     "name": "stdout",
     "output_type": "stream",
     "text": [
      "전위 순회 결과: 1 2 4 5 3 "
     ]
    }
   ],
   "source": [
    "# 전위 순회\n",
    "# 수행 방법\n",
    "# 1. 현재 노드 n을 방문하여 처리함 -> V\n",
    "# 2. 현재 노드 n의 왼쪽 서브트리로 이동 -> L\n",
    "# 3. 현재 노드 n의 오른쪽 서브트리로 이동 -> R\n",
    "# 재귀적 호출을 통해 트리의 모든 노드를 빠짐없이 순회함\n",
    "\n",
    "# 노드를 정의하는 클래스\n",
    "class Node:\n",
    "    def __init__(self, data):\n",
    "        self.data = data\n",
    "        self.left = None\n",
    "        self.right = None\n",
    "\n",
    "# 전위 순회 함수\n",
    "def preorder_traversal(node):\n",
    "    if node is None:\n",
    "        return\n",
    "    \n",
    "    # 1. 현재 노드 방문 (출력)\n",
    "    print(node.data, end=' ')\n",
    "    \n",
    "    # 2. 왼쪽 서브트리 순회\n",
    "    preorder_traversal(node.left)\n",
    "    \n",
    "    # 3. 오른쪽 서브트리 순회\n",
    "    preorder_traversal(node.right)\n",
    "\n",
    "# 트리 구조 생성\n",
    "#      1\n",
    "#     / \\\n",
    "#    2   3\n",
    "#   / \\\n",
    "#  4   5\n",
    "\n",
    "root = Node(1)\n",
    "root.left = Node(2)\n",
    "root.right = Node(3)\n",
    "root.left.left = Node(4)\n",
    "root.left.right = Node(5)\n",
    "\n",
    "# 전위 순회 실행\n",
    "print(\"전위 순회 결과:\", end=' ')\n",
    "preorder_traversal(root)"
   ]
  },
  {
   "cell_type": "code",
   "execution_count": null,
   "id": "ac1bf776",
   "metadata": {},
   "outputs": [],
   "source": [
    "# 중위 순회\n",
    "# 수행 방법\n",
    "# 1. 현재 노드 n의 왼쪽 서브트리로 이동한다. -> L\n",
    "# 2. 현재 노드 n을 방문하여 처리한다. -> V\n",
    "# 3. 현재 노드 n의 오른쪽 서브트리로 이동한다. -> R\n",
    "\n"
   ]
  },
  {
   "cell_type": "code",
   "execution_count": null,
   "id": "2f028df9",
   "metadata": {},
   "outputs": [],
   "source": [
    "# 후위 순회\n",
    "# 수행 방법\n",
    "# 1. 현재 노드 n의 왼쪽 서브트리로 이동한다. -> L\n",
    "# 2. 현재 노드 n을 오른쪽 서브트리로 이동한다. -> R\n",
    "# 3. 현재 노드 n을 방문하여 처리한다. -> V\n"
   ]
  },
  {
   "cell_type": "markdown",
   "id": "c3466f9a",
   "metadata": {},
   "source": [
    "##### ✔️ 노드 번호의 성질\n",
    "1. 노드 번호가 i인 노드의 부모 노드 번호? i / 2\n",
    "2. 노드 번호가 i인 노드의 왼쪽 자식 노드 번호? 2 * i\n",
    "3. 노드 번호가 i인 노드의 오른쪽 자식 노드 번호? 2 * i + 1\n",
    "4. 레벨 n의 노드 번호 시작 번호는? 2^n\n",
    "\n",
    "![image.png](./img/tree6.png)  "
   ]
  },
  {
   "cell_type": "markdown",
   "id": "0ef93b05",
   "metadata": {},
   "source": [
    "## 오프라인 강사님 설명\n",
    "❗트리는 인접 정점이 최대 2개까지 올 수 있음  \n",
    "❗따라서 방문을 했는지, 하지 않았는지 표시할 필요가 없음\n",
    "\n",
    "##### Tree\n",
    "- 계층적 구조를 표현  \n",
    "- 트리는 무향 그래프임 -> 루트가 정해져 있을 수 있음  \n",
    "- 트리는 연결 컴포넌트 -> 트리에 속한 임의의 두 정점 u, v 사이에 경로가 반드시 하나만 존재  \n",
    "- 트리는 싸이클이 없음 -> 트리를 순회할 때 방문표시/체크를 안함\n",
    "- 트리에 속한 정점수가 |V|개 라면 간선수는 |V-1|개\n",
    "\n",
    "##### 이진트리 표현\n",
    "- 부모 - 자식 관계를 저장\n",
    "- 각 정점마다 자식 정보를 저장, 필요하면 부모 정보도 저장\n",
    "- 트리 순회 시, 자식 정보만 사용 : 문제 풀이 시 노드 수를 알기 때문에 공간을 생성해서 저장\n"
   ]
  },
  {
   "cell_type": "code",
   "execution_count": null,
   "id": "5b002edf",
   "metadata": {},
   "outputs": [
    {
     "name": "stdout",
     "output_type": "stream",
     "text": [
      "12 7 4 2 1 8 5 9 3 10 6 13 11 \n",
      "13\n"
     ]
    }
   ],
   "source": [
    "# 13 12\n",
    "# 1 2 1 3 2 4 3 5 3 6 4 7 5 8 5 9 6 10 6 11 7 12 11 13\n",
    "\n",
    "V, E = map(int, input().split())\n",
    "arr = list(map(int, input().split()))\n",
    "\n",
    "# L[v]는 v의 왼쪽 자식, R[v]는 v의 오른쪽 자식, P[v]는 v의 부모를 저장\n",
    "L = [0] * (V + 1)\n",
    "R = [0] * (V + 1)\n",
    "P = [0] * (V + 1)\n",
    "\n",
    "for i in range(0, E * 2, 2):\n",
    "    parent, child = arr[i], arr[i+1]\n",
    "    if L[parent] == 0:  # 왼쪽 자식이 없으면\n",
    "        L[parent] = child\n",
    "    else:  # 왼쪽 자식이 있으면 오른쪽에\n",
    "        R[parent] = child\n",
    "    P[child] = parent  # 자식의 부모를 설정\n",
    "\n",
    "cnt = 0\n",
    "def tree_traverse(v):\n",
    "    global cnt  # 전역 변수 cnt를 사용하겠다고 선언\n",
    "    if v == 0:\n",
    "        return\n",
    "    \n",
    "    # 중위 순회 (왼쪽 -> 뿌리 -> 오른쪽)\n",
    "    tree_traverse(L[v])  # 왼쪽 자식으로 이동\n",
    "    print(v, end=' ')    # 현재 노드 방문 (출력)\n",
    "    cnt += 1             # 노드 개수 증가\n",
    "    tree_traverse(R[v])  # 오른쪽 자식으로 이동\n",
    "\n",
    "# 루트 노드 찾기: P[i]가 0인 노드가 루트 노드\n",
    "root = 0\n",
    "for i in range(1, V + 1):\n",
    "    if P[i] == 0:\n",
    "        root = i\n",
    "        break\n",
    "\n",
    "# 중위 순회 실행\n",
    "tree_traverse(root)\n",
    "print()\n",
    "print(cnt)"
   ]
  },
  {
   "cell_type": "code",
   "execution_count": null,
   "id": "2735b5c3",
   "metadata": {},
   "outputs": [
    {
     "name": "stdout",
     "output_type": "stream",
     "text": [
      "4 1\n",
      "2 2\n",
      "5 3\n",
      "1 4\n",
      "6 5\n",
      "3 6\n"
     ]
    }
   ],
   "source": [
    "N = 6\n",
    "tree = [0, 4, 2, 6, 1, 3, 5]\n",
    "\n",
    "def inorder(v):\n",
    "    if v > N:\n",
    "        return\n",
    "    inorder(v * 2) # -> 짝수\n",
    "    print(v, tree[v])\n",
    "    inorder(v * 2 + 1) # -> 홀수\n",
    "\n",
    "inorder(1)"
   ]
  },
  {
   "cell_type": "markdown",
   "id": "9d4b15bd",
   "metadata": {},
   "source": [
    "## ✍️ 연습문제"
   ]
  },
  {
   "cell_type": "markdown",
   "id": "c4605836",
   "metadata": {},
   "source": [
    "##### 트리_subtree_확인용\n",
    "\n",
    "트리의 일부를 서브 트리라고 한다.   \n",
    "주어진 이진 트리에서 노드 N을 루트로 하는 서브 트리에 속한 노드의 개수를 알아내는 프로그램을 만드시오.  \n",
    "![image.png](./img/tree7.png)  \n",
    "주어지는 트리는 부모와 자식 노드 번호 사이에 특별한 규칙이 없고, 부모가 없는 노드가 전체의 루트 노드가 된다.  \n",
    "이런 경우의 트리는 부모 노드를 인덱스로 다음과 같은 방법으로 나타낼 수 있다. 자식 노드가 0인 경우는 노드가 자식이 없는 경우이다.  \n",
    "![image.png](./img/tree9.png)  \n",
    "\n",
    "[입력]  \n",
    "1. 첫 줄에 테스트케이스의 수 T가 주어진다. 1<=T<=50\n",
    "2. 다음 줄부터 테스트 케이스의 별로 첫 줄에 간선의 개수 E와 N이 주어지고, 다음 줄에 E개의 부모 자식 노드 번호 쌍이 주어진다.\n",
    "3. 노드 번호는 1번부터 E+1번까지 존재한다. 1<=E<=1000, 1<=N<=E+1\n",
    "\n",
    "[출력]    \n",
    "1. 각 줄마다 \"#T\" (T는 테스트 케이스 번호)를 출력한 뒤, 답을 출력한다."
   ]
  },
  {
   "cell_type": "code",
   "execution_count": null,
   "id": "890adcb2",
   "metadata": {},
   "outputs": [],
   "source": []
  }
 ],
 "metadata": {
  "kernelspec": {
   "display_name": "Python 3",
   "language": "python",
   "name": "python3"
  },
  "language_info": {
   "codemirror_mode": {
    "name": "ipython",
    "version": 3
   },
   "file_extension": ".py",
   "mimetype": "text/x-python",
   "name": "python",
   "nbconvert_exporter": "python",
   "pygments_lexer": "ipython3",
   "version": "3.11.9"
  }
 },
 "nbformat": 4,
 "nbformat_minor": 5
}
