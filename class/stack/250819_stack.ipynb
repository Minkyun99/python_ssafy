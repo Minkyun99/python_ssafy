{
 "cells": [
  {
   "cell_type": "markdown",
   "id": "3c41be1e",
   "metadata": {},
   "source": [
    "## Stack 응용\n",
    "##### 부분집합(poweset)\n",
    "어떤 집합의 공집합과 자기자신을 포함한 모든 부분  \n",
    "- 구하고자 하는 어떤 집합의 원소 개수가 n일 경우, 부분집합의 수는 2^n개이다.\n",
    "\n",
    "##### Backtracking 기법으로 powerset 만들기\n",
    "1. 앞에서 설명한 일반적인 Backtracking 접근 방법을 이용\n",
    "2. N개의 원소가 들어있는 집합의 2^n개의 부분집합을 \n",
    "- True 또는 false 값을 가지는 항목들로 구성된 n개의 배열을 만드는 방법을 이용\n",
    "3. 여기서 배열의 i번째 항목은 i번째의 원소가 부분집합의 값인지 아닌지를 나타내는 값\n",
    "\n",
    "![image.png](./img/stack21.png)  \n",
    "\n",
    "![image.png](./img/stack22.png)  "
   ]
  },
  {
   "cell_type": "code",
   "execution_count": null,
   "id": "ae906545",
   "metadata": {},
   "outputs": [
    {
     "name": "stdout",
     "output_type": "stream",
     "text": [
      "[0, 0, 0, 0]\n",
      "[0, 0, 0, 1]\n",
      "[0, 0, 1, 0]\n",
      "[0, 0, 1, 1]\n",
      "[0, 1, 0, 0]\n",
      "[0, 1, 0, 1]\n",
      "[0, 1, 1, 0]\n",
      "[0, 1, 1, 1]\n",
      "[1, 0, 0, 0]\n",
      "[1, 0, 0, 1]\n",
      "[1, 0, 1, 0]\n",
      "[1, 0, 1, 1]\n",
      "[1, 1, 0, 0]\n",
      "[1, 1, 0, 1]\n",
      "[1, 1, 1, 0]\n",
      "[1, 1, 1, 1]\n"
     ]
    }
   ],
   "source": [
    "# bit 표현으로 부분집합 만들기\n",
    "# range는 2번 돌림, 포함 할 건지, 말건지에 대한 2가지의 경우의 수가 있기 때문\n",
    "# bit의 원소가 4이므로 for문을 4번 돌려야 함\n",
    "\n",
    "bit = [0,0,0,0]\n",
    "\n",
    "for i in range(2):\n",
    "    bit[0] = i\n",
    "    for j in range(2):\n",
    "        bit[1] = j\n",
    "        for k in range(2):\n",
    "            bit[2] = k\n",
    "            for l in range(2):\n",
    "                bit[3] = l\n",
    "                print(bit)"
   ]
  },
  {
   "cell_type": "code",
   "execution_count": null,
   "id": "255d1639",
   "metadata": {},
   "outputs": [
    {
     "name": "stdout",
     "output_type": "stream",
     "text": [
      "[0, 0, 0]\n",
      "[0, 0, 1]\n",
      "[0, 1, 0]\n",
      "[0, 1, 1]\n",
      "[1, 0, 0]\n",
      "[1, 0, 1]\n",
      "[1, 1, 0]\n",
      "[1, 1, 1]\n"
     ]
    }
   ],
   "source": [
    "# 위 코드를 함수로 바꾸면 아래처럼 구현 가능함\n",
    "bits = [0] * 3\n",
    "N = len(bits)\n",
    "\n",
    "def backtrack(k):\n",
    "    if k == N :\n",
    "        print(bits)\n",
    "    else:\n",
    "        for i in range(2):\n",
    "            bits[k] = i\n",
    "            backtrack(k+1)\n",
    "backtrack((0))"
   ]
  },
  {
   "cell_type": "code",
   "execution_count": 2,
   "id": "38d0cc93",
   "metadata": {},
   "outputs": [
    {
     "name": "stdout",
     "output_type": "stream",
     "text": [
      "6 2\n"
     ]
    }
   ],
   "source": [
    "arr = [69, 10, 30, 16, 8, 31, 2, 22]\n",
    "N = len(arr)\n",
    "\n",
    "def find_min(l, r):\n",
    "    if l == r:\n",
    "        return l\n",
    "    else:\n",
    "        mid = (l+r) // 2\n",
    "        lmin = find_min(l, mid)\n",
    "        rmin = find_min(mid+1, r)\n",
    "\n",
    "        if arr[lmin] < arr[rmin]:\n",
    "            return lmin\n",
    "        return rmin\n",
    "\n",
    "idx = find_min(0, N-1)\n",
    "print(idx, arr[idx])\n"
   ]
  },
  {
   "cell_type": "code",
   "execution_count": 4,
   "id": "cab9b808",
   "metadata": {},
   "outputs": [
    {
     "name": "stdout",
     "output_type": "stream",
     "text": [
      "[3]\n",
      "[2, 3]\n",
      "[2]\n",
      "[1, 3]\n",
      "[1, 2, 3]\n",
      "[1, 2]\n",
      "[1]\n",
      "[[], [3], [2], [2, 3], [1], [1, 3], [1, 2], [1, 2, 3]]\n"
     ]
    }
   ],
   "source": [
    "def powerset_recursive(arr):\n",
    "    result = []\n",
    "    \n",
    "    def generate(index, subset):\n",
    "        # 모든 원소를 탐색했을 때\n",
    "        if index == len(arr):\n",
    "            result.append(subset)\n",
    "            return\n",
    "        \n",
    "        # 1. 현재 원소를 포함하지 않는 경우\n",
    "        generate(index + 1, subset)\n",
    "        \n",
    "        # 2. 현재 원소를 포함하는 경우\n",
    "        generate(index + 1, subset + [arr[index]])\n",
    "        print(subset + [arr[index]])\n",
    "    \n",
    "    generate(0, [])\n",
    "    return result\n",
    "\n",
    "# 사용 예시\n",
    "my_set = [1, 2, 3]\n",
    "print(powerset_recursive(my_set))\n",
    "# 결과: [[], [3], [2], [2, 3], [1], [1, 3], [1, 2], [1, 2, 3]]"
   ]
  },
  {
   "cell_type": "code",
   "execution_count": 17,
   "id": "2126b2bf",
   "metadata": {},
   "outputs": [
    {
     "name": "stdout",
     "output_type": "stream",
     "text": [
      "[1, 2, 3]\n"
     ]
    }
   ],
   "source": [
    "arr = []\n",
    "for i in range(1, 13):\n",
    "    arr.append(i)\n",
    "N = len(arr)\n",
    "\n",
    "K = 6\n",
    "M = 3\n",
    "\n",
    "def total(arr):\n",
    "    result = []\n",
    "\n",
    "    def part_set(index, subset):\n",
    "        if index == N:\n",
    "            result.append(subset)\n",
    "\n",
    "        else:\n",
    "            part_set(index + 1, subset)\n",
    "            part_set(index + 1, subset + [arr[index]])\n",
    "    \n",
    "    part_set(0, [])\n",
    "    return result\n",
    "\n",
    "result_set = total(arr)\n",
    "for i in range(len(result_set)):\n",
    "    if sum(result_set[i]) == K and len(result_set[i]) == M:\n",
    "        print(result_set[i])\n"
   ]
  }
 ],
 "metadata": {
  "kernelspec": {
   "display_name": "Python 3",
   "language": "python",
   "name": "python3"
  },
  "language_info": {
   "codemirror_mode": {
    "name": "ipython",
    "version": 3
   },
   "file_extension": ".py",
   "mimetype": "text/x-python",
   "name": "python",
   "nbconvert_exporter": "python",
   "pygments_lexer": "ipython3",
   "version": "3.11.9"
  }
 },
 "nbformat": 4,
 "nbformat_minor": 5
}
