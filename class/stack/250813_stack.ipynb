{
 "cells": [
  {
   "cell_type": "markdown",
   "id": "284150cc",
   "metadata": {},
   "source": [
    "## ⭐ Stack\n",
    "```\n",
    "접시를 쌓아두었다가 꺼낼 때의 순서를 떠올려 봅시다.  \n",
    "- 식당에서 설거지를 끝낸 접시를 쌓는 곳이 있습니다.\n",
    "- 아래와 같이 순서대로 접시를 올려놓습니다.\n",
    "- 1번 접시 -> 2번 접시 -> 3번 접시\n",
    "- 직원이 접시를 두 개 꺼냈다면, 꺼낸 접시 번호의 순서는?\n",
    "```\n",
    "\n",
    "❗스택과 큐는 서술형 문제로 많이 나옴\n",
    "❗괄호 찾기는 코드 구현으로 많이 나옴\n"
   ]
  },
  {
   "cell_type": "markdown",
   "id": "d0289dc1",
   "metadata": {},
   "source": [
    "## ✔️ Function call\n",
    "  \n",
    "![image.png](./img/stack4.png)  \n",
    "\n",
    "```\n",
    "가장 마지막에 호출된 함수가 가장 먼저 실행을 완료하고 복귀하는 후입선출 구조이므로,  \n",
    "수입선출 구조의 스택을 이용하여 수행순서 관리\n",
    "```\n",
    "\n",
    "![image.png](./img/stack5.png)  \n",
    "\n",
    "1. 시스템 스택\n",
    "- 함수 수행에 필요한 지역변수, 매개변수 및 수행 후 복귀할 주소 등의 정보를 저장\n",
    "- 함수 호출이 발생하면 스택 프레임(stack frame)에 저장하여 시스템 스택에 삽입"
   ]
  },
  {
   "cell_type": "markdown",
   "id": "5f28b377",
   "metadata": {},
   "source": [
    "##### ✔️ 재귀호출\n",
    "함수가 자신과 같은 작업을 반복해야 할 때, 자신을 다시 호출하는 구조\n",
    "- 반복적으로 자기 자신을 호출해야 하거나 전체를 부분 문제로 나눌 수 있는 경우에는 일반적인 호출방식보다 재귀호출 방식을 사용하여 함수를 만들면 프로그램의 크기를 줄이고 간단하게 작성할 수 있음\n",
    "\n",
    "![image.png](./img/stack6.png)  \n",
    "\n"
   ]
  },
  {
   "cell_type": "code",
   "execution_count": 27,
   "id": "df421ddb",
   "metadata": {},
   "outputs": [
    {
     "name": "stdout",
     "output_type": "stream",
     "text": [
      "120\n"
     ]
    }
   ],
   "source": [
    "# n에 대한 factorial\n",
    "# 1부터 n까지의 모든 자연수를 곱하여 구하는 연산\n",
    "# 마지막에 구한 하위 값을 이용하여 사위 값을 구하는 작업을 반복합니다.\n",
    "\n",
    "# n! = n x (n-1)!\n",
    "\n",
    "def fact(a):\n",
    "    # 재귀 호출의 종료 조건: a가 1이면 1을 반환합니다.\n",
    "    if a == 1:\n",
    "        return 1\n",
    "    \n",
    "    # a * (a-1)! 계산\n",
    "    return a * fact(a-1)\n",
    "\n",
    "result = fact(5)\n",
    "print(result)\n",
    "    "
   ]
  },
  {
   "cell_type": "markdown",
   "id": "4c8eeaae",
   "metadata": {},
   "source": [
    "##### ✔️ 피보나치 수열\n",
    "0과 1로 시작하고 이전의 두 수 합을 다음 항으로 하는 수열\n"
   ]
  },
  {
   "cell_type": "code",
   "execution_count": 8,
   "id": "81c8b952",
   "metadata": {},
   "outputs": [
    {
     "name": "stdout",
     "output_type": "stream",
     "text": [
      "5\n"
     ]
    }
   ],
   "source": [
    "# 피보나치 수를 구하는 재귀함수\n",
    "# 피보나치 수열의 수학적 정의에 따라, 피보나치 수열의 i번째 항을 반환하는 함수를 재귀함수로 구현 가능\n",
    "\n",
    "def fibo(n):\n",
    "    if n < 2:\n",
    "        return n\n",
    "    else:\n",
    "        return fibo(n-1) + fibo(n-2)\n",
    "\n",
    "\n",
    "result = fibo(5)\n",
    "print(result)"
   ]
  },
  {
   "cell_type": "markdown",
   "id": "baec76ff",
   "metadata": {},
   "source": [
    "##### 모든 배열 원소에 접근하는 재귀함수\n",
    "기본형 활용:\n",
    "- 호출 단계 i에서 arr[i] 원소에 접근하고, i가 배열의 크기와 같아지면 재귀호출을 중단합니다.\n",
    "\n",
    "![image.png](./img/stack7.png)  \n",
    "\n",
    "- 모양이 바뀌는 부분이 있으면, 해당 부분까지만 재귀함수로 작성하고 고정된 값은 조건문에 입력함\n",
    "\n",
    "![image.png](./img/stack8.png)  "
   ]
  },
  {
   "cell_type": "markdown",
   "id": "9ab9201e",
   "metadata": {},
   "source": [
    "##### ✔️ 배열 원소 검색\n",
    "배열에 v가 있으면 1, 없으면 0을 리턴하는 함수\n",
    "- v = 5인 경우, arr에는 5가 없으므로 마지막 단계까지 호출하고 0을 리턴함\n"
   ]
  },
  {
   "cell_type": "markdown",
   "id": "5abb06e7",
   "metadata": {},
   "source": [
    "##### ✔️ Memoization\n",
    "컴퓨터 프로그램을 실행할 때 이전에 계산한 값을 메모리에 저장해서 매번 다시 계산하지 않도록 하여 전체적인 실행속도를 빠르게 하는 기술  \n",
    "- 재귀 함수는 동일한 입력값으로 여러 번 호출되는 경우가 많은데, 이럴 때마다 계산을 새로 하는 대신 메모이제이션을 적용하여 연산 횟수를 크게 줄일 수 있음\n",
    "\n",
    "✖️ 피보나치 재귀호출의 문제점  \n",
    "- 피보나치 수를 구하는 함수를 재귀함수로 구현한 알고리즘은 \"엄청난 중복 호출이 존재한다\"는 문제 발생  \n",
    "\n",
    "![image.png](./img/stack9.png)  \n",
    "\n",
    "```\n",
    "# 결과를 저장할 딕셔너리\n",
    "memo = {} \n",
    "\n",
    "def fib_memo(n):\n",
    "    # 캐시에 값이 있는지 확인\n",
    "    if n in memo:\n",
    "        return memo[n]\n",
    "\n",
    "    # 재귀 호출의 종료 조건\n",
    "    if n <= 1:\n",
    "        return n\n",
    "    \n",
    "    # 결과를 계산하고 캐시에 저장\n",
    "    memo[n] = fib_memo(n - 1) + fib_memo(n - 2)\n",
    "    return memo[n]\n",
    "```\n",
    "\n",
    "\n"
   ]
  },
  {
   "cell_type": "code",
   "execution_count": 22,
   "id": "effadf05",
   "metadata": {},
   "outputs": [
    {
     "name": "stdout",
     "output_type": "stream",
     "text": [
      "55 177\n"
     ]
    }
   ],
   "source": [
    "# 일반적인 재귀호출은 100회만 하더라도 계산량이 많기 때문에 결과값을 구하기가 어려움\n",
    "# Memoization 방법을 쓰면 빠르게 답을 얻을 수 있음\n",
    "\n",
    "def fibo(n):\n",
    "    global cnt\n",
    "    cnt += 1\n",
    "    if n < 2:\n",
    "        return n\n",
    "    else:\n",
    "        return fibo(n-1) + fibo(n-2)\n",
    "        \n",
    "    \n",
    "cnt = 0\n",
    "print(fibo(10), cnt)"
   ]
  },
  {
   "cell_type": "code",
   "execution_count": 23,
   "id": "dae7138c",
   "metadata": {},
   "outputs": [
    {
     "name": "stdout",
     "output_type": "stream",
     "text": [
      "55 19\n"
     ]
    }
   ],
   "source": [
    "# Memoization을 적용한 피보나치\n",
    "# 계산된 적이 있는 피보나치 수는 저장된 값을 리턴\n",
    "\n",
    "# memo를 위한 배열을 할당하고, 모두 0으로 초기화 한다.\n",
    "# memo[0]을 0으로 memo[1]은 1로 초기화 한다.\n",
    "\n",
    "def fibo1(n):\n",
    "    global cnt1\n",
    "    cnt1 += 1\n",
    "    if n >= 2 and memo[n] == 0:\n",
    "        memo[n] = fibo1(n-1) + fibo1(n-2)\n",
    "    return memo[n]\n",
    "\n",
    "memo = [0] * 101\n",
    "memo[0] = 0\n",
    "memo[1] = 1\n",
    "cnt1 = 0\n",
    "print(fibo1(10), cnt1)\n",
    "# 재귀함수를 100번 호출해도 무리없이 계산함\n",
    "# 단, 재귀함수 호출 횟수를 초과하면 에러가 뜸"
   ]
  },
  {
   "cell_type": "markdown",
   "id": "b2934f33",
   "metadata": {},
   "source": [
    "##### 동적계획법(DP)\n",
    "입력 크기가 작은 부분 문제들을 먼저 해결한 뒤, 그 결과를 바탕으로 더 큰 문제를 순차적으로 해결해 나가며 최종적으로 전체 문제의 해답을 도출하는 알고리즘  \n",
    "- 동적 계획 알고리즘은 그리디 알고리즘과 같이 최적화 문제를 해결하는 알고리즘임\n",
    "\n",
    "✔️ DP 적용을 위한 두 가지 핵심 조건\n",
    "1. 최적 부분 구조 (Optimal Substructure)\n",
    "- 큰 문제의 최적 해가 하위 문제의 최적 해로부터 얻어질 수 있어야 합니다.\n",
    "- 예를 들어, \"최단 경로 찾기\" 문제에서 전체 경로의 최단 거리는 중간 지점까지의 최단 경로들로 구성됩니다.\n",
    "\n",
    "2. 중복되는 하위 문제 (Overlapping Subproblems)\n",
    "- 동일한 하위 문제가 여러 번 반복해서 계산되는 구조여야 합니다.\n",
    "- 피보나치 수열이 대표적인 예시입니다. fib(5)를 계산할 때 fib(3)을 여러 번 호출하는 것처럼, 같은 값을 여러 번 계산합니다.\n",
    "\n",
    "❗ 재귀 구조에 Memoization을 사용하는 것보다, 반복적인 구조로 DP를 구현하는 방식이 성능 면에서 더 효율적  \n",
    "❗ 재귀적 구조는 내부에 시스템 호출 스택을 사용하는 오버헤드가 발생하기 때문  \n",
    "\n"
   ]
  },
  {
   "cell_type": "code",
   "execution_count": null,
   "id": "ea894224",
   "metadata": {},
   "outputs": [
    {
     "name": "stdout",
     "output_type": "stream",
     "text": [
      "5\n"
     ]
    }
   ],
   "source": [
    "# 피보나치 수열을 DP로 구현한 코드\n",
    "\n",
    "\n",
    "def fibo2(n):\n",
    "    f = [0] * (n+1)\n",
    "    f[0] = 0\n",
    "    f[1] = 1\n",
    "    for i in range(2, n + 1):\n",
    "        f[i] = f[i-1] + f[i-2]\n",
    "\n",
    "    return f[n]\n",
    "\n",
    "print(fibo2(5))\n"
   ]
  },
  {
   "cell_type": "markdown",
   "id": "00a2173a",
   "metadata": {},
   "source": [
    "##### ✔️ 깊이우선탐색 (DFS)\n",
    "한 방향으로 가능한 한 깊게 탐색한 후, 더 이상 갈 곳이 없으면 되돌아와 다른 방향을 탐색  \n",
    "- 비선형 구조인 그래프 구조는 그래프로 표현된 모든 자료를 빠짐없이 검색하는 것이 중요함  \n",
    "- 이러한 탐색에는 다음의 두 가지 방법이 사용됨  \n",
    "1️⃣ 깊이 우선 탐색  \n",
    "2️⃣ 너비 우선 탐색  \n",
    "\n",
    "1. 동작 원리\n",
    "- 시작 정점의 한 방향으로 갈 수 있는 경로가 있는 곳까지 깊이 탐색\n",
    "- 더 이상 갈 곳이 없게 되면, 가장 마지막에 만났던 갈림길 간선이 있는 정점으로 되돌아와서 다른 방향의 정점을 탐색, 계속 반복하여 모든 정점을 방문  \n",
    "✋ 가장 마지막에 만났던 갈림길의 정점으로 되돌아가서 다시 깊이 우선 탐색을 반복해야 하므로 후입선출 구조의 스택 사용  \n",
    "\n",
    "##### ✔️ 로봇이 선을 따라 모든 칸을 탐색하는 방법\n",
    "  \n",
    "![image.png](./img/stack10.png)  \n",
    "  \n",
    "\n",
    "  \n"
   ]
  },
  {
   "cell_type": "code",
   "execution_count": null,
   "id": "53647fbe",
   "metadata": {},
   "outputs": [],
   "source": [
    "# visited[], stack[] 초기화\n",
    "\n"
   ]
  }
 ],
 "metadata": {
  "kernelspec": {
   "display_name": "Python 3",
   "language": "python",
   "name": "python3"
  },
  "language_info": {
   "codemirror_mode": {
    "name": "ipython",
    "version": 3
   },
   "file_extension": ".py",
   "mimetype": "text/x-python",
   "name": "python",
   "nbconvert_exporter": "python",
   "pygments_lexer": "ipython3",
   "version": "3.11.9"
  }
 },
 "nbformat": 4,
 "nbformat_minor": 5
}
