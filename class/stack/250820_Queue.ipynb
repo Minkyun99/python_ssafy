{
 "cells": [
  {
   "cell_type": "markdown",
   "id": "b6371e42",
   "metadata": {},
   "source": [
    "## ⭐ 큐(Queue)\n",
    "먼저 들어온 데이터가 먼저 나가는 선형 자료구조  \n",
    "- 스택과 마찬가지로 삽입과 삭제의 위치가 제한적인 자료구조로 큐의 뒤에서는 삽입만 하고, 앞에서는 삭제만 이루어지는 구조입니다.\n",
    "\n",
    "##### 선입선출(FIFO)\n",
    "가장 먼저 넣은 자료가 가장 먼저 나오는 것  \n",
    "- 스택은 LIFO, 큐는 FIFO\n",
    "\n",
    "##### 큐의 구조\n",
    "![image.png](./img/queue.png)  \n",
    "\n",
    "##### 큐의 기본 연산\n",
    "![image.png](./img/queue2.png)    "
   ]
  },
  {
   "cell_type": "markdown",
   "id": "91122eed",
   "metadata": {},
   "source": [
    "## 선형 큐\n",
    "데이터를 일렬로 저장하며, 앞에서 꺼내고 뒤에 넣는 기본 큐 구조  \n",
    "\n",
    "1. 구현\n",
    "- 배열이나 연결형 리스트로 구현할 수 있습니다.\n",
    "- 큐의 크기는 배열의 크기와 같습니다.\n",
    "- front : 가장 최근에 삭제된 원소의 인덱스입니다.\n",
    "- rear : 마지막으로 저장된 원소의 인덱스입니다.\n",
    "\n",
    "2. 상태 표현\n",
    "- 초기 상태 : front = rear = -1\n",
    "- 공백 상택 : front == rear\n",
    "- 포화 상태 : rear == n-1 (n: 배열의 크기, n-1: 배열의 마지막 인덱스)\n"
   ]
  },
  {
   "cell_type": "code",
   "execution_count": 22,
   "id": "6fad5e2c",
   "metadata": {},
   "outputs": [
    {
     "name": "stdout",
     "output_type": "stream",
     "text": [
      "[0, 0, 0, 0, 0, 0, 0, 0, 0, 0]\n",
      "[0, 0, 0, 0, 0, 0, 0, 0, 0, 0]\n",
      "[0, 1, 0, 0, 0, 0, 0, 0, 0, 0]\n",
      "[0, 1, 2, 0, 0, 0, 0, 0, 0, 0]\n",
      "[0, 1, 2, 3, 0, 0, 0, 0, 0, 0]\n",
      "[0, 1, 2, 3, 4, 0, 0, 0, 0, 0]\n",
      "Queue_empty\n",
      "0\n"
     ]
    }
   ],
   "source": [
    "# 선형 큐의 구현\n",
    "# 1. 초기 공백 큐 생성 : create_queue()\n",
    "\n",
    "# 크기 n인 1차원 배열 생성\n",
    "n = 10\n",
    "\n",
    "# create_queue()에 해당\n",
    "q = [0] * n\n",
    "front = -1\n",
    "rear = -1\n",
    "print(q)\n",
    "\n",
    "# 2. 삽입 : enqueue(item)\n",
    "# 마지막 원소 뒤에 새로운 원소를 삽입하기 위해\n",
    "def is_full(arr):\n",
    "    if rear == n-1:\n",
    "        return 'full'\n",
    "\n",
    "def is_empty(arr):\n",
    "    if front == rear:\n",
    "        return 'empty'\n",
    "\n",
    "def enqueue(item):\n",
    "    global rear\n",
    "    if is_full(q) : print(\"Queue_Full\")\n",
    "    else:\n",
    "        rear += 1\n",
    "        q[rear] = item\n",
    "    return q\n",
    "\n",
    "def dequeue():\n",
    "    global front\n",
    "    if is_empty(q) : print(\"Queue_empty\")\n",
    "    else : \n",
    "        front += 1\n",
    "    return q[front+1]\n",
    "        \n",
    "\n",
    "\n",
    "for i in range(5):\n",
    "    result = enqueue(i)\n",
    "    print(result)\n",
    "\n",
    "de_result = dequeue()\n",
    "de_result = dequeue()\n",
    "de_result = dequeue()\n",
    "de_result = dequeue()\n",
    "de_result = dequeue()\n",
    "de_result = dequeue()\n",
    "print(de_result)\n",
    "\n",
    "\n",
    "\n"
   ]
  }
 ],
 "metadata": {
  "kernelspec": {
   "display_name": "Python 3",
   "language": "python",
   "name": "python3"
  },
  "language_info": {
   "codemirror_mode": {
    "name": "ipython",
    "version": 3
   },
   "file_extension": ".py",
   "mimetype": "text/x-python",
   "name": "python",
   "nbconvert_exporter": "python",
   "pygments_lexer": "ipython3",
   "version": "3.11.9"
  }
 },
 "nbformat": 4,
 "nbformat_minor": 5
}
