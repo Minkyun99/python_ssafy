{
 "cells": [
  {
   "cell_type": "markdown",
   "id": "b6371e42",
   "metadata": {},
   "source": [
    "## ⭐ 큐(Queue)\n",
    "먼저 들어온 데이터가 먼저 나가는 선형 자료구조  \n",
    "- 스택과 마찬가지로 삽입과 삭제의 위치가 제한적인 자료구조로 큐의 뒤에서는 삽입만 하고, 앞에서는 삭제만 이루어지는 구조입니다.\n",
    "\n",
    "##### ✔️ 선입선출(FIFO)\n",
    "가장 먼저 넣은 자료가 가장 먼저 나오는 것  \n",
    "- 스택은 LIFO, 큐는 FIFO\n",
    "\n",
    "##### ✔️ 큐의 구조\n",
    "![image.png](./img/queue.png)  \n",
    "\n",
    "##### ✔️ 큐의 기본 연산\n",
    "![image.png](./img/queue2.png)    \n",
    "\n",
    "1. 선형큐 : 구현(append, pop, front, rear)\n",
    "2. 원형큐 : 장점\n",
    "3. 우선순위큐 : 특징"
   ]
  },
  {
   "cell_type": "markdown",
   "id": "91122eed",
   "metadata": {},
   "source": [
    "## ⭐ 선형 큐\n",
    "데이터를 일렬로 저장하며, 앞에서 꺼내고 뒤에 넣는 기본 큐 구조  \n",
    "\n",
    "1. 구현\n",
    "- 배열이나 연결형 리스트로 구현할 수 있습니다.\n",
    "- 큐의 크기는 배열의 크기와 같습니다.\n",
    "- front : 가장 최근에 삭제된 원소의 인덱스입니다.\n",
    "- rear : 마지막으로 저장된 원소의 인덱스입니다.\n",
    "\n",
    "2. 상태 표현\n",
    "- 초기 상태 : front = rear = -1\n",
    "- 공백 상택 : front == rear\n",
    "- 포화 상태 : rear == n-1 (n: 배열의 크기, n-1: 배열의 마지막 인덱스)\n"
   ]
  },
  {
   "cell_type": "code",
   "execution_count": 24,
   "id": "6fad5e2c",
   "metadata": {},
   "outputs": [
    {
     "name": "stdout",
     "output_type": "stream",
     "text": [
      "[0, 0, 0, 0, 0, 0, 0, 0, 0, 0]\n",
      "[0, 0, 0, 0, 0, 0, 0, 0, 0, 0]\n",
      "[0, 1, 0, 0, 0, 0, 0, 0, 0, 0]\n",
      "[0, 1, 2, 0, 0, 0, 0, 0, 0, 0]\n",
      "[0, 1, 2, 3, 0, 0, 0, 0, 0, 0]\n",
      "[0, 1, 2, 3, 4, 0, 0, 0, 0, 0]\n",
      "Queue_empty\n",
      "0\n"
     ]
    }
   ],
   "source": [
    "# 선형 큐의 구현\n",
    "# 1. 초기 공백 큐 생성 : create_queue()\n",
    "\n",
    "# 크기 n인 1차원 배열 생성\n",
    "n = 10\n",
    "\n",
    "# create_queue()에 해당\n",
    "q = [0] * n\n",
    "front = -1\n",
    "rear = -1\n",
    "print(q)\n",
    "\n",
    "# 4. 공백상태 및 포화 상태 검사\n",
    "# 공백상태 : front == rear\n",
    "# 포화상태 : rear == n-1 (n: 배열의 크기, n-1: 배열의 마지막 인덱스)\n",
    "def is_full(arr):\n",
    "    if rear == n-1:\n",
    "        return 'full'\n",
    "\n",
    "def is_empty(arr):\n",
    "    if front == rear:\n",
    "        return 'empty'\n",
    "\n",
    "# 2. 삽입 : enqueue(item)\n",
    "# 마지막 원소 뒤에 새로운 원소를 삽입하기 위해\n",
    "def enqueue(item):\n",
    "    global rear\n",
    "    if is_full(q) : print(\"Queue_Full\")\n",
    "    else:\n",
    "        rear += 1\n",
    "        q[rear] = item\n",
    "    return q\n",
    "\n",
    "# 3. 삭제 : dequeue()\n",
    "# 가장 앞에 있는 원소를 삭제함\n",
    "# front 값을 하나 증가시켜 큐에 남아있는 첫 번째 원소 이동\n",
    "def dequeue():\n",
    "    global front\n",
    "    if is_empty(q) : print(\"Queue_empty\")\n",
    "    else : \n",
    "        front += 1\n",
    "    return q[front+1]\n",
    "        \n",
    "\n",
    "\n",
    "for i in range(5):\n",
    "    result = enqueue(i)\n",
    "    print(result)\n",
    "\n",
    "de_result = dequeue()\n",
    "de_result = dequeue()\n",
    "de_result = dequeue()\n",
    "de_result = dequeue()\n",
    "de_result = dequeue()\n",
    "de_result = dequeue()\n",
    "print(de_result)\n",
    "\n"
   ]
  },
  {
   "cell_type": "markdown",
   "id": "4481bfcf",
   "metadata": {},
   "source": [
    "## ⭐ 원형큐\n",
    "선형 큐의 공간 낭비를 막기 위해 처음과 끝이 연결된 구조  \n",
    "\n",
    "1. 초기 공백 상태\n",
    "- front = rear = 0\n",
    "\n",
    "2. index의 순환\n",
    "- front와 rear의 위치가 배열의 마지막 인덱스인 n-1를 가리킵니다.\n",
    "- 그 다음에는 논리적 순환을 이루어 배열의 처음 인덱스인 0으로 이동해야 합니다.\n",
    "- 이를 위해 나머지 연산자 mod를 사용합니다.\n",
    "\n",
    "3. front 변수\n",
    "- 공백 상태와 포화 상태 구분을 쉽게 하기 위해 front가 있는 자리는 사용하지 않고 항상 빈자리로 둡니다.\n",
    "\n",
    "##### 선형 큐와 원형 큐 비교\n",
    "1. 삽입 위치 및 삭제 위치 \n",
    "![image.png](./img/queue3.png)  \n",
    "\n",
    "\n"
   ]
  },
  {
   "cell_type": "code",
   "execution_count": null,
   "id": "32005989",
   "metadata": {},
   "outputs": [],
   "source": [
    "# 원형 큐의 구현"
   ]
  },
  {
   "cell_type": "markdown",
   "id": "f976897c",
   "metadata": {},
   "source": [
    "## ⭐ 연결 큐\n",
    "연결 리스트를 이용해 구현한 큐  \n",
    "\n",
    "##### ✔️ 연결 큐의 구조\n",
    "1. 단순 연결 리스트(Linked List)를 이용한 큐\n",
    "- 큐의 원소 : 단순 연결 리스트의 노드\n",
    "- 큐의 원소 순서 : 노드의 연결 순서, 링크로 연결되어 있음\n",
    "- front : 첫 번째 노드를 가리키는 링크\n",
    "- rear : 마지막 노드를 가리키는 링크\n",
    "\n",
    "2. 상태 표현\n",
    "- 초기 상태 : front = rear = null\n",
    "- 공백 상태 : front = rear = null\n",
    "![image.png](./img/queue4.png) \n",
    "\n",
    "3. deque(덱)\n",
    "- 컨테이너 자료형 중 하나로 양쪽 끝에서 빠르게 추가와 삭제를 할 수 있는 리스트류 컨테이너\n",
    "\n",
    "4. deque의 연산\n",
    "- append(x) : 오른쪽에 x 추가\n",
    "- popleft() : 왼쪽에서 요소를 제거하고 반환. 요소가 없으면 IndexError"
   ]
  },
  {
   "cell_type": "code",
   "execution_count": null,
   "id": "06ce0edf",
   "metadata": {},
   "outputs": [],
   "source": []
  },
  {
   "cell_type": "markdown",
   "id": "ecabbbbc",
   "metadata": {},
   "source": [
    "## ⭐ 우선순위 큐\n",
    "우선순위를 가진 항목들을 저장하는 큐  \n",
    "- FIFO 순서가 아니라 우선순위가 높은 순서대로 먼저 나가게 됨\n",
    "- 우선순위 큐의 적용 분야로 시뮬레이션 시스템, 네트워크 트래픽 제어, 운영체제의 테스크 스케줄링이 있음\n",
    "\n",
    "![image.png](./img/queue5.png)  \n"
   ]
  },
  {
   "cell_type": "markdown",
   "id": "77a5e95e",
   "metadata": {},
   "source": [
    "## ⭐ 버퍼\n",
    "데이터를 한 곳에서 다른 한 곳으로 전송하는 동안 일시적으로 그 데이터를 보관하는 메모리 영역\n",
    "- 버퍼를 채우는 것을 버퍼링이라고 함\n",
    "\n",
    "##### ✔️ 버퍼의 자료 구조\n",
    "1. 버퍼는 일반적으로 입출력 및 네트워크와 관련된 기능에서 이용됨\n",
    "2. 순서대로 입력/출력/전달되어야 하므로 FIFO 방식의 자료 구조인 큐가 활용됨\n",
    "\n",
    "\n",
    "##### ✔️ 버퍼의 예시\n",
    "![image.png](./img/queue6.png)   \n",
    "\n",
    "##### ✔️ 큐를 이용한 마이쮸 나눠주기 시뮬레이션 \n",
    "![image.png](./img/queue7.png)      \n"
   ]
  },
  {
   "cell_type": "markdown",
   "id": "b1e4de35",
   "metadata": {},
   "source": [
    "## ⭐ 오프라인 강사님 수업\n",
    "\n",
    "##### 선형 큐의 단점\n",
    "1. 공간 낭비\n",
    "\n"
   ]
  },
  {
   "cell_type": "code",
   "execution_count": 3,
   "id": "31a4637b",
   "metadata": {},
   "outputs": [
    {
     "name": "stdout",
     "output_type": "stream",
     "text": [
      "0\n"
     ]
    }
   ],
   "source": [
    "print(1//2)"
   ]
  },
  {
   "cell_type": "markdown",
   "id": "d7cc1d86",
   "metadata": {},
   "source": [
    "##### 큐 회전하기_확인용"
   ]
  },
  {
   "cell_type": "code",
   "execution_count": null,
   "id": "4a0a117a",
   "metadata": {},
   "outputs": [],
   "source": [
    "import sys\n",
    "sys.stdin = open('input.txt')\n",
    "\n",
    "T = int(input())\n",
    "\n",
    "for time in range(1, T+1):\n",
    "    N, M = map(int, input().split())\n",
    "    arr = list(map(int, input().split()))\n",
    "\n",
    "    que = []\n",
    "\n",
    "    for num in arr:\n",
    "        que.append(num)\n",
    "\n",
    "    for i in range(M):\n",
    "        que_pop = que.pop(0)\n",
    "        que.append(que_pop)\n",
    "\n",
    "    print(f'#{time} {que[0]}')\n"
   ]
  }
 ],
 "metadata": {
  "kernelspec": {
   "display_name": "Python 3",
   "language": "python",
   "name": "python3"
  },
  "language_info": {
   "codemirror_mode": {
    "name": "ipython",
    "version": 3
   },
   "file_extension": ".py",
   "mimetype": "text/x-python",
   "name": "python",
   "nbconvert_exporter": "python",
   "pygments_lexer": "ipython3",
   "version": "3.11.9"
  }
 },
 "nbformat": 4,
 "nbformat_minor": 5
}
