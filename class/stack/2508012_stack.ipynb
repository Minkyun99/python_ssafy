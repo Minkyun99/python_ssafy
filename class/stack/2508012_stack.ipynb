{
 "cells": [
  {
   "cell_type": "markdown",
   "id": "a664a478",
   "metadata": {},
   "source": [
    "## ⭐ Stack\n",
    "```\n",
    "접시를 쌓아두었다가 꺼낼 때의 순서를 떠올려 봅시다.  \n",
    "- 식당에서 설거지를 끝낸 접시를 쌓는 곳이 있습니다.\n",
    "- 아래와 같이 순서대로 접시를 올려놓습니다.\n",
    "- 1번 접시 -> 2번 접시 -> 3번 접시\n",
    "- 직원이 접시를 두 개 꺼냈다면, 꺼낸 접시 번호의 순서는?\n",
    "```\n",
    "\n",
    "❗스택과 큐는 서술형 문제로 많이 나옴\n",
    "❗괄호 찾기는 코드 구현으로 많이 나옴\n"
   ]
  },
  {
   "cell_type": "markdown",
   "id": "bfb4b29d",
   "metadata": {},
   "source": [
    "## ⭐ Stack 자료구조 이해\n",
    "\n",
    "##### ✔️ Stack(스택)\n",
    "물건을 쌓아 올리듯 자료를 쌓아 올린 형태의 자료구조 :   \n",
    "- 대표적인 선형 자료구조 중 하나 \n",
    "- 스택에 자료를 삽입하거나, 스택에서 자료를 꺼낼 수 있음\n",
    "\n",
    "##### ✔️ 후입선출 (LIFO)\n",
    "가장 마지막에 넣은 자료가 가장 먼저 나오는 것\n",
    "\n",
    "##### ✔️ 스택 프로그램 구현을 위한 자료구조와 연산\n",
    "\n",
    "```\n",
    "자료구조:\n",
    "스택은 선형 자료 구조이다.\n",
    "```\n",
    "\n",
    "- 배열을 사용해 구현할 수 있음  \n",
    "  -> 파이썬에서는 리스트를 사용해 구현할 수 있음  \n",
    "- 저장소 자체를 스택이라 부르기도 함  \n",
    "  -> 용도에 따라 메모리의 일부를 스택으로 부름  \n",
    "- 스택에서 마지막 삽입된 원소의 위치\n",
    "  -> 스택 포인터, top으로 부르며 데이터를 넣거나 뺄 때 기준이 되는 위치\n",
    "\n",
    "##### 스택의 연산\n",
    "1. 삽입(push)\n",
    "- 저장소에 자료를 저장하는 연산으로, 보통 push라고 부름\n",
    "2. 삭제(pop)\n",
    "- 저장소에서 삽입한 자료의 역순으로 꺼내는 연산으로, 보통 pop이라고 부름\n",
    "3. 스택이 공백인지 아닌지를 확인하는 연산(isEmpty)\n",
    "- 스택이 비어 있으면 True, 아니면 False를 반환함\n",
    "4. 스택의 top에 있는 item(원소)를 반환하는 연산(peek)\n",
    "- 삭제는 하지 않음\n",
    "  \n",
    "![image.png](./img/stack.png)  \n",
    "  \n"
   ]
  },
  {
   "cell_type": "code",
   "execution_count": null,
   "id": "fbe23a93",
   "metadata": {},
   "outputs": [
    {
     "name": "stdout",
     "output_type": "stream",
     "text": [
      "Overflow!\n",
      "[0, 1, 2, 3, 4, 5, 6, 7, 8, 9]\n"
     ]
    }
   ],
   "source": [
    "# push 연산\n",
    "\n",
    "size = 10\n",
    "stack = [0] * size\n",
    "top = 0\n",
    "\n",
    "def my_push(item, size):\n",
    "    global top\n",
    "    top += 1\n",
    "    if top==size:\n",
    "        print('Overflow!')\n",
    "        print(stack)\n",
    "    else:\n",
    "        stack[top] = item\n",
    "\n",
    "for i in range(1,11):\n",
    "    my_push(i, size)\n",
    "\n",
    "# 스택에 실제로 값이 남아있는지 확인하기 위해서는 'top' 이 중요함\n",
    "# top 포인터로 값을 현재 스택의 남은 공간을 파악할 수 있음\n",
    "\n",
    "\n"
   ]
  },
  {
   "cell_type": "code",
   "execution_count": 76,
   "id": "babe9ad0",
   "metadata": {},
   "outputs": [
    {
     "name": "stdout",
     "output_type": "stream",
     "text": [
      "underflow\n",
      "0\n"
     ]
    }
   ],
   "source": [
    "def my_pop():\n",
    "    global top\n",
    "    if top == 0:\n",
    "        print('underflow')\n",
    "        return 0\n",
    "    else:\n",
    "        stack.pop()\n",
    "        top -= 1\n",
    "        return stack\n",
    "    \n",
    "result = my_pop()\n",
    "print(result)\n"
   ]
  },
  {
   "cell_type": "markdown",
   "id": "c7935c90",
   "metadata": {},
   "source": [
    "## ⭐ Stack 응용\n",
    "\n",
    "##### 괄호 검사\n",
    "1. 괄호의 종류\n",
    "- 대괄호[], 중괄호{}, 소괄호()\n",
    "\n",
    "2. 조건\n",
    "- 왼쪽 괄호의 개수와 오른쪽 괄호의 개수가 같아야 한다.\n",
    "- 같은 괄호에서 왼쪽 괄호는 오른쪽 괄호보다 먼저 나와야 한다.\n",
    "- 괄호 사이에는 포함 관계만 존재한다.\n",
    "\n",
    "3. 잘못된 괄호 사용의 예\n",
    "- (a(b)\n",
    "- a(a(b)\n",
    "- a{b(c[d]e)f}\n",
    "\n",
    "##### 스택을 이용한 괄호 검사\n",
    "  \n",
    "![image.png](./img/stack2.png)  \n",
    "\n",
    "괄호 검사 알고리즘:\n",
    "1. 문자열에 있는 괄호를 차례대로 검사하면서 왼쪽 괄호를 만나면 스택에 삽입하고, 오른쪽 괄호를 만나면 스택에서 top 괄호를 삭제한 후 오른쪽 괄호와 짝이 맞는지를 검사한다.\n",
    "2. 이때, 스택이 비어 있으면 조건1️⃣ 또는 조건2️⃣에 위배되고 괄호의 짝이 맞지 않으면 조건3️⃣에 위배된다.\n",
    "3. 마지막 괄호까지 조사한 후에도 스택에 괄호가 남아 있으면 조건1️⃣에 위배된다.\n",
    "\n"
   ]
  },
  {
   "cell_type": "code",
   "execution_count": null,
   "id": "8fcda443",
   "metadata": {},
   "outputs": [
    {
     "name": "stdout",
     "output_type": "stream",
     "text": [
      "( (\n",
      "['(', 0]\n",
      "{ (\n",
      "[ (\n",
      "( (\n",
      "['(', '(']\n",
      "{ (\n",
      "[ (\n",
      "( 안\n",
      "{ 안\n",
      "[ 안\n",
      "( 녕\n",
      "{ 녕\n",
      "[ 녕\n",
      "( 하\n",
      "{ 하\n",
      "[ 하\n",
      "( 세\n",
      "{ 세\n",
      "[ 세\n",
      "( 요\n",
      "{ 요\n",
      "[ 요\n",
      "( .\n",
      "{ .\n",
      "[ .\n",
      "( {\n",
      "{ {\n"
     ]
    },
    {
     "ename": "IndexError",
     "evalue": "list assignment index out of range",
     "output_type": "error",
     "traceback": [
      "\u001b[31m---------------------------------------------------------------------------\u001b[39m",
      "\u001b[31mIndexError\u001b[39m                                Traceback (most recent call last)",
      "\u001b[36mCell\u001b[39m\u001b[36m \u001b[39m\u001b[32mIn[119]\u001b[39m\u001b[32m, line 14\u001b[39m\n\u001b[32m     12\u001b[39m \u001b[38;5;28mprint\u001b[39m(x, \u001b[38;5;28mstr\u001b[39m[i])\n\u001b[32m     13\u001b[39m \u001b[38;5;28;01mif\u001b[39;00m \u001b[38;5;28mstr\u001b[39m[i] == x:\n\u001b[32m---> \u001b[39m\u001b[32m14\u001b[39m     \u001b[43mstack\u001b[49m\u001b[43m[\u001b[49m\u001b[43mtop\u001b[49m\u001b[43m]\u001b[49m = x\n\u001b[32m     15\u001b[39m     top += \u001b[32m1\u001b[39m\n\u001b[32m     16\u001b[39m     \u001b[38;5;28mprint\u001b[39m(stack)\n",
      "\u001b[31mIndexError\u001b[39m: list assignment index out of range"
     ]
    }
   ],
   "source": [
    "str =\"((안녕하세요.{반갑습니다.}[괄호검사중입니다.])\"\n",
    "size = len(str)\n",
    "stack = [0] * 2\n",
    "top = 0\n",
    "\n",
    "for i in range(size):\n",
    "    if top == -1:\n",
    "        print('uderflow')\n",
    "    elif top == size:\n",
    "        print('overflow')\n",
    "    for x in ['(', '{', '[']:\n",
    "        if str[i] == x:\n",
    "            stack[top] = x\n",
    "            top += 1\n",
    "            print(stack)\n",
    "        else:\n",
    "            for y in [')', '}', ']']:\n",
    "                if str[i] == y:\n",
    "                    print(x, y)\n",
    "                    stack.pop()\n",
    "                    top -= 1\n",
    "\n",
    "print(stack)"
   ]
  },
  {
   "cell_type": "markdown",
   "id": "ffd6a9bc",
   "metadata": {},
   "source": [
    "## ✍️ 연습문제"
   ]
  },
  {
   "cell_type": "markdown",
   "id": "3a640856",
   "metadata": {},
   "source": [
    "##### 스택_제로\n",
    "\n",
    "1. N개의 정수들이 입력으로 주어진다.\n",
    "2. 첫번째 숫자 부터 순서대로 기록하다가, 중간에 0이 나오면 바로 이전에 입력된 숫자를 지운다.\n",
    "3. 0이 나올때 지울 숫자가 없는 경우는 없다.\n",
    "4. 최종적으로 기록된 숫자들의 총합을 계산하는 프로그램을 작성하자.\n",
    "\n",
    "- 예를 들어, 4 0 2 3 0 이 입력되면   \n",
    "[4]     # 4 기록  \n",
    "[]       # 0에 의해 4 삭제  \n",
    "[2]     # 2 기록  \n",
    "[2, 3]  # 3 기록  \n",
    "[2]     # 0에 의해 3 삭제  \n",
    "  \n",
    "- 2만 기록된 상태이므로 합은 2가 된다.  \n",
    "\n",
    "5. 반드시 스택을 활용해서 코드를 작성해보자.\n",
    "\n",
    "[입력]  \n",
    "1. 첫 줄에 테스트 케이스 수가 주어진다.\n",
    "2. 각 테스트 케이스 마다 첫줄에 정수의 개수 N이 주어지고 (5 <= N <= 30)\n",
    "3. 다음 줄에 N개의 정수값(1이상 10이하)들이 공백으로 구분되어, 한 줄에 주어진다.\n",
    "\n",
    "[출력]  \n",
    "1. '#' 과 함께 테스트 케이스 번호를 출력하고, 최종적으로 적힌 수들의 합을 출력한다.\n",
    "\n"
   ]
  },
  {
   "cell_type": "code",
   "execution_count": null,
   "id": "aadcc1b9",
   "metadata": {},
   "outputs": [],
   "source": []
  }
 ],
 "metadata": {
  "kernelspec": {
   "display_name": "Python 3",
   "language": "python",
   "name": "python3"
  },
  "language_info": {
   "codemirror_mode": {
    "name": "ipython",
    "version": 3
   },
   "file_extension": ".py",
   "mimetype": "text/x-python",
   "name": "python",
   "nbconvert_exporter": "python",
   "pygments_lexer": "ipython3",
   "version": "3.11.9"
  }
 },
 "nbformat": 4,
 "nbformat_minor": 5
}
