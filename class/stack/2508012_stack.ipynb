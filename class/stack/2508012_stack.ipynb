{
 "cells": [
  {
   "cell_type": "markdown",
   "id": "a664a478",
   "metadata": {},
   "source": [
    "## ⭐ Stack\n",
    "```\n",
    "접시를 쌓아두었다가 꺼낼 때의 순서를 떠올려 봅시다.  \n",
    "- 식당에서 설거지를 끝낸 접시를 쌓는 곳이 있습니다.\n",
    "- 아래와 같이 순서대로 접시를 올려놓습니다.\n",
    "- 1번 접시 -> 2번 접시 -> 3번 접시\n",
    "- 직원이 접시를 두 개 꺼냈다면, 꺼낸 접시 번호의 순서는?\n",
    "```\n",
    "\n",
    "❗스택과 큐는 서술형 문제로 많이 나옴\n",
    "❗괄호 찾기는 코드 구현으로 많이 나옴\n"
   ]
  },
  {
   "cell_type": "markdown",
   "id": "bfb4b29d",
   "metadata": {},
   "source": [
    "## ⭐ Stack 자료구조 이해\n",
    "\n",
    "##### ✔️ Stack(스택)\n",
    "물건을 쌓아 올리듯 자료를 쌓아 올린 형태의 자료구조 :   \n",
    "- 대표적인 선형 자료구조 중 하나 \n",
    "- 스택에 자료를 삽입하거나, 스택에서 자료를 꺼낼 수 있음\n",
    "\n",
    "##### ✔️ 후입선출 (LIFO)\n",
    "가장 마지막에 넣은 자료가 가장 먼저 나오는 것\n",
    "\n",
    "##### ✔️ 스택 프로그램 구현을 위한 자료구조와 연산\n",
    "\n",
    "```\n",
    "자료구조:\n",
    "스택은 선형 자료 구조이다.\n",
    "```\n",
    "\n",
    "- 배열을 사용해 구현할 수 있음  \n",
    "  -> 파이썬에서는 리스트를 사용해 구현할 수 있음  \n",
    "- 저장소 자체를 스택이라 부르기도 함  \n",
    "  -> 용도에 따라 메모리의 일부를 스택으로 부름  \n",
    "- 스택에서 마지막 삽입된 원소의 위치\n",
    "  -> 스택 포인터, top으로 부르며 데이터를 넣거나 뺄 때 기준이 되는 위치\n",
    "\n",
    "##### 스택의 연산\n",
    "1. 삽입(push)\n",
    "- 저장소에 자료를 저장하는 연산으로, 보통 push라고 부름\n",
    "2. 삭제(pop)\n",
    "- 저장소에서 삽입한 자료의 역순으로 꺼내는 연산으로, 보통 pop이라고 부름\n",
    "3. 스택이 공백인지 아닌지를 확인하는 연산(isEmpty)\n",
    "- 스택이 비어 있으면 True, 아니면 False를 반환함\n",
    "4. 스택의 top에 있는 item(원소)를 반환하는 연산(peek)\n",
    "- 삭제는 하지 않음\n",
    "  \n",
    "![image.png](./img/stack.png)  \n",
    "  \n"
   ]
  },
  {
   "cell_type": "code",
   "execution_count": null,
   "id": "fbe23a93",
   "metadata": {},
   "outputs": [
    {
     "name": "stdout",
     "output_type": "stream",
     "text": [
      "Overflow!\n",
      "[0, 1, 2, 3, 4, 5, 6, 7, 8, 9]\n"
     ]
    }
   ],
   "source": [
    "# push 연산\n",
    "\n",
    "size = 10\n",
    "stack = [0] * size\n",
    "top = 0\n",
    "\n",
    "def my_push(item, size):\n",
    "    global top\n",
    "    top += 1\n",
    "    if top==size:\n",
    "        print('Overflow!')\n",
    "        print(stack)\n",
    "    else:\n",
    "        stack[top] = item\n",
    "\n",
    "for i in range(1,11):\n",
    "    my_push(i, size)\n",
    "\n",
    "# 스택에 실제로 값이 남아있는지 확인하기 위해서는 'top' 이 중요함\n",
    "# top 포인터로 값을 현재 스택의 남은 공간을 파악할 수 있음\n",
    "\n",
    "\n"
   ]
  },
  {
   "cell_type": "code",
   "execution_count": 76,
   "id": "babe9ad0",
   "metadata": {},
   "outputs": [
    {
     "name": "stdout",
     "output_type": "stream",
     "text": [
      "underflow\n",
      "0\n"
     ]
    }
   ],
   "source": [
    "def my_pop():\n",
    "    global top\n",
    "    if top == 0:\n",
    "        print('underflow')\n",
    "        return 0\n",
    "    else:\n",
    "        stack.pop()\n",
    "        top -= 1\n",
    "        return stack\n",
    "    \n",
    "result = my_pop()\n",
    "print(result)\n"
   ]
  },
  {
   "cell_type": "markdown",
   "id": "c7935c90",
   "metadata": {},
   "source": [
    "## ⭐ Stack 응용\n",
    "\n",
    "##### 괄호 검사\n",
    "1. 괄호의 종류\n",
    "- 대괄호[], 중괄호{}, 소괄호()\n",
    "\n",
    "2. 조건\n",
    "- 왼쪽 괄호의 개수와 오른쪽 괄호의 개수가 같아야 한다.\n",
    "- 같은 괄호에서 왼쪽 괄호는 오른쪽 괄호보다 먼저 나와야 한다.\n",
    "- 괄호 사이에는 포함 관계만 존재한다.\n",
    "\n",
    "3. 잘못된 괄호 사용의 예\n",
    "- (a(b)\n",
    "- a(a(b)\n",
    "- a{b(c[d]e)f}\n",
    "\n",
    "##### 스택을 이용한 괄호 검사\n",
    "  \n",
    "![image.png](./img/stack2.png)  \n",
    "\n",
    "괄호 검사 알고리즘:\n",
    "1. 문자열에 있는 괄호를 차례대로 검사하면서 왼쪽 괄호를 만나면 스택에 삽입하고, 오른쪽 괄호를 만나면 스택에서 top 괄호를 삭제한 후 오른쪽 괄호와 짝이 맞는지를 검사한다.\n",
    "2. 이때, 스택이 비어 있으면 조건1️⃣ 또는 조건2️⃣에 위배되고 괄호의 짝이 맞지 않으면 조건3️⃣에 위배된다.\n",
    "3. 마지막 괄호까지 조사한 후에도 스택에 괄호가 남아 있으면 조건1️⃣에 위배된다.\n",
    "\n"
   ]
  },
  {
   "cell_type": "code",
   "execution_count": 258,
   "id": "8fcda443",
   "metadata": {},
   "outputs": [
    {
     "name": "stdout",
     "output_type": "stream",
     "text": [
      "['(', 0]\n",
      "['(', '(']\n"
     ]
    },
    {
     "ename": "IndexError",
     "evalue": "list assignment index out of range",
     "output_type": "error",
     "traceback": [
      "\u001b[31m---------------------------------------------------------------------------\u001b[39m",
      "\u001b[31mIndexError\u001b[39m                                Traceback (most recent call last)",
      "\u001b[36mCell\u001b[39m\u001b[36m \u001b[39m\u001b[32mIn[258]\u001b[39m\u001b[32m, line 13\u001b[39m\n\u001b[32m     11\u001b[39m \u001b[38;5;28;01mfor\u001b[39;00m x \u001b[38;5;129;01min\u001b[39;00m [\u001b[33m'\u001b[39m\u001b[33m(\u001b[39m\u001b[33m'\u001b[39m, \u001b[33m'\u001b[39m\u001b[33m{\u001b[39m\u001b[33m'\u001b[39m, \u001b[33m'\u001b[39m\u001b[33m[\u001b[39m\u001b[33m'\u001b[39m]:\n\u001b[32m     12\u001b[39m     \u001b[38;5;28;01mif\u001b[39;00m \u001b[38;5;28mstr\u001b[39m[i] == x:\n\u001b[32m---> \u001b[39m\u001b[32m13\u001b[39m         \u001b[43mstack\u001b[49m\u001b[43m[\u001b[49m\u001b[43mtop\u001b[49m\u001b[43m]\u001b[49m = x\n\u001b[32m     14\u001b[39m         top += \u001b[32m1\u001b[39m\n\u001b[32m     15\u001b[39m         \u001b[38;5;28mprint\u001b[39m(stack)\n",
      "\u001b[31mIndexError\u001b[39m: list assignment index out of range"
     ]
    }
   ],
   "source": [
    "str =\"((안녕하세요.{반갑습니다.}[괄호검사중입니다.])\"\n",
    "size = len(str)\n",
    "stack = [0] * 2\n",
    "top = 0\n",
    "\n",
    "for i in range(size):\n",
    "    if top == -1:\n",
    "        print('uderflow')\n",
    "    elif top == size:\n",
    "        print('overflow')\n",
    "    for x in ['(', '{', '[']:\n",
    "        if str[i] == x:\n",
    "            stack[top] = x\n",
    "            top += 1\n",
    "            print(stack)\n",
    "        else:\n",
    "            for y in [')', '}', ']']:\n",
    "                if str[i] == y:\n",
    "                    top -= 1\n",
    "\n",
    "print(stack)"
   ]
  },
  {
   "cell_type": "code",
   "execution_count": 153,
   "id": "18515ae1",
   "metadata": {},
   "outputs": [
    {
     "name": "stdout",
     "output_type": "stream",
     "text": [
      "--- 데이터 추가 ---\n",
      "0을(를) push한 결과: [0, 0, 0, 0, 0]\n",
      "1을(를) push한 결과: [0, 1, 0, 0, 0]\n",
      "2을(를) push한 결과: [0, 1, 2, 0, 0]\n",
      "\n",
      "--- 현재 스택 상태 ---\n",
      "현재 스택: [0, 1, 2, 0, 0]\n",
      "top 인덱스: 2\n",
      "\n",
      "--- 데이터 제거 ---\n",
      "pop한 데이터: 2\n",
      "pop 후 스택: [0, 1, 2, 0, 0]\n",
      "top 인덱스: 1\n"
     ]
    }
   ],
   "source": [
    "# 저장소 설정 (스택 초기화)\n",
    "N = 5\n",
    "stack = [0] * N  # 크기가 5인 고정 배열로 스택을 만듭니다.\n",
    "top = -1         # 스택의 마지막 데이터 인덱스. 초기에는 데이터가 없으므로 -1입니다.\n",
    "\n",
    "# 연산 (스택 기능)\n",
    "def push(item):\n",
    "    global top\n",
    "    # 스택 오버플로우(가득 참) 확인: top이 N-1이면 더 이상 넣을 수 없습니다.\n",
    "    if top == N - 1:\n",
    "        return 'overflow!'\n",
    "    top += 1\n",
    "    stack[top] = item\n",
    "\n",
    "def pop():\n",
    "    global top\n",
    "    # 스택 언더플로우(비어 있음) 확인: top이 -1이면 꺼낼 데이터가 없습니다.\n",
    "    if top == -1:\n",
    "        return 'underflow!'\n",
    "    ret = stack[top]\n",
    "    top -= 1\n",
    "    return ret\n",
    "\n",
    "# 올바른 사용 예시: push 함수를 사용하여 스택에 데이터 추가\n",
    "print(\"--- 데이터 추가 ---\")\n",
    "for val in range(3):\n",
    "    result = push(val)\n",
    "    print(f\"{val}을(를) push한 결과: {stack}\")\n",
    "\n",
    "# 스택의 현재 상태 출력\n",
    "print(\"\\n--- 현재 스택 상태 ---\")\n",
    "print(f\"현재 스택: {stack}\")\n",
    "print(f\"top 인덱스: {top}\")\n",
    "\n",
    "# 올바른 사용 예시: pop 함수를 사용하여 스택에서 데이터 제거\n",
    "print(\"\\n--- 데이터 제거 ---\")\n",
    "popped_item = pop()\n",
    "print(f\"pop한 데이터: {popped_item}\")\n",
    "print(f\"pop 후 스택: {stack}\")\n",
    "print(f\"top 인덱스: {top}\")"
   ]
  },
  {
   "cell_type": "markdown",
   "id": "ffd6a9bc",
   "metadata": {},
   "source": [
    "## ✍️ 연습문제"
   ]
  },
  {
   "cell_type": "markdown",
   "id": "3a640856",
   "metadata": {},
   "source": [
    "##### 스택_제로\n",
    "\n",
    "1. N개의 정수들이 입력으로 주어진다.\n",
    "2. 첫번째 숫자 부터 순서대로 기록하다가, 중간에 0이 나오면 바로 이전에 입력된 숫자를 지운다.\n",
    "3. 0이 나올때 지울 숫자가 없는 경우는 없다.\n",
    "4. 최종적으로 기록된 숫자들의 총합을 계산하는 프로그램을 작성하자.\n",
    "\n",
    "- 예를 들어, 4 0 2 3 0 이 입력되면   \n",
    "[4]     # 4 기록  \n",
    "[]       # 0에 의해 4 삭제  \n",
    "[2]     # 2 기록  \n",
    "[2, 3]  # 3 기록  \n",
    "[2]     # 0에 의해 3 삭제  \n",
    "  \n",
    "- 2만 기록된 상태이므로 합은 2가 된다.  \n",
    "\n",
    "5. 반드시 스택을 활용해서 코드를 작성해보자.\n",
    "\n",
    "[입력]  \n",
    "1. 첫 줄에 테스트 케이스 수가 주어진다.\n",
    "2. 각 테스트 케이스 마다 첫줄에 정수의 개수 N이 주어지고 (5 <= N <= 30)\n",
    "3. 다음 줄에 N개의 정수값(1이상 10이하)들이 공백으로 구분되어, 한 줄에 주어진다.\n",
    "\n",
    "[출력]  \n",
    "1. '#' 과 함께 테스트 케이스 번호를 출력하고, 최종적으로 적힌 수들의 합을 출력한다.\n",
    "\n"
   ]
  },
  {
   "cell_type": "code",
   "execution_count": null,
   "id": "aadcc1b9",
   "metadata": {},
   "outputs": [
    {
     "name": "stdout",
     "output_type": "stream",
     "text": [
      "[4, 0, 0, 0, 0]\n",
      "0\n",
      "[4, 0, 0, 0, 0]\n",
      "-1\n",
      "[2, 0, 0, 0, 0]\n",
      "0\n",
      "[2, 3, 0, 0, 0]\n",
      "1\n",
      "[2, 3, 0, 0, 0]\n",
      "0\n",
      "0\n",
      "#1 2\n",
      "2 \n"
     ]
    }
   ],
   "source": [
    "# 테스트 케이스 입력 받기\n",
    "T = int(input())\n",
    "\n",
    "for time in range(1, T+1):\n",
    "    # 사이즈 설정\n",
    "    N= int(input())\n",
    "    arr = list(map(int, input().split()))\n",
    "    top = -1\n",
    "    stack = [0] * N\n",
    "\n",
    "    # 연산\n",
    "    # top이 움직이는 위치에 따라 값을 넣기도 하고, 덮어쓰기도 함\n",
    "    # top이 위치해있는 곳이 stack이 쌓여있는 곳임\n",
    "    for i in range(N):\n",
    "        if arr[i] > 0:\n",
    "            top += 1\n",
    "            stack[top] = arr[i]\n",
    "        else:\n",
    "            top -= 1\n",
    "\n",
    "\n",
    "    print(f'#{time}', end=' ')\n",
    "    sum = 0\n",
    "    for i in stack[:top+1]:\n",
    "        sum += i\n",
    "    print(sum, end=' ')\n",
    "    print()"
   ]
  },
  {
   "cell_type": "markdown",
   "id": "3239865e",
   "metadata": {},
   "source": [
    "##### ✍️ 파스칼의 삼각형\n",
    "\n",
    "1. 크기가 N인 파스칼의 삼각형을 만들어야 한다.\n",
    "2. 파스칼의 삼각형이란 아래와 같은 규칙을 따른다.\n",
    "3. 첫 번째 줄은 항상 숫자 1이다.\n",
    "4. 두 번째 줄부터 각 숫자들은 자신의 왼쪽과 오른쪽 위의 숫자의 합으로 구성된다.\n",
    "\n",
    "```\n",
    "N이 4일 경우,\n",
    "N을 입력 받아 크기 N인 파스칼의 삼각형을 출력하는 프로그램을 작성하시오.\n",
    "```\n",
    "\n",
    "[제약 사항]  \n",
    "1. 파스칼의 삼각형의 크기 N은 1 이상 10 이하의 정수이다. (1 ≤ N ≤ 10)  \n",
    "\n",
    "[입력]  \n",
    "1. 가장 첫 줄에는 테스트 케이스의 개수 T가 주어지고, 그 아래로 각 테스트 케이스가 주어진다.  \n",
    "2. 각 테스트 케이스에는 N이 주어진다.  \n",
    "\n",
    "[출력]  \n",
    "1. 각 줄은 '#t'로 시작하고, 다음 줄부터 파스칼의 삼각형을 출력한다.\n",
    "2. 삼각형 각 줄의 처음 숫자가 나오기 전까지의 빈 칸은 생략하고 숫자들 사이에는 한 칸의 빈칸을 출력한다.  \n",
    "(t는 테스트 케이스의 번호를 의미하며 1부터 시작한다.)"
   ]
  },
  {
   "cell_type": "code",
   "execution_count": null,
   "id": "39a80e9f",
   "metadata": {},
   "outputs": [
    {
     "name": "stdout",
     "output_type": "stream",
     "text": [
      "#1\n",
      "1 \n",
      "1 1 \n",
      "1 2 1 \n",
      "1 3 3 1 \n"
     ]
    }
   ],
   "source": [
    "# 델타로 풀이함\n",
    "T = int(input())\n",
    "\n",
    "for time in range(1, T + 1):\n",
    "    N = int(input())\n",
    "    # N의 크기만큼의 2차 배열을 만듬\n",
    "    arr = [[0]*(N) for _ in range(N)]\n",
    "\t# 기준값에서 위쪽의 좌우 값을 델타로 저장함\n",
    "    dr = [-1, -1]\n",
    "    dc = [-1, 0]\n",
    "    # arr의 첫번째 값은 무조건 1임\n",
    "    arr[0][0] = 1\n",
    "    \n",
    "    # arr[0][0] 값은 1로 고정되어 있으므로 그 다음 인덱스인 1부터 시작해야 함\n",
    "    for i in range(1, N):\n",
    "        # 첫번째 인덱스는 1~N까지 순회함\n",
    "        for j in range(i+1):\n",
    "\n",
    "            for idx in range(2):\n",
    "                r = i + dr[idx]\n",
    "                c = j + dc[idx]\n",
    "                if r < 0 or r >= N or c < 0 or c >= N:\n",
    "                    continue\n",
    "                    \n",
    "                arr[i][j] += arr[r][c]\n",
    "\n",
    "    print(f'#{time}')\n",
    "    for i in range(N):\n",
    "        for j in range(N):\n",
    "            if arr[i][j] > 0:\n",
    "                print(arr[i][j], end=' ')\n",
    "        print()\n"
   ]
  },
  {
   "cell_type": "markdown",
   "id": "4307a5b5",
   "metadata": {},
   "source": [
    "##### ✍️ 0812_Stack1 (5)\n",
    "\n",
    "1. 문자열 s에서 반복된 문자를 지우려고 한다. 지워진 부분은 다시 앞뒤를 연결하는데, 2. 만약 연결에 의해 또 반복문자가 생기면 이부분을 다시 지운다.\n",
    "3. 반복문자를 지운 후 남은 문자열의 길이를 출력 하시오. 남은 문자열이 없으면 0을 출력한다.\n",
    "4. 다음은 CAAABBA에서 반복문자를 지우는 경우의 예이다.\n",
    " \n",
    "```\n",
    "CAAABBA 연속 문자 AA를 지우고 C와 A를 잇는다.\n",
    "CABBA 연속 문자 BB를 지우고 A와 A를 잇는다.\n",
    "CAA 연속 문자 AA를 지운다.\n",
    "C 1글자가 남았으므로 1을 리턴한다.\n",
    "```\n",
    " \n",
    "[입력]  \n",
    "1. 첫 줄에 테스트 케이스 개수 T가 주어진다.  1≤T≤ 50\n",
    "2. 다음 줄부터 테스트 케이스의 별로 길이가 1000이내인 문자열이 주어진다.\n",
    "\n",
    "[출력]  \n",
    "1. '#'과 1번부터인 테스트케이스 번호, 빈칸에 이어 답을 출력한다."
   ]
  },
  {
   "cell_type": "code",
   "execution_count": null,
   "id": "5d1c06fb",
   "metadata": {},
   "outputs": [
    {
     "name": "stdout",
     "output_type": "stream",
     "text": [
      "#1 4\n"
     ]
    }
   ],
   "source": [
    "T = int(input())\n",
    "\n",
    "for time in range(1, T+1):\n",
    "\n",
    "    str = input()\n",
    "\n",
    "    top = 0\n",
    "    N = len(str)\n",
    "    stack = [''] * 1000\n",
    "\n",
    "    stack[0] = str[0]\n",
    "    for i in range(1, N):\n",
    "        if stack[top] != str[i]:\n",
    "            top += 1\n",
    "            stack[top] = str[i] \n",
    "        else:\n",
    "            top -= 1\n",
    "\n",
    "    if len(stack[:top+1]) > 0:\n",
    "        print(f'#{time} {len(stack[:top+1])}')\n",
    "    else:\n",
    "        print(f'#{time} {0}')"
   ]
  },
  {
   "cell_type": "markdown",
   "id": "81a1648f",
   "metadata": {},
   "source": [
    "##### ✍️ 10일차 - 비밀번호\n",
    "\n",
    "1. 평소에 잔머리가 발달하고 게으른 철수는 비밀번호를 기억하는 것이 너무 귀찮았습니다.\n",
    "2. 적어서 가지고 다니고 싶지만 누가 볼까봐 걱정입니다. 한가지 생각을 해냅니다.\n",
    "3. 0~9로 이루어진 번호 문자열에서 같은 번호로 붙어있는 쌍들을 소거하고 남은 번호를 비밀번호로 만드는 것입니다.\n",
    "4. 번호 쌍이 소거되고 소거된 번호 쌍의 좌우 번호가 같은 번호이면 또 소거 할 수 있습니다.\n",
    "5. 예를 들어 아래의 번호 열을 철수의 방법으로 소거하고 알아낸 비밀 번호입니다.\n",
    "\n",
    "![image.png](./img/stack3.png)\n",
    "\n",
    "[입력]  \n",
    "1. 10개의 테스트 케이스가 10줄에 걸쳐, 한 줄에 테스트 케이스 하나씩 제공된다.\n",
    "2. 각 테스트 케이스는 우선 문자열이 포함하는 문자의 총 수가 주어지고, 공백을 둔 다음 번호 문자열이 공백 없이 제공된다.\n",
    "3. 문자열은 0~9로 구성되며 문자열의 길이 N은 10≤N≤100이다. 비밀번호의 길이는 문자열의 길이보다 작다.\n",
    " \n",
    "[출력]    \n",
    "1. '#'부호와 함께 테스트 케이스의 번호를 출력하고, 공백 문자 후 테스트 케이스에 대한 답(비밀번호)을 출력한다."
   ]
  },
  {
   "cell_type": "code",
   "execution_count": 244,
   "id": "2eb87f79",
   "metadata": {},
   "outputs": [
    {
     "name": "stdout",
     "output_type": "stream",
     "text": [
      "#1 1234\n",
      "#2 4123\n",
      "#3 123123\n",
      "#4 1234123123\n",
      "#5 12341\n",
      "#6 123535\n",
      "#7 123432141\n",
      "#8 231231321\n",
      "#9 12312323\n",
      "#10 9823\n"
     ]
    }
   ],
   "source": [
    "for time in range(1, 11):\n",
    "\n",
    "    N, pwd = input().split()\n",
    "    stack = [0] * 100\n",
    "    top = 0\n",
    "\n",
    "    stack[0] = pwd[0]\n",
    "    for i in range(1, int(N)):\n",
    "        if stack[top] != pwd[i]:\n",
    "            top += 1\n",
    "            stack[top] = pwd[i]\n",
    "        else:\n",
    "            top -= 1\n",
    "\n",
    "    print(f'#{time}', end=' ')\n",
    "    for i in stack[:top+1]:\n",
    "        print(int(i), end='')\n",
    "    print()\n"
   ]
  },
  {
   "cell_type": "markdown",
   "id": "65b44709",
   "metadata": {},
   "source": [
    "##### ✍️ 스택1_괄호검사\n",
    "1. 주어진 입력에서 괄호 {}, ()가 제대로 짝을 이뤘는지 검사하는 프로그램을 만드시오.\n",
    "2. 예를 들어 {( )}는 제대로 된 짝이지만, {( })는 제대로 된 짝이 아니다. 입력은 한 줄의 파이썬 코드일수도 있고, 괄호만 주어질 수도 있다.\n",
    "3. 정상적으로 짝을 이룬 경우 1, 그렇지 않으면 0을 출력한다.\n",
    "4. print(‘{‘) 같은 경우는 입력으로 주어지지 않으므로 고려하지 않아도 된다.\n",
    "\n",
    "[입력]  \n",
    "1. 첫 줄에 테스트 케이스 개수 T가 주어진다.  1≤T≤50  \n",
    "2. 다음 줄부터 테스트 케이스 별로 온전한 형태이거나 괄호만 남긴 한 줄의 코드가 주어진다.\n",
    "\n",
    "[출력] \n",
    "1. 각 줄마다 \"#T\" (T는 테스트 케이스 번호)를 출력한 뒤, 답을 출력한다."
   ]
  },
  {
   "cell_type": "code",
   "execution_count": null,
   "id": "d2c4d394",
   "metadata": {},
   "outputs": [
    {
     "ename": "TypeError",
     "evalue": "'builtin_function_or_method' object is not subscriptable",
     "output_type": "error",
     "traceback": [
      "\u001b[31m---------------------------------------------------------------------------\u001b[39m",
      "\u001b[31mTypeError\u001b[39m                                 Traceback (most recent call last)",
      "\u001b[36mCell\u001b[39m\u001b[36m \u001b[39m\u001b[32mIn[291]\u001b[39m\u001b[32m, line 26\u001b[39m\n\u001b[32m     23\u001b[39m     stack[top] = \u001b[38;5;28mstr\u001b[39m[i]\n\u001b[32m     25\u001b[39m \u001b[38;5;28;01melif\u001b[39;00m \u001b[38;5;28mstr\u001b[39m[i] \u001b[38;5;129;01min\u001b[39;00m arr.values():\n\u001b[32m---> \u001b[39m\u001b[32m26\u001b[39m     \u001b[38;5;28mprint\u001b[39m(\u001b[43marr\u001b[49m\u001b[43m.\u001b[49m\u001b[43mget\u001b[49m\u001b[43m[\u001b[49m\u001b[43mstack\u001b[49m\u001b[43m[\u001b[49m\u001b[43mtop\u001b[49m\u001b[43m]\u001b[49m\u001b[43m]\u001b[49m)\n\u001b[32m     27\u001b[39m     \u001b[38;5;28;01mif\u001b[39;00m arr[stack[top]] == \u001b[38;5;28mstr\u001b[39m[i]:\n\u001b[32m     28\u001b[39m         ans -= \u001b[32m1\u001b[39m\n",
      "\u001b[31mTypeError\u001b[39m: 'builtin_function_or_method' object is not subscriptable"
     ]
    }
   ],
   "source": [
    "# 3\n",
    "# print('{} {}'.format(1, 2))\n",
    "# N, M = map(int, input({).split()}) \n",
    "# print('#{} {}'.format(tc, find())\n",
    "\n",
    "T = int(input())\n",
    "\n",
    "for time in range(1, T+1):\n",
    "    str = input()\n",
    "\n",
    "    N = len(str)\n",
    "    top = -1\n",
    "    stack = [''] * 100\n",
    "\n",
    "    ans = 1\n",
    "\n",
    "    arr = {\"(\" : \")\", \"{\" : \"}\", \"[\" : \"]\"}\n",
    "\n",
    "    for i in range(N):\n",
    "        if str[i] in arr.keys():\n",
    "            top += 1\n",
    "            ans += 1\n",
    "            stack[top] = str[i]\n",
    " \n",
    "        elif str[i] in arr.values():\n",
    "            print(arr.get(stack[top]))\n",
    "            if arr[stack[top]] == str[i]:\n",
    "                ans -= 1\n",
    "                top -= 1\n",
    "            else:\n",
    "                ans += 1\n",
    "                top += 1\n",
    "\n",
    "    if ans == 1 and top == -1:\n",
    "        print(f'#{time} {1}')\n",
    "    else:\n",
    "        print(f'#{time} {0}')\n",
    "\n"
   ]
  }
 ],
 "metadata": {
  "kernelspec": {
   "display_name": "Python 3",
   "language": "python",
   "name": "python3"
  },
  "language_info": {
   "codemirror_mode": {
    "name": "ipython",
    "version": 3
   },
   "file_extension": ".py",
   "mimetype": "text/x-python",
   "name": "python",
   "nbconvert_exporter": "python",
   "pygments_lexer": "ipython3",
   "version": "3.11.9"
  }
 },
 "nbformat": 4,
 "nbformat_minor": 5
}
