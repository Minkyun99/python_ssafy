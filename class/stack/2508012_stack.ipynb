{
 "cells": [
  {
   "cell_type": "markdown",
   "id": "a664a478",
   "metadata": {},
   "source": [
    "## ⭐ Stack\n",
    "```\n",
    "접시를 쌓아두었다가 꺼낼 때의 순서를 떠올려 봅시다.  \n",
    "- 식당에서 설거지를 끝낸 접시를 쌓는 곳이 있습니다.\n",
    "- 아래와 같이 순서대로 접시를 올려놓습니다.\n",
    "- 1번 접시 -> 2번 접시 -> 3번 접시\n",
    "- 직원이 접시를 두 개 꺼냈다면, 꺼낸 접시 번호의 순서는?\n",
    "```\n"
   ]
  },
  {
   "cell_type": "markdown",
   "id": "bfb4b29d",
   "metadata": {},
   "source": [
    "## ⭐ Stack 자료구조 이해\n",
    "\n",
    "##### ✔️ Stack(스택)\n",
    "물건을 쌓아 올리듯 자료를 쌓아 올린 형태의 자료구조 :   \n",
    "- 대표적인 선형 자료구조 중 하나 \n",
    "- 스택에 자료를 삽입하거나, 스택에서 자료를 꺼낼 수 있음\n",
    "\n",
    "##### ✔️ 후입선출 (LIFO)\n",
    "가장 마지막에 넣은 자료가 가장 먼저 나오는 것\n",
    "\n",
    "##### ✔️ 스택 프로그램 구현을 위한 자료구조와 연산\n",
    "\n",
    "```\n",
    "자료구조:\n",
    "스택은 선형 자료 구조이다.\n",
    "```\n",
    "\n",
    "- 배열을 사용해 구현할 수 있음  \n",
    "  -> 파이썬에서는 리스트를 사용해 구현할 수 있음  \n",
    "- 저장소 자체를 스택이라 부르기도 함  \n",
    "  -> 용도에 따라 메모리의 일부를 스택으로 부름  \n",
    "- 스택에서 마지막 삽입된 원소의 위치\n",
    "  -> 스택 포인터, top으로 부르며 데이터를 넣거나 뺄 때 기준이 되는 위치\n",
    "\n",
    "##### 스택의 연산\n",
    "1. 삽입(push)\n",
    "- 저장소에 자료를 저장하는 연산으로, 보통 push라고 부름\n",
    "2. 삭제(pop)\n",
    "- 저장소에서 삽입한 자료의 역순으로 꺼내는 연산으로, 보통 pop이라고 부름\n",
    "3. 스택이 공백인지 아닌지를 확인하는 연산(isEmpty)\n",
    "- 스택이 비어 있으면 True, 아니면 False를 반환함\n",
    "4. 스택의 top에 있는 item(원소)를 반환하는 연산(peek)\n",
    "- 삭제는 하지 않음\n",
    "  \n",
    "![image.png](./img/stack.png)  \n",
    "  \n"
   ]
  },
  {
   "cell_type": "code",
   "execution_count": 65,
   "id": "fbe23a93",
   "metadata": {},
   "outputs": [
    {
     "name": "stdout",
     "output_type": "stream",
     "text": [
      "Overflow!\n",
      "[0, 1, 2, 3, 4, 5, 6, 7, 8, 9]\n"
     ]
    }
   ],
   "source": [
    "# push 연산\n",
    "\n",
    "size = 10\n",
    "stack = [0] * size\n",
    "top = 0\n",
    "\n",
    "def my_push(item, size):\n",
    "    global top\n",
    "    top += 1\n",
    "    if top==size:\n",
    "        print('Overflow!')\n",
    "        print(stack)\n",
    "    else:\n",
    "        stack[top] = item\n",
    "\n",
    "for i in range(1,11):\n",
    "    my_push(i, size)\n",
    "\n",
    "\n"
   ]
  },
  {
   "cell_type": "code",
   "execution_count": 76,
   "id": "babe9ad0",
   "metadata": {},
   "outputs": [
    {
     "name": "stdout",
     "output_type": "stream",
     "text": [
      "underflow\n",
      "0\n"
     ]
    }
   ],
   "source": [
    "def my_pop():\n",
    "    global top\n",
    "    if top == 0:\n",
    "        print('underflow')\n",
    "        return 0\n",
    "    else:\n",
    "        stack.pop()\n",
    "        top -= 1\n",
    "        return stack\n",
    "    \n",
    "result = my_pop()\n",
    "print(result)\n"
   ]
  },
  {
   "cell_type": "markdown",
   "id": "c7935c90",
   "metadata": {},
   "source": [
    "## ⭐ Stack 응용"
   ]
  }
 ],
 "metadata": {
  "kernelspec": {
   "display_name": "Python 3",
   "language": "python",
   "name": "python3"
  },
  "language_info": {
   "codemirror_mode": {
    "name": "ipython",
    "version": 3
   },
   "file_extension": ".py",
   "mimetype": "text/x-python",
   "name": "python",
   "nbconvert_exporter": "python",
   "pygments_lexer": "ipython3",
   "version": "3.11.9"
  }
 },
 "nbformat": 4,
 "nbformat_minor": 5
}
