{
 "cells": [
  {
   "cell_type": "markdown",
   "id": "308b859c",
   "metadata": {},
   "source": [
    "## data 구조\n",
    "친구 번호를 검색하기 쉬운 구조로 만듬 :\n",
    "\n",
    "```\n",
    "딕셔너리 변수의 형태로 친구 번호를 저장함\n",
    "```\n",
    "   -> {\"민수\":\"010-1234-5678\"}\n",
    "```\n",
    "딕셔너리와 세트의 개념\n",
    "```\n",
    " 1. get, update, pop 등 딕셔너리 메서드를 활용해 데이터를 안전하게 조회, 수정, 삭제함\n",
    " 2. union, intersection, difference 등 세트 집합 연산으로 중복을 제거하고 관계를 분석할 수 있음\n",
    " 3. 해시 테이블과 hashable 원리를 이해하고 키 제약을 설명할 수 있음\n"
   ]
  },
  {
   "cell_type": "code",
   "execution_count": null,
   "id": "ef46b3aa",
   "metadata": {},
   "outputs": [
    {
     "name": "stdout",
     "output_type": "stream",
     "text": [
      "민수\n",
      "None\n",
      "해당 키는 존재하지 않습니다.\n"
     ]
    }
   ],
   "source": [
    "# Dictionary : 비시퀀스 구조, 키와 값이 쌍을 이루는 구조\n",
    "\n",
    "person = {'name' : '민수', 'age' : 25, 'gender' : 'male'}\n",
    "\n",
    "# get : 키에 연결된 값을 반환하거나 키가 없으면 None 혹은 기본 값을 반환\n",
    "print(person.get('name'))\n",
    "print(person.get('country')) # 해당 키가 없으므로 None을 반환\n",
    "print(person.get('country', '해당 키는 존재하지 않습니다.')) # 해당 키가 없으면, default 값을 지정하여 출력할 수 있음\n",
    "# print(person['country']) # person 딕셔너리에서 바로 키를 찾을 때, 해당 키가 없으면 에러가 발생됨\n",
    "\n"
   ]
  },
  {
   "cell_type": "code",
   "execution_count": null,
   "id": "c123e3f7",
   "metadata": {},
   "outputs": [
    {
     "name": "stdout",
     "output_type": "stream",
     "text": [
      "dict_keys(['name', 'age', 'gender'])\n",
      "name\n",
      "age\n",
      "gender\n",
      "country\n"
     ]
    }
   ],
   "source": [
    "# keys : 딕셔너리 키를 모은 객체를 반환\n",
    "\n",
    "print(person.keys()) # 리스트처럼 대괄호로 감싸져서 출력이 되므로 순회 가능함\n",
    "person['country'] = 'Korea' # 실시간으로 동기화 됨\n",
    "\n",
    "for item in person.keys():\n",
    "    print(item)"
   ]
  },
  {
   "cell_type": "code",
   "execution_count": null,
   "id": "0b2ffa9b",
   "metadata": {},
   "outputs": [
    {
     "name": "stdout",
     "output_type": "stream",
     "text": [
      "dict_values(['민수', 25, 'male', 'Korea'])\n",
      "민수\n",
      "25\n",
      "male\n",
      "Korea\n"
     ]
    }
   ],
   "source": [
    "# values : 값만 출력하기\n",
    "print(person.values())\n",
    "\n",
    "for value in person.values():\n",
    "    print(value)"
   ]
  },
  {
   "cell_type": "code",
   "execution_count": null,
   "id": "79f8732b",
   "metadata": {},
   "outputs": [
    {
     "name": "stdout",
     "output_type": "stream",
     "text": [
      "name 민수\n",
      "age 25\n",
      "gender male\n",
      "country Korea\n"
     ]
    }
   ],
   "source": [
    "# items : 키-값 쌍으로 출력하기\n",
    "for key, value in person.items(): # 갯수에 맞추어 변수를 주면, 언패킹\n",
    "    print(key, value)"
   ]
  },
  {
   "cell_type": "code",
   "execution_count": 31,
   "id": "b7f3e78d",
   "metadata": {},
   "outputs": [
    {
     "name": "stdout",
     "output_type": "stream",
     "text": [
      "25\n",
      "dict_keys(['name', 'gender'])\n",
      "None\n"
     ]
    }
   ],
   "source": [
    "# pop : 키를 제거하고 연결했던 값을 반환\n",
    "print(person.pop('age'))\n",
    "print(person.keys())\n",
    "print(person.pop('country', None)) # 해당 값이 없으면 None을 반환"
   ]
  },
  {
   "cell_type": "code",
   "execution_count": null,
   "id": "211e4c9c",
   "metadata": {},
   "outputs": [
    {
     "name": "stdout",
     "output_type": "stream",
     "text": [
      "25\n",
      "Korea\n",
      "{'name': '민수', 'gender': 'male', 'age': 25, 'country': 'Korea'}\n"
     ]
    }
   ],
   "source": [
    "# setdefault : 키와 연결된 값을 반환, 키가 없다면 default와 연결한 키를 딕셔너리에 추가하고 default를 반환\n",
    "# get 기능 + 키-값 추가 기능\n",
    "print(person.setdefault('age', 25))\n",
    "print(person.setdefault('country', 'Korea'))\n",
    "\n",
    "print(person)"
   ]
  },
  {
   "cell_type": "code",
   "execution_count": null,
   "id": "95066e47",
   "metadata": {},
   "outputs": [
    {
     "name": "stdout",
     "output_type": "stream",
     "text": [
      "2149302808064\n",
      "{}\n",
      "2149302808064\n",
      "{}\n",
      "2149296915200\n"
     ]
    }
   ],
   "source": [
    "# clear : 딕셔너리의 모든 키-값 쌍을 제거\n",
    "print(id(person))\n",
    "person.clear()\n",
    "print(person)\n",
    "print(id(person)) # clear는 단순히 안의 내용만 삭제한 것임\n",
    "person = {'name' : '민수', 'age' : 25, 'gender' : 'male'}\n",
    "person = {} # 빈 배열로 선언하면 재할당 되기 때문에 id가 변경됨\n",
    "print(person)\n",
    "print(id(person))"
   ]
  },
  {
   "cell_type": "code",
   "execution_count": 40,
   "id": "f161316e",
   "metadata": {},
   "outputs": [
    {
     "name": "stdout",
     "output_type": "stream",
     "text": [
      "{'name': 'Jane', 'age': 100, 'gender': 'male', 'country': 'korea'}\n"
     ]
    }
   ],
   "source": [
    "# update : other가 제공하는 키-값 쌍으로 딕셔너리를 갱신하고 기존 키는 덮어씀\n",
    "\n",
    "person = {'name' : '민수', 'age' : 25, 'gender' : 'male'}\n",
    "other_person = {'name' : 'Jane', 'age':25, 'country': \"korea\"}\n",
    "person.update(other_person) # 업데이트 시, 딕셔너리를 갱신하고, 기존 키는 덮어쓰게 되므로 이름이 바뀜\n",
    "person.update(age=100) # = 형태로도 키-값을 만들 수 있음\n",
    "print(person)"
   ]
  },
  {
   "cell_type": "markdown",
   "id": "9a25781a",
   "metadata": {},
   "source": [
    "## Set\n",
    "고유한 항목들의 정렬되지 않은 컬렉션\n",
    "\n",
    "```\n",
    " 1. set은 내부적으로 해시테이블을 사용하여 데이터를 저장함\n",
    " 2. 이로 인해 항목의 고유성을 효율적으로 보장하며, 항목의 추가, 삭제, 존재 여부 확인이 데이터의 크기에 관계없이 매우 빠름\n",
    " 3. 또한, 합집합, 교집합, 차집합 등 수학적인 집합 연산을 간편하게 수행할 수 있는 것이 특징임\n",
    " ```\n",
    "\n",
    " ```\n",
    " 리스트를 set로 바꾸는 순간 리스트의 순서가 변경됨\n",
    " set는 중복을 제거해주기 때문에 리스트의 중복을 제거하기에 좋음\n",
    " ```"
   ]
  },
  {
   "cell_type": "code",
   "execution_count": 126,
   "id": "2507bb07",
   "metadata": {},
   "outputs": [
    {
     "name": "stdout",
     "output_type": "stream",
     "text": [
      "{'d', 'c', 'a', 'g', 'b', 'f', 'e'}\n"
     ]
    }
   ],
   "source": [
    "# add : 세트에 값을 추가\n",
    "\n",
    "my_set = set({'a', 'b', 'c', 'd', 'e', 'f'})\n",
    "my_set.add('g')\n",
    "print(my_set) # 실행할 때마다 순서가 변경될 수 있음"
   ]
  },
  {
   "cell_type": "code",
   "execution_count": 127,
   "id": "d5b73929",
   "metadata": {},
   "outputs": [
    {
     "name": "stdout",
     "output_type": "stream",
     "text": [
      "{1, 2, 3, 4, 5, 'b', 'a', 'c', 'g', 'f', 'e', 'd'}\n"
     ]
    }
   ],
   "source": [
    "# update : 세트에 다른 iterable 요소 추가\n",
    "\n",
    "my_set.update([1, 2, 3, 4, 5])\n",
    "print(my_set)"
   ]
  },
  {
   "cell_type": "code",
   "execution_count": 54,
   "id": "7e4a0f91",
   "metadata": {},
   "outputs": [
    {
     "name": "stdout",
     "output_type": "stream",
     "text": [
      "{'d', 'c', 'g', 'b', 'f', 'e'}\n"
     ]
    }
   ],
   "source": [
    "# remove : 세트에서 항목을 제거, 항목이 없을 경우 keyError 발생\n",
    "\n",
    "my_set.remove('a')\n",
    "print(my_set)\n",
    "# print(my_set.remove(7)) # key 에러가 발생함\n",
    "\n"
   ]
  },
  {
   "cell_type": "code",
   "execution_count": 121,
   "id": "1ff60ac4",
   "metadata": {},
   "outputs": [
    {
     "name": "stdout",
     "output_type": "stream",
     "text": [
      "3\n",
      "{4, 5, 'b', 'a', 'c', 'g', 'f', 'e', 'd'}\n"
     ]
    }
   ],
   "source": [
    "# pop : 세트에서 임의의 요소를 제거하고 반환\n",
    "\n",
    "removed_item = my_set.pop() # 랜덤하게 제거하는 것은 아님, 순서가 없기 때문에 마지막에 위치한 요소가 랜덤하게 제거됨\n",
    "print(removed_item)\n",
    "print(my_set)"
   ]
  },
  {
   "cell_type": "code",
   "execution_count": 133,
   "id": "771b52da",
   "metadata": {},
   "outputs": [
    {
     "name": "stdout",
     "output_type": "stream",
     "text": [
      "{1, 2, 3, 4, 5, 'b', 'a', 'c', 'f', 'e', 'd'}\n"
     ]
    }
   ],
   "source": [
    "# discard : 세트에서 지정한 값을 제거, remove와 달리 에러가 없음\n",
    "\n",
    "my_set.discard('g')\n",
    "print(my_set) # 값을 없앤 후, 여러번 실행해도 에러가 뜨지 않음"
   ]
  },
  {
   "cell_type": "markdown",
   "id": "1fcce0fc",
   "metadata": {},
   "source": [
    "## 해시 테이블\n",
    "해시 테이블은 키와 값을 짝지어 저장하는 자료구조입니다.\n",
    "\n",
    "```\n",
    "키를 index에서 찾아 몇 번째 인덱스에 있는지 알아낼 수 있음\n",
    "```\n",
    "\n",
    "### 해시함수\n",
    "임의 길이 데이터를 입력 받아 고정 길이(정수)로 변환해 주는 함수. 이 '정수'가 바로 해시 값\n",
    "```\n",
    " 1. 불변 타입은 해시 가능\n",
    " 2. 가변 타입은 일반적으로 해시 불가능\n",
    "    -> 값이 변하면 해시 값도 달라질 수 있어 해시테이블의 무결성이 깨짐\n",
    "```"
   ]
  },
  {
   "cell_type": "code",
   "execution_count": 144,
   "id": "233dd45c",
   "metadata": {},
   "outputs": [
    {
     "name": "stdout",
     "output_type": "stream",
     "text": [
      "i\n",
      "c\n",
      "g\n",
      "b\n",
      "f\n"
     ]
    }
   ],
   "source": [
    "my_str_set = {'a', 'b', 'c', 'd', 'e', 'f', 'g', 'h', 'i', 'j'}\n",
    "\n",
    "print(my_str_set.pop())\n",
    "print(my_str_set.pop())\n",
    "print(my_str_set.pop())\n",
    "print(my_str_set.pop())\n",
    "print(my_str_set.pop())"
   ]
  },
  {
   "cell_type": "code",
   "execution_count": null,
   "id": "7647d89f",
   "metadata": {},
   "outputs": [
    {
     "name": "stdout",
     "output_type": "stream",
     "text": [
      "1\n",
      "-3129549923909677287\n"
     ]
    }
   ],
   "source": [
    "# 해시 함수\n",
    "\n",
    "print(hash(1))\n",
    "print(hash('a')) \n",
    "\n",
    "# 문자열 해시 시, 파이썬 인터프리터 시작 때 설정되는 난수 시드가 달라질 수 있음\n",
    "# 보안상 이유로 해시 난수화 도입\n",
    "# 각 실행마다 달라질 수 있어 'a'의 해시 값도 매번 바뀔 수 있음"
   ]
  }
 ],
 "metadata": {
  "kernelspec": {
   "display_name": "Python 3",
   "language": "python",
   "name": "python3"
  },
  "language_info": {
   "codemirror_mode": {
    "name": "ipython",
    "version": 3
   },
   "file_extension": ".py",
   "mimetype": "text/x-python",
   "name": "python",
   "nbconvert_exporter": "python",
   "pygments_lexer": "ipython3",
   "version": "3.11.9"
  }
 },
 "nbformat": 4,
 "nbformat_minor": 5
}
