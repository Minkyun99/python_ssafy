{
 "cells": [
  {
   "cell_type": "markdown",
   "id": "ea82f4ac",
   "metadata": {},
   "source": [
    "## 시험문제\n",
    "```\n",
    "얕은 복사, 깊은 복사\n",
    "append, pop 차이\n",
    "index\n",
    "```"
   ]
  },
  {
   "cell_type": "code",
   "execution_count": null,
   "id": "0f284499",
   "metadata": {},
   "outputs": [
    {
     "name": "stdout",
     "output_type": "stream",
     "text": [
      "[10, 5, 8, 3, 9, 2, 6, 1]\n",
      "[1, 2, 3, 5, 6, 8, 9, 10]\n",
      "[10, 9, 8, 6, 5, 3, 2, 1]\n",
      "[1, 2, 3, 5, 6, 8, 9, 10]\n"
     ]
    }
   ],
   "source": [
    "# 리스트를 정렬하는 방법\n",
    "lst = [10, 5, 8, 3, 9, 2, 6, 1]\n",
    "\n",
    "# 1. sorted90 내장함수를 사용\n",
    "sorted(lst, reverse=True)\n",
    "print(lst) \n",
    "print(sorted(lst)) # 리스트를 반환함\n",
    "print(sorted(lst, reverse=True)) # 리스트를 반환함\n",
    "\n",
    "# 2. List의 sort 메소드를 사용\n",
    "lst.sort()\n",
    "print(lst)"
   ]
  },
  {
   "cell_type": "code",
   "execution_count": null,
   "id": "8e16a9c4",
   "metadata": {},
   "outputs": [
    {
     "name": "stdout",
     "output_type": "stream",
     "text": [
      "-1\n",
      "1\n"
     ]
    }
   ],
   "source": [
    "# find와 index의 차이\n",
    "\n",
    "print('hello'.find('x')) # -1을 반환\n",
    "#'hello'.index('x') # 에러값을 반환\n",
    "print([1,2,3].index(2))\n"
   ]
  },
  {
   "cell_type": "code",
   "execution_count": null,
   "id": "ea854a78",
   "metadata": {},
   "outputs": [
    {
     "name": "stdout",
     "output_type": "stream",
     "text": [
      "True\n",
      "False\n"
     ]
    }
   ],
   "source": [
    "# 문자열의 대소 비교\n",
    "# 무엇을 기준으로 큰지 작은지 알 수 있나?\n",
    "# 알파벳에 대응하는 ASCII 코드 값\n",
    "print('a' < 'd')\n",
    "print('a' > 'd')"
   ]
  },
  {
   "cell_type": "markdown",
   "id": "70f0c569",
   "metadata": {
    "vscode": {
     "languageId": "html"
    }
   },
   "source": [
    "## 데이터구조\n",
    "여러 데이터를 효과적으로 사용 관리하기 위한 구조 : \n",
    "```\n",
    "str, list, dict 등\n",
    "```\n",
    "\n",
    "## 자료구조\n",
    "각 데이터의 효율적인 저장, 관리를 위한 구조를 나눠 놓은 것"
   ]
  },
  {
   "cell_type": "markdown",
   "id": "ec2600ad",
   "metadata": {},
   "source": [
    "## 메서드\n",
    "\n",
    "메서드는 어딘가에 속해 있는 함수, 각 데이터 타입별로 다양한 기능을 가진 메서드가 존재:\n",
    "```\n",
    "문자열, 리스트, 딕셔너리 등 각 데이터 구조의 메서드를 호출하여 다양한 기능을 활용\n",
    "문자열, 리스트, 딕셔너리 등 파이썬의 다양한 데이터 구조는 저마다 고유한 메서드를 가짐\n",
    "이 메서드들은 해당 데이터 구조의 데이터를 효율적으로 조작하거나 특정 기능을 수행하기 위해 제공\n",
    "```"
   ]
  },
  {
   "cell_type": "markdown",
   "id": "6835b426",
   "metadata": {},
   "source": [
    "##  데이터 타입 객체.메서드()\n",
    "##### 우리가 만든 객체(데이터)에게 원하는 명령(메서드)을 내리는 방법\n",
    "\n"
   ]
  },
  {
   "cell_type": "code",
   "execution_count": null,
   "id": "744e71a3",
   "metadata": {},
   "outputs": [
    {
     "name": "stdout",
     "output_type": "stream",
     "text": [
      "8\n",
      "-1\n",
      "6\n",
      "False\n",
      "False\n",
      "False\n"
     ]
    }
   ],
   "source": [
    "s = 'hello, I\\'m minkyung.'\n",
    "\n",
    "# find 메서드\n",
    "print(s.find('m')) # 해당 문자 값이 없으면 '-1' 을 반환\n",
    "print(s.find('a')) # 해당 문자 값이 없으면 '-1' 을 반환\n",
    "\n",
    "# index 메서드\n",
    "print(s.index('I')) # 해당 문자 값이 없으면 에러를 반환\n",
    "#print(s.index('a')) # 해당 문자 값이 없으면 에러를 반환\n",
    "\n",
    "# isupper 메서드\n",
    "print(s.isupper())\n",
    "print(s.islower())\n",
    "print(s.isalpha()) # 문자열이 알파벳으로만 이루어졌는지 확인\n"
   ]
  },
  {
   "cell_type": "code",
   "execution_count": null,
   "id": "97d30b44",
   "metadata": {},
   "outputs": [
    {
     "name": "stdout",
     "output_type": "stream",
     "text": [
      "heaao I'm minkyung.\n",
      "healo I'm minkyung.\n",
      "hello I'm minkyung.\n",
      "[\"hello I'm minkyung.\"]\n",
      "h'e'l'l'o' 'I'''m' 'm'i'n'k'y'u'n'g'.\n",
      "hheehelhelheohe heIhe'hemhe hemheihenhekheyheuhenheghe.\n"
     ]
    }
   ],
   "source": [
    "# 문자열 조작 메서드 (새로운 문자열 반환) -> 문자열 원본은 바꾸지 못함, 불변 객체이기 때문\n",
    "\n",
    "# replace\n",
    "print(s.replace('l', 'a')) # 해당 값을 원하는 값으로 바꿈\n",
    "print(s.replace('l', 'a', 1)) # 해당 하는 값의 해당 번호의 값을 바꿈\n",
    "\n",
    "# strip\n",
    "new_text = s.strip() # 따로 값을 설정하지 않으면, 공백을 제거함\n",
    "print(new_text)\n",
    "\n",
    "# split\n",
    "print(s.split(','))\n",
    "\n",
    "# join : iterable의 문자열을 연결한 문자열을 반환\n",
    "new_text1 = '\\''.join(s)\n",
    "\n",
    "print(new_text1)\n",
    "print('he'.join(s))"
   ]
  },
  {
   "cell_type": "markdown",
   "id": "b0a22ae2",
   "metadata": {},
   "source": [
    "## 리스트 값 추가 및 삭제 메서드\n",
    "```\n",
    "원본을 조작한다는 것은 반환값이 없다는 것\n",
    "대표적인 예로 print가 있음\n",
    "```"
   ]
  },
  {
   "cell_type": "code",
   "execution_count": 39,
   "id": "5f69dc02",
   "metadata": {},
   "outputs": [
    {
     "name": "stdout",
     "output_type": "stream",
     "text": [
      "None\n",
      "None\n",
      "None\n",
      "8\n"
     ]
    }
   ],
   "source": [
    "# 리스트 : 값을 요소로 추가하기만 함, 언팩킹 기능이 없음, 반복 가능한 객체가 아니면 추가 불가\n",
    "my_list_num = [1, 2, 3, 4, 5]\n",
    "my_list_str = ['한국', '중국', '일본', '대만', '홍콩', '몽골']\n",
    "\n",
    "new_list_num = my_list_num.append(6)\n",
    "new_list_str = my_list_str.append('필리핀')\n",
    "print(new_list_num)\n",
    "print(new_list_str)\n",
    "\n",
    "# extend : 값을 요소로 추가함, 언팩킹 기능이 있음\n",
    "print(my_list_num.extend([6,7,8]))\n",
    "\n",
    "# insert : 리스트의 지정한 인덱스 i 위치에 값을 삽입\n",
    "\n",
    "# remove : \n",
    "\n",
    "# pop : 제거한 값을 반환\n",
    "print(my_list_num.pop())\n",
    "\n",
    "# clear : 리스트의 모든 항목을 제거\n",
    "# print(my_list_num.clear())"
   ]
  },
  {
   "cell_type": "markdown",
   "id": "4ec0d42c",
   "metadata": {},
   "source": []
  },
  {
   "cell_type": "code",
   "execution_count": null,
   "id": "f53df07b",
   "metadata": {},
   "outputs": [
    {
     "name": "stdout",
     "output_type": "stream",
     "text": [
      "3\n",
      "1\n",
      "None\n"
     ]
    }
   ],
   "source": [
    "# 리스트 탐색 및 정렬 메서드\n",
    "\n",
    "# index(x) : 리스트에서 첫 번째로 일치하는 항목 x의 익덱스를 반환\n",
    "new_index = my_list_num.index(5)\n",
    "print(new_index)\n",
    "\n",
    "# count : 리스트 내부의 요소 개수를 반환\n",
    "print(my_list_num.count(1))\n",
    "\n",
    "# reverse : 리스트의 순서를 역순으로 변경\n",
    "new_reverse = my_list_num.reverse()\n",
    "print(new_reverse)\n",
    "\n",
    "# sort : 원본 리스트를 오름차순으로 정렬\n",
    "print"
   ]
  },
  {
   "cell_type": "markdown",
   "id": "09020f19",
   "metadata": {},
   "source": [
    "## 가변 / 불변 객체의 개념\n",
    "```\n",
    "객체 복사의 핵심을 파악하려면, 파이썬 자료구조의 가변과 불변 두 가지 종류를 살펴봐야 합니다.\n",
    "가변 : 내용 수정이 빈번할 때, 새로운 객체를 생성하는 대신 기존 객체를 직접 수정할 수 있음\n",
    "    -> 이로 인해 객체 생성 및 삭제에 드는 비용을 절감하여 성능을 향상시킴\n",
    "불변 : 변경이 불가능하므로, 여러 변수가 동일한 객체를 안전하게 공유할 수 있음\n",
    "    -> 동일한 값을 가진 여러 변수가 같은 객체를 참조할 수 있어 메모리 사용을 최소화할 수 있음\n",
    "```\n",
    "\n",
    "### 변수 할당의 의미\n",
    "```\n",
    "파이썬에서 변수 할당은 객체에 대한 참조를 생성하는 과정\n",
    " -> 변수는 객체의 메모리 주소를 가리키는 Label 역할을 함\n",
    "\"=\" 연산자를 사용하여 변수에 값을 할당\n",
    " -> 할당 시 새로운 객체가 생성되거나 기존 객체에 대한 참조가 생성됨\n",
    " ```"
   ]
  },
  {
   "cell_type": "code",
   "execution_count": 47,
   "id": "5d45e929",
   "metadata": {},
   "outputs": [
    {
     "name": "stdout",
     "output_type": "stream",
     "text": [
      "[100, 2, 3]\n",
      "[100, 2, 3]\n",
      "True\n"
     ]
    }
   ],
   "source": [
    "a = [1, 2, 3]\n",
    "b = a\n",
    "b[0] = 100\n",
    "\n",
    "print(a)\n",
    "print(b)\n",
    "print(a is b)"
   ]
  },
  {
   "cell_type": "code",
   "execution_count": 45,
   "id": "6641de4f",
   "metadata": {},
   "outputs": [
    {
     "name": "stdout",
     "output_type": "stream",
     "text": [
      "20\n",
      "10\n",
      "False\n"
     ]
    }
   ],
   "source": [
    "a = 20\n",
    "b = a\n",
    "b = 10\n",
    "\n",
    "print(a)\n",
    "print(b)\n",
    "print(a is b)"
   ]
  },
  {
   "cell_type": "markdown",
   "id": "7adbf3e2",
   "metadata": {},
   "source": [
    "## id() 함수를 사용한 메모리 주소 확인\n",
    "\n",
    "```\n",
    "id() 함구를 사용하여 객체의 메모리 주소를 확인 가능\n",
    "is 연산자를 통해 두 변수가 같은 객체를 참조하는지 확인 가능\n",
    "```"
   ]
  },
  {
   "cell_type": "markdown",
   "id": "9eb5f0a0",
   "metadata": {},
   "source": [
    "## 얕은 복사\n",
    "\n",
    "```\n",
    "객체의 최상위 요소만 새로운 메모리에 복사하는 방법\n",
    "내부에 중찹된 객체가 있다면 그 객체의 참조만 복사됨\n",
    "```\n",
    "\n",
    "리스트 슬라이싱 : \n",
    "copy() 메서드 :\n",
    "list() 함수 : "
   ]
  },
  {
   "cell_type": "code",
   "execution_count": 51,
   "id": "3688ef33",
   "metadata": {},
   "outputs": [
    {
     "name": "stdout",
     "output_type": "stream",
     "text": [
      "\n",
      "얕은 복사 예시\n",
      "[1, 2, 3]\n",
      "[1, 2, 3]\n",
      "[1, 2, 3]\n",
      "[1, 2, 3]\n",
      "[100, 2, 3]\n",
      "[1, 2, 3]\n",
      "\n",
      "다차원 리스트 얕은 복사의 한계\n",
      "[1, 2, [3, 4, 5]]\n",
      "[1, 2, [3, 4, 5]]\n",
      "[1, 2, [3, 4, 5]]\n",
      "[1, 2, [3, 4, 5]]\n",
      "a[2]와 b[2]가 같은 객체인가? True\n"
     ]
    }
   ],
   "source": [
    "# 얕은 복사\n",
    "print('\\n얕은 복사 예시')\n",
    "\n",
    "# 1차원 리스트에서의 얕은 복사 (리스트 슬라이싱)\n",
    "a = [1, 2, 3]\n",
    "b = a[:]\n",
    "\n",
    "print(a)  # [1, 2, 3]\n",
    "print(b)  # [1, 2, 3]\n",
    "\n",
    "# 1차원 리스트에서의 얕은 복사 (copy 메서드)\n",
    "a = [1, 2, 3]\n",
    "b = a.copy()\n",
    "\n",
    "print(a)  # [1, 2, 3]\n",
    "print(b)  # [1, 2, 3]\n",
    "\n",
    "\n",
    "# 1차원 리스트에서의 얕은 복사 (list() 함수)\n",
    "a = [1, 2, 3]\n",
    "d = list(a)\n",
    "a[0] = 100\n",
    "\n",
    "print(a)  # [100, 2, 3]\n",
    "print(d)  # [1, 2, 3]\n",
    "\n",
    "\n",
    "# 얕은 복사의 한계\n",
    "print('\\n다차원 리스트 얕은 복사의 한계') # 최상위만 복사가 되기 때문에 하단에 있는 포함된 리스트는 복사가 되지 않음\n",
    "a = [1, 2, [3, 4, 5]]\n",
    "b = a[:]\n",
    "\n",
    "\n",
    "print(a)  # [1, 2, [3, 4, 5]]\n",
    "print(b)  # [999, 2, [3, 4, 5]]\n",
    "\n",
    "\n",
    "print(a)  # [1, 2, [3, 100, 5]]\n",
    "print(b)  # [999, 2, [3, 100, 5]]\n",
    "\n",
    "print(f'a[2]와 b[2]가 같은 객체인가? {a[2] is b[2]}')  # True\n"
   ]
  },
  {
   "cell_type": "markdown",
   "id": "587f2e6e",
   "metadata": {},
   "source": [
    "## 깊은 복사\n",
    "```\n",
    "객체의 모든 수준의 요소를 새로운 메모리에 복사하는 방법\n",
    "중첩된 객체까지 모두 새로운 객체로 생성됨\n",
    "복사본의 어떤 수준에 있는 중첩된 내용을 변경하더라도 원본 객체에는 절대 영향을 주지 않습니다.\n",
    "```"
   ]
  },
  {
   "cell_type": "code",
   "execution_count": null,
   "id": "0670a76d",
   "metadata": {},
   "outputs": [
    {
     "name": "stdout",
     "output_type": "stream",
     "text": [
      "[1, 2, [3, 4, 5]]\n",
      "[1, 2, [3, 4, 5]]\n",
      "[1, 2, [3, 4, 5]]\n",
      "[1, 2, [3, 999, 5]]\n",
      "{'a': [1, 2, 3], 'b': {'c': [4, 5, 6], 'd': [7, 8, 9]}}\n",
      "{'a': [1, 2, 100], 'b': {'c': [4, 5, 6], 'd': [7, 200, 9]}}\n"
     ]
    }
   ],
   "source": [
    "import copy\n",
    "\n",
    "b = copy.deepcopy(a)\n",
    "print(a)\n",
    "print(b)\n",
    "\n",
    "b[2][1] = 999 # b의 값만 변경되고, a 값은 그대로 유지됨\n",
    "print(a)\n",
    "print(b) \n",
    "\n",
    "test = {\n",
    "    'a' : [1, 2, 3],\n",
    "    'b' : {'c' : [4, 5, 6], 'd':[7, 8, 9]}\n",
    "}\n",
    "\n",
    "copied = copy.deepcopy(test)\n",
    "print(copied)\n",
    "\n",
    "copied['a'][2] = 100\n",
    "copied['b']['d'][1] = 200\n",
    "print(copied)\n"
   ]
  },
  {
   "cell_type": "markdown",
   "id": "72d49772",
   "metadata": {},
   "source": [
    "## List Comprehension\n",
    "간결하고 효율적인 리스트 생성 방법 : \n",
    "\n",
    "\n",
    "```\n",
    "expression for 변수 in iterable\n",
    "list(expression for 변수 in iterable)\n",
    "```\n",
    "\n",
    "```\n",
    "expression for 변수 in iterable if 조건식\n",
    "list(expression for 변수 in iterable if 조건식)\n",
    "```\n",
    "\n",
    "```\n",
    "인접행렬 만들 때, 유용하게 사용함\n",
    "```"
   ]
  },
  {
   "cell_type": "code",
   "execution_count": 58,
   "id": "ac9bd7d2",
   "metadata": {},
   "outputs": [
    {
     "name": "stdout",
     "output_type": "stream",
     "text": [
      "[2, 4, 6, 8, 10]\n",
      "[2, 4, 6, 8, 10, 12]\n"
     ]
    }
   ],
   "source": [
    "numbers = [1, 2, 3, 4, 5]\n",
    "squared_numbers = []\n",
    "\n",
    "for num in numbers :\n",
    "    squared_numbers.append(num*2)\n",
    "print(squared_numbers)\n",
    "\n",
    "numbers = [1, 2, 3, 4, 5, 6]\n",
    "squared_numbers = [num*2 for num in numbers]\n",
    "print(squared_numbers)"
   ]
  },
  {
   "cell_type": "markdown",
   "id": "7818ab9f",
   "metadata": {},
   "source": [
    "## 메서드 체이닝\n",
    "\n",
    "```\n",
    "여러 메서드를 수행하는 방법\n",
    "```\n",
    "\n",
    "```\n",
    "올바른 반환값이 있어야 체이닝이 됨\n",
    "```\n"
   ]
  },
  {
   "cell_type": "code",
   "execution_count": 62,
   "id": "84ed39f3",
   "metadata": {},
   "outputs": [
    {
     "name": "stdout",
     "output_type": "stream",
     "text": [
      "HEzzO, WOrLD!\n",
      "[1, 8, 4, 6, 10, 4, 7]\n",
      "None\n",
      "[1, 4, 4, 6, 7, 8, 10]\n"
     ]
    }
   ],
   "source": [
    "text  = 'heLLo, woRld!'\n",
    "\n",
    "new_text = text.swapcase().replace('l', 'z') # swqpcase 먼저 수행 후, replace 수행함\n",
    "print(new_text)\n",
    "\n",
    "numbers = [1, 8, 4, 6, 10, 4, 7]\n",
    "result = numbers.copy().sort()\n",
    "print(numbers)\n",
    "print(result) # sort() 메서드는 None을 반환함\n",
    "\n",
    "new_result = sorted(numbers.copy())\n",
    "print(new_result)"
   ]
  },
  {
   "cell_type": "markdown",
   "id": "386eb033",
   "metadata": {},
   "source": [
    "## 문자 유형 판별 메서드\n",
    "```\n",
    "문자열에 포함된 문자들의 유형을 판별하는 메서드\n",
    "```\n",
    "\n",
    "isdecimal() : 문자열이 모두 숫자 문자(0~9)로만 이루어져 있어야 True\n",
    "isdigit() : isdecimal()과 비슷하지만, 유니코드 숫자도 인식\n",
    "isnumeric() : isdigit()와 유사하지만, 몇 가지 추가적인 유니코드 문자들을 인식"
   ]
  }
 ],
 "metadata": {
  "kernelspec": {
   "display_name": "Python 3",
   "language": "python",
   "name": "python3"
  },
  "language_info": {
   "codemirror_mode": {
    "name": "ipython",
    "version": 3
   },
   "file_extension": ".py",
   "mimetype": "text/x-python",
   "name": "python",
   "nbconvert_exporter": "python",
   "pygments_lexer": "ipython3",
   "version": "3.11.9"
  }
 },
 "nbformat": 4,
 "nbformat_minor": 5
}
