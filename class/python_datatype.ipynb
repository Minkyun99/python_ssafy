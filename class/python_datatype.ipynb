{
 "cells": [
  {
   "cell_type": "markdown",
   "id": "d2c4dc87",
   "metadata": {},
   "source": [
    "## list\n"
   ]
  },
  {
   "cell_type": "code",
   "execution_count": null,
   "id": "29595acb",
   "metadata": {},
   "outputs": [],
   "source": []
  },
  {
   "cell_type": "markdown",
   "id": "a18b8c87",
   "metadata": {},
   "source": [
    "## tuple\n",
    "##### 여러 개의 값을 순서대로 저장하는 변경 불가능한 시퀀스형 자료\n",
    "##### 튜플의 불변 특성을 사용하여 내부 동작과 안전한 데이터 전달에 사용됨\n",
    "##### 다중 할당, 값 교환, 함수 다중 반환 값 등"
   ]
  },
  {
   "cell_type": "code",
   "execution_count": null,
   "id": "f95f0f4f",
   "metadata": {},
   "outputs": [
    {
     "name": "stdout",
     "output_type": "stream",
     "text": [
      "()\n",
      "(1,)\n",
      "(1, 'a', 3, 'b', 5)\n",
      "(1, 'hello', 3.14, True)\n"
     ]
    }
   ],
   "source": [
    "# 한 번 만들어지면 변경 불가능함\n",
    "my_tuple_1 = ()\n",
    "my_tuple_2 = (1,) # 튜플의 요소가 하나일 때는 꼭 반 점이 들어가야 함!, 후행쉼표\n",
    "my_tuple_3 = (1, 'a', 3, 'b', 5)\n",
    "my_tuple_4 = 1, 'hello', 3.14, True\n",
    "\n",
    "print(my_tuple_1)\n",
    "print(my_tuple_2)\n",
    "print(my_tuple_3)\n",
    "print(my_tuple_4)\n"
   ]
  },
  {
   "cell_type": "markdown",
   "id": "6bae8a68",
   "metadata": {},
   "source": [
    "## range\n",
    "##### 연속된 정수, 시퀀스를 생성하는 변경 불가능한(immutable) 자료형\n",
    "##### 주로 반복문과 함께 사용되어 특정 횟수만큼 코드를 반복 실행할 때 매우 유용합니다."
   ]
  },
  {
   "cell_type": "code",
   "execution_count": 11,
   "id": "d10b0837",
   "metadata": {},
   "outputs": [
    {
     "name": "stdout",
     "output_type": "stream",
     "text": [
      "range(0, 5)\n",
      "range(1, 10)\n",
      "range(5, 0, -1)\n",
      "[0, 1, 2, 3, 4]\n",
      "[1, 2, 3, 4, 5, 6, 7, 8, 9]\n",
      "[5, 4, 3, 2, 1]\n"
     ]
    }
   ],
   "source": [
    "#range(start, stop, step) # 매개변수(인자)를 3가지 가짐\n",
    "my_range_1 = range(5)\n",
    "my_range_2 = range(1, 10)\n",
    "my_range_3 = range(5, 0, -1)\n",
    "\n",
    "print(my_range_1)\n",
    "print(my_range_2)\n",
    "print(my_range_3)\n",
    "\n",
    "print(list(my_range_1))\n",
    "print(list(my_range_2))\n",
    "print(list(my_range_3))"
   ]
  },
  {
   "cell_type": "code",
   "execution_count": 17,
   "id": "95dbf643",
   "metadata": {},
   "outputs": [],
   "source": [
    "# 1. 값의 범위 규칙\n",
    "# stop 값은 생성되는 시퀀스에 절대 포함되지 않음\n",
    "# range(1, 5)는 1부터 5 전까지의 숫자를 의미하므로, 1, 2, 3, 4가 생성\n",
    "\n",
    "# 2. 증가/감소 값(step)의 규칙\n",
    "# step이 양수일 때 (기본값 : 1)\n",
    "# -> start 부터 stop을 양해 증가하므로 start가 stop보다 숫자가 작아야 함"
   ]
  },
  {
   "cell_type": "markdown",
   "id": "48898315",
   "metadata": {},
   "source": [
    "## dict\n",
    "##### 비시퀀스 자료형, key-value 쌍으로 이루어진 순서와 중복이 없는 변경 가능한 자료형\n",
    "##### 순서X -> 인덱스X"
   ]
  },
  {
   "cell_type": "code",
   "execution_count": 13,
   "id": "68f916d9",
   "metadata": {},
   "outputs": [
    {
     "name": "stdout",
     "output_type": "stream",
     "text": [
      "{}\n",
      "{'key': 'value'}\n",
      "{'apple': 12, 'list': [1, 2, 3]}\n",
      "12\n"
     ]
    }
   ],
   "source": [
    "my_dict_1 = {}\n",
    "my_dict_2 = {'key':'value'} # 키는 값을 식별하기 위한 고유한 '이름표', 중복 불가\n",
    "my_dict_3 = {'apple':12, 'list':[1, 2, 3]} # 값은 키에 해당하는 실제 데이터, 값에는 순서가 없음\n",
    "\n",
    "print(my_dict_1)\n",
    "print(my_dict_2)\n",
    "print(my_dict_3)\n",
    "print(my_dict_3['apple']) # key를 통해 value로 접근\n",
    "#print(my_dict_3[0]) # 순서가 없으므로 인덱스X"
   ]
  },
  {
   "cell_type": "markdown",
   "id": "46d79a1a",
   "metadata": {},
   "source": [
    "## set\n",
    "##### 비시퀀스 자료형, 순서와 중복이 없는 변경 가능한 자료형\n",
    "##### 세트 표현 : 중괄호 {} 안에 값들을 쉼표로 구분하여 만듦\n",
    "##### 수학에서의 집합과 동일한 연산 처리 가능"
   ]
  },
  {
   "cell_type": "code",
   "execution_count": 14,
   "id": "023fc2d3",
   "metadata": {},
   "outputs": [
    {
     "name": "stdout",
     "output_type": "stream",
     "text": [
      "set()\n",
      "{1, 2, 3}\n",
      "{1}\n"
     ]
    }
   ],
   "source": [
    "my_set_1 = set()\n",
    "my_set_2 = {1, 2, 3}\n",
    "my_set_3 = {1, 1, 1}\n",
    "\n",
    "print(my_set_1)\n",
    "print(my_set_2) # 순서 허용 X\n",
    "print(my_set_3) # 중복이 안되므로 '1' 하나만 출력됨\n",
    "#print(my_set_1[0]) # 인덱스가 없으므로 수행X"
   ]
  },
  {
   "cell_type": "code",
   "execution_count": 4,
   "id": "20ad8794",
   "metadata": {},
   "outputs": [
    {
     "name": "stdout",
     "output_type": "stream",
     "text": [
      "{1, 2, 3, 6, 9}\n",
      "{1, 2}\n",
      "{3}\n"
     ]
    }
   ],
   "source": [
    "my_set_1 = {1, 2, 3}\n",
    "my_set_2 = {3, 6, 9}\n",
    "\n",
    "print(my_set_1 | my_set_2) # 합집합\n",
    "print(my_set_1 - my_set_2) # 차집합\n",
    "print(my_set_1 & my_set_2) # 교집합\n"
   ]
  }
 ],
 "metadata": {
  "kernelspec": {
   "display_name": "Python 3",
   "language": "python",
   "name": "python3"
  },
  "language_info": {
   "codemirror_mode": {
    "name": "ipython",
    "version": 3
   },
   "file_extension": ".py",
   "mimetype": "text/x-python",
   "name": "python",
   "nbconvert_exporter": "python",
   "pygments_lexer": "ipython3",
   "version": "3.11.1"
  }
 },
 "nbformat": 4,
 "nbformat_minor": 5
}
