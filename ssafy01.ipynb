{
 "cells": [
  {
   "cell_type": "markdown",
   "id": "597ac3eb",
   "metadata": {},
   "source": [
    "## python 기초\n",
    "##### 프로그램 : 문제를 해결하기 위한 명령어들의 집합"
   ]
  }
 ],
 "metadata": {
  "language_info": {
   "name": "python"
  }
 },
 "nbformat": 4,
 "nbformat_minor": 5
}
