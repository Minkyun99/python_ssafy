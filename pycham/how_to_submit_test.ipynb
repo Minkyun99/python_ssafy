{
 "cells": [
  {
   "cell_type": "markdown",
   "id": "05d85427",
   "metadata": {},
   "source": [
    "1. C 드라이브 하위 폴더 1개 만들기 (❗ 폴더명은 영문으로 작성)\n",
    "![image.png](./img/test.png)  \n",
    "\n",
    "2. Previously configured interperter 선택\n",
    "3. Interpreter -> System Interpreter 선택\n",
    "4. [...] 클릭 -> C\\python3\\pypy3.exe 선택\n",
    "\n"
   ]
  }
 ],
 "metadata": {
  "language_info": {
   "name": "python"
  }
 },
 "nbformat": 4,
 "nbformat_minor": 5
}
