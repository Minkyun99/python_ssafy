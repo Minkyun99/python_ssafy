{
 "cells": [
  {
   "cell_type": "markdown",
   "id": "d2c4dc87",
   "metadata": {},
   "source": [
    "## list\n"
   ]
  },
  {
   "cell_type": "code",
   "execution_count": null,
   "id": "29595acb",
   "metadata": {},
   "outputs": [],
   "source": []
  },
  {
   "cell_type": "markdown",
   "id": "a18b8c87",
   "metadata": {},
   "source": [
    "## tuple"
   ]
  },
  {
   "cell_type": "code",
   "execution_count": null,
   "id": "f95f0f4f",
   "metadata": {},
   "outputs": [],
   "source": []
  },
  {
   "cell_type": "markdown",
   "id": "6bae8a68",
   "metadata": {},
   "source": [
    "## range"
   ]
  },
  {
   "cell_type": "code",
   "execution_count": null,
   "id": "d10b0837",
   "metadata": {},
   "outputs": [],
   "source": []
  },
  {
   "cell_type": "markdown",
   "id": "46d79a1a",
   "metadata": {},
   "source": [
    "## set\n",
    "##### 비시퀀스 자료형, 순서와 중복이 없는 변경 가능한 자료형\n",
    "##### 세트 표현 : 중괄호 {} 안에 값들을 쉼표로 구분하여 만듦\n",
    "##### 수학에서의 집합과 동일한 연산 처리 가능"
   ]
  },
  {
   "cell_type": "code",
   "execution_count": 2,
   "id": "023fc2d3",
   "metadata": {},
   "outputs": [
    {
     "name": "stdout",
     "output_type": "stream",
     "text": [
      "set()\n",
      "{1, 2, 3}\n",
      "{1}\n"
     ]
    }
   ],
   "source": [
    "my_set_1 = set()\n",
    "my_set_2 = {1, 2, 3}\n",
    "my_set_3 = {1, 1, 1}\n",
    "\n",
    "print(my_set_1)\n",
    "print(my_set_2) # 순서 허용 X\n",
    "print(my_set_3) # 중복이 안되므로 '1' 하나만 출력됨"
   ]
  },
  {
   "cell_type": "code",
   "execution_count": 4,
   "id": "20ad8794",
   "metadata": {},
   "outputs": [
    {
     "name": "stdout",
     "output_type": "stream",
     "text": [
      "{1, 2, 3, 6, 9}\n",
      "{1, 2}\n",
      "{3}\n"
     ]
    }
   ],
   "source": [
    "my_set_1 = {1, 2, 3}\n",
    "my_set_2 = {3, 6, 9}\n",
    "\n",
    "print(my_set_1 | my_set_2) # 합집합\n",
    "print(my_set_1 - my_set_2) # 차집합\n",
    "print(my_set_1 & my_set_2) # 교집합\n"
   ]
  }
 ],
 "metadata": {
  "kernelspec": {
   "display_name": "Python 3",
   "language": "python",
   "name": "python3"
  },
  "language_info": {
   "codemirror_mode": {
    "name": "ipython",
    "version": 3
   },
   "file_extension": ".py",
   "mimetype": "text/x-python",
   "name": "python",
   "nbconvert_exporter": "python",
   "pygments_lexer": "ipython3",
   "version": "3.11.1"
  }
 },
 "nbformat": 4,
 "nbformat_minor": 5
}
