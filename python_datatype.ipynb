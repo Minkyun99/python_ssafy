{
 "cells": [
  {
   "cell_type": "markdown",
   "id": "d2c4dc87",
   "metadata": {},
   "source": [
    "## list\n"
   ]
  },
  {
   "cell_type": "code",
   "execution_count": null,
   "id": "29595acb",
   "metadata": {},
   "outputs": [],
   "source": []
  },
  {
   "cell_type": "markdown",
   "id": "a18b8c87",
   "metadata": {},
   "source": [
    "## tuple"
   ]
  },
  {
   "cell_type": "code",
   "execution_count": null,
   "id": "f95f0f4f",
   "metadata": {},
   "outputs": [],
   "source": []
  },
  {
   "cell_type": "markdown",
   "id": "6bae8a68",
   "metadata": {},
   "source": [
    "## range\n",
    "##### 연속된 정수, 시퀀스를 생성하는 변경 불가능한(immutable) 자료형\n",
    "##### 주로 반복문과 함께 사용되어 특정 횟수만큼 코드를 반복 실행할 때 매우 유용합니다."
   ]
  },
  {
   "cell_type": "code",
   "execution_count": null,
   "id": "d10b0837",
   "metadata": {},
   "outputs": [],
   "source": [
    "range(start, stop, step) # 매개변수(인자)를 3가지 가짐\n"
   ]
  },
  {
   "cell_type": "markdown",
   "id": "48898315",
   "metadata": {},
   "source": [
    "## dict\n",
    "##### 비시퀀스 자료형, key-value 쌍으로 이루어진 순서와 중복이 없는 변경 가능한 자료형\n",
    "##### 순서X -> 인덱스X"
   ]
  },
  {
   "cell_type": "code",
   "execution_count": null,
   "id": "68f916d9",
   "metadata": {},
   "outputs": [
    {
     "name": "stdout",
     "output_type": "stream",
     "text": [
      "{}\n",
      "{'key': 'value'}\n",
      "{'apple': 12, 'list': [1, 2, 3]}\n",
      "12\n"
     ]
    },
    {
     "ename": "KeyError",
     "evalue": "0",
     "output_type": "error",
     "traceback": [
      "\u001b[1;31m---------------------------------------------------------------------------\u001b[0m",
      "\u001b[1;31mKeyError\u001b[0m                                  Traceback (most recent call last)",
      "Cell \u001b[1;32mIn[9], line 9\u001b[0m\n\u001b[0;32m      7\u001b[0m \u001b[38;5;28mprint\u001b[39m(my_dict_3)\n\u001b[0;32m      8\u001b[0m \u001b[38;5;28mprint\u001b[39m(my_dict_3[\u001b[38;5;124m'\u001b[39m\u001b[38;5;124mapple\u001b[39m\u001b[38;5;124m'\u001b[39m])\n\u001b[1;32m----> 9\u001b[0m \u001b[38;5;28mprint\u001b[39m(\u001b[43mmy_dict_3\u001b[49m\u001b[43m[\u001b[49m\u001b[38;5;241;43m0\u001b[39;49m\u001b[43m]\u001b[49m) \u001b[38;5;66;03m# 순서가 없으므로 인덱스X\u001b[39;00m\n",
      "\u001b[1;31mKeyError\u001b[0m: 0"
     ]
    }
   ],
   "source": [
    "my_dict_1 = {}\n",
    "my_dict_2 = {'key':'value'} # 키는 값을 식별하기 위한 고유한 '이름표', 중복 불가\n",
    "my_dict_3 = {'apple':12, 'list':[1, 2, 3]} # 값은 키에 해당하는 실제 데이터, 값에는 순서가 없음\n",
    "\n",
    "print(my_dict_1)\n",
    "print(my_dict_2)\n",
    "print(my_dict_3)\n",
    "print(my_dict_3['apple']) # key를 통해 value로 접근\n",
    "print(my_dict_3[0]) # 순서가 없으므로 인덱스X"
   ]
  },
  {
   "cell_type": "markdown",
   "id": "46d79a1a",
   "metadata": {},
   "source": [
    "## set\n",
    "##### 비시퀀스 자료형, 순서와 중복이 없는 변경 가능한 자료형\n",
    "##### 세트 표현 : 중괄호 {} 안에 값들을 쉼표로 구분하여 만듦\n",
    "##### 수학에서의 집합과 동일한 연산 처리 가능"
   ]
  },
  {
   "cell_type": "code",
   "execution_count": null,
   "id": "023fc2d3",
   "metadata": {},
   "outputs": [
    {
     "name": "stdout",
     "output_type": "stream",
     "text": [
      "set()\n"
     ]
    },
    {
     "ename": "TypeError",
     "evalue": "'set' object is not subscriptable",
     "output_type": "error",
     "traceback": [
      "\u001b[1;31m---------------------------------------------------------------------------\u001b[0m",
      "\u001b[1;31mTypeError\u001b[0m                                 Traceback (most recent call last)",
      "Cell \u001b[1;32mIn[5], line 6\u001b[0m\n\u001b[0;32m      3\u001b[0m my_set_3 \u001b[38;5;241m=\u001b[39m {\u001b[38;5;241m1\u001b[39m, \u001b[38;5;241m1\u001b[39m, \u001b[38;5;241m1\u001b[39m}\n\u001b[0;32m      5\u001b[0m \u001b[38;5;28mprint\u001b[39m(my_set_1)\n\u001b[1;32m----> 6\u001b[0m \u001b[38;5;28mprint\u001b[39m(\u001b[43mmy_set_1\u001b[49m\u001b[43m[\u001b[49m\u001b[38;5;241;43m0\u001b[39;49m\u001b[43m]\u001b[49m)\n\u001b[0;32m      8\u001b[0m \u001b[38;5;28mprint\u001b[39m(my_set_2) \u001b[38;5;66;03m# 순서 허용 X\u001b[39;00m\n\u001b[0;32m      9\u001b[0m \u001b[38;5;28mprint\u001b[39m(my_set_3) \u001b[38;5;66;03m# 중복이 안되므로 '1' 하나만 출력됨\u001b[39;00m\n",
      "\u001b[1;31mTypeError\u001b[0m: 'set' object is not subscriptable"
     ]
    }
   ],
   "source": [
    "my_set_1 = set()\n",
    "my_set_2 = {1, 2, 3}\n",
    "my_set_3 = {1, 1, 1}\n",
    "\n",
    "print(my_set_1)\n",
    "print(my_set_1[0]) # 인덱스가 없으므로 수행X\n",
    "print(my_set_2) # 순서 허용 X\n",
    "print(my_set_3) # 중복이 안되므로 '1' 하나만 출력됨"
   ]
  },
  {
   "cell_type": "code",
   "execution_count": 4,
   "id": "20ad8794",
   "metadata": {},
   "outputs": [
    {
     "name": "stdout",
     "output_type": "stream",
     "text": [
      "{1, 2, 3, 6, 9}\n",
      "{1, 2}\n",
      "{3}\n"
     ]
    }
   ],
   "source": [
    "my_set_1 = {1, 2, 3}\n",
    "my_set_2 = {3, 6, 9}\n",
    "\n",
    "print(my_set_1 | my_set_2) # 합집합\n",
    "print(my_set_1 - my_set_2) # 차집합\n",
    "print(my_set_1 & my_set_2) # 교집합\n"
   ]
  }
 ],
 "metadata": {
  "kernelspec": {
   "display_name": "Python 3",
   "language": "python",
   "name": "python3"
  },
  "language_info": {
   "codemirror_mode": {
    "name": "ipython",
    "version": 3
   },
   "file_extension": ".py",
   "mimetype": "text/x-python",
   "name": "python",
   "nbconvert_exporter": "python",
   "pygments_lexer": "ipython3",
   "version": "3.11.1"
  }
 },
 "nbformat": 4,
 "nbformat_minor": 5
}
