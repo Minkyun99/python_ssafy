{
 "cells": [
  {
   "cell_type": "markdown",
   "id": "e2f767c9",
   "metadata": {},
   "source": [
    "##### ✍️ 어디에 단어가 들어갈 수 있을까\n",
    "\n",
    "1. N X N 크기의 단어 퍼즐을 만들려고 한다. 입력으로 단어 퍼즐의 모양이 주어진다.\n",
    "2. 주어진 퍼즐 모양에서 특정 길이 K를 갖는 단어가 들어갈 수 있는 자리의 수를 출력하는 프로그램을 작성하라.\n",
    "\n",
    "[예제]  \n",
    "1. N = 5, K = 3 이고, 퍼즐의 모양이 아래 그림과 같이 주어졌을 때\n",
    " \n",
    "![image.png](./img/puzzle.png)  \n",
    "\n",
    "2. 길이가 3 인 단어가 들어갈 수 있는 자리는 2 곳(가로 1번, 가로 4번)이 된다.\n",
    "\n",
    "![image.png](./img/puzzle2.png)  \n",
    "\n",
    "[제약 사항]  \n",
    "\n",
    "1. N은 5 이상 15 이하의 정수이다. (5 ≤ N ≤ 15)\n",
    "\n",
    "2. K는 2 이상 N 이하의 정수이다. (2 ≤ K ≤ N)\n",
    "\n",
    "\n",
    "[입력]  \n",
    "\n",
    "1. 입력은 첫 줄에 총 테스트 케이스의 개수 T가 온다.\n",
    "2. 다음 줄부터 각 테스트 케이스가 주어진다.\n",
    "3. 테스트 케이스의 첫 번째 줄에는 단어 퍼즐의 가로, 세로 길이 N 과, 단어의 길이 K 가 주어진다.\n",
    "4. 테스트 케이스의 두 번째 줄부터 퍼즐의 모양이 2차원 정보로 주어진다.\n",
    "5. 퍼즐의 각 셀 중, 흰색 부분은 1, 검은색 부분은 0 으로 주어진다.\n",
    "\n",
    "\n",
    "[출력]    \n",
    "1. 테스트 케이스 t에 대한 결과는 “#t”을 찍고, 한 칸 띄고, 정답을 출력한다. (t는 테스트 케이스의 번호를 의미하며 1부터 시작한다.)  "
   ]
  },
  {
   "cell_type": "code",
   "execution_count": 13,
   "id": "62f3e1f9",
   "metadata": {},
   "outputs": [
    {
     "ename": "ValueError",
     "evalue": "invalid literal for int() with base 10: ''",
     "output_type": "error",
     "traceback": [
      "\u001b[31m---------------------------------------------------------------------------\u001b[39m",
      "\u001b[31mValueError\u001b[39m                                Traceback (most recent call last)",
      "\u001b[36mCell\u001b[39m\u001b[36m \u001b[39m\u001b[32mIn[13]\u001b[39m\u001b[32m, line 1\u001b[39m\n\u001b[32m----> \u001b[39m\u001b[32m1\u001b[39m T = \u001b[38;5;28;43mint\u001b[39;49m\u001b[43m(\u001b[49m\u001b[38;5;28;43minput\u001b[39;49m\u001b[43m(\u001b[49m\u001b[43m)\u001b[49m\u001b[43m)\u001b[49m\n\u001b[32m      3\u001b[39m \u001b[38;5;28;01mfor\u001b[39;00m time \u001b[38;5;129;01min\u001b[39;00m \u001b[38;5;28mrange\u001b[39m(\u001b[32m1\u001b[39m, T+\u001b[32m1\u001b[39m):\n\u001b[32m      4\u001b[39m     N, K = \u001b[38;5;28mmap\u001b[39m(\u001b[38;5;28mint\u001b[39m, \u001b[38;5;28minput\u001b[39m().split())\n",
      "\u001b[31mValueError\u001b[39m: invalid literal for int() with base 10: ''"
     ]
    }
   ],
   "source": [
    "T = int(input())\n",
    "\n",
    "for time in range(1, T+1):\n",
    "    N, K = map(int, input().split())\n",
    "    arr = [list(map(int, input().split())) for _ in range(N)]\n",
    "    count = 0\n",
    "    for i in range(N):\n",
    "        r_total = 0\n",
    "        c_total = 0\n",
    "        for j in range(N):\n",
    "            if arr[i][j] == 1:\n",
    "                r_total += 1\n",
    "            else:\n",
    "                if r_total == K:\n",
    "                    count += 1\n",
    "                    r_total = 0\n",
    "                else:\n",
    "                    r_total = 0\n",
    "        if r_total == K:\n",
    "            count += 1\n",
    "        for j in range(N):\n",
    "            if arr[j][i] == 1:\n",
    "                c_total += 1\n",
    "            else:\n",
    "                if c_total == K:\n",
    "                    count += 1\n",
    "                else:\n",
    "                    c_total = 0\n",
    "        if c_total == K:\n",
    "            count += 1\n",
    "\n",
    "    print(f'#{time} {count}')\n",
    "\n"
   ]
  }
 ],
 "metadata": {
  "kernelspec": {
   "display_name": "Python 3",
   "language": "python",
   "name": "python3"
  },
  "language_info": {
   "codemirror_mode": {
    "name": "ipython",
    "version": 3
   },
   "file_extension": ".py",
   "mimetype": "text/x-python",
   "name": "python",
   "nbconvert_exporter": "python",
   "pygments_lexer": "ipython3",
   "version": "3.11.9"
  }
 },
 "nbformat": 4,
 "nbformat_minor": 5
}
