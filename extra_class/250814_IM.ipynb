{
 "cells": [
  {
   "cell_type": "markdown",
   "id": "cdea9f2e",
   "metadata": {},
   "source": [
    "## 보충 4일차"
   ]
  },
  {
   "cell_type": "markdown",
   "id": "fbf6a079",
   "metadata": {},
   "source": [
    "##### 우주괴물\n",
    "\n",
    "1. NxN개의 칸으로 나눠진 구역에 우주 괴물 한 마리가 침입했다. 괴물은 상하좌우로 광선을 발사하며, 벽에 막히지 않으면 광선은 계속 뻗어 나간다.   \n",
    "2. 괴물의 광선이 닿지 않는 안전한 빈 칸의 수를 구하라.  \n",
    "  \n",
    "![image.png](./img/monster.png)  \n",
    "  \n",
    "그림1. 안전한 칸이 9칸인 경우의 예  \n",
    "\n",
    "[입력]  \n",
    "1. 첫 줄에 테스트케이스 개수 T, 다음 줄부터 첫 줄에 N, 다음 줄부터 빈칸으로 구분된 N 칸의 정보가 N개의 줄에 걸쳐 제공된다. 각 칸은 0 (빈칸) 1(벽) 괴물(2) 중의 하나이다. (5<=N<=15)\n",
    "\n",
    "[출력]  \n",
    "1. '#'과 테스트케이스 번호, 빈칸에 이어 답을 출력한다."
   ]
  },
  {
   "cell_type": "code",
   "execution_count": null,
   "id": "6013cdaa",
   "metadata": {},
   "outputs": [],
   "source": [
    "T = int(input())\n",
    "\n",
    "for time in range(1, T+1):\n",
    "\n",
    "    N = int(input())\n",
    "    arr = [list(map(int, input().split())) for _ in range(N)]\n",
    "\n",
    "    dr = [0,0,-1,1]\n",
    "    dc = [-1,1,0,0]\n",
    "\n",
    "\n",
    "    count = 0\n",
    "    zero_count = 0\n",
    "    for i in range(N):\n",
    "        for j in range(N):\n",
    "            if arr[i][j] == 0:\n",
    "                zero_count += 1\n",
    "            if arr[i][j] == 2:\n",
    "                for x in range(4):\n",
    "                    for idx in range(1, N):\n",
    "                        r = i + dr[x] * idx\n",
    "                        c = j + dc[x] * idx\n",
    "\n",
    "                        if r < 0 or r >= N or c < 0 or c >= N:\n",
    "                            continue\n",
    "                        \n",
    "                        if arr[r][c] == 0:\n",
    "                            count += 1\n",
    "                        else:\n",
    "                            break\n",
    "\n",
    "    print(f'#{time} {zero_count - count}')"
   ]
  },
  {
   "cell_type": "markdown",
   "id": "3e76a5f2",
   "metadata": {},
   "source": [
    "##### 오목판정\n",
    "\n",
    "1. N X N 크기의 판이 있다. 판의 각 칸에는 돌이 있거나 없을 수 있다. 돌이 가로, 세로, 대각선 중 하나의 방향으로 다섯 개 이상 연속한 부분이 있는지 없는지 판정하는 프로그램을 작성하라.\n",
    "\n",
    "[입력]  \n",
    "1. 첫 번째 줄에 테스트 케이스의 수 T가 주어진다.\n",
    "2. 각 테스트 케이스의 첫 번째 줄에는 하나의 정수 N(5 ≤ N ≤ 20)이 주어진다.\n",
    "3. 다음 N개의 줄의 각 줄에는 길이 N인 문자열이 주어진다. 각 문자는 ‘o’또는 ‘.’으로, ‘o’는 돌이 있는 칸을 의미하고, ‘.’는 돌이 없는 칸을 의미한다.\n",
    "\n",
    "[출력]  \n",
    "1. 각 테스트 케이스 마다 돌이 다섯 개 이상 연속한 부분이 있으면 “YES”를, 아니면 “NO”를 출력한다."
   ]
  },
  {
   "cell_type": "code",
   "execution_count": null,
   "id": "b174b95b",
   "metadata": {},
   "outputs": [
    {
     "ename": "ValueError",
     "evalue": "invalid literal for int() with base 10: ''",
     "output_type": "error",
     "traceback": [
      "\u001b[1;31m---------------------------------------------------------------------------\u001b[0m\n",
      "\u001b[1;31mValueError\u001b[0m                                Traceback (most recent call last)\n",
      "Cell \u001b[1;32mIn[28], line 1\u001b[0m\n",
      "\u001b[1;32m----> 1\u001b[0m T \u001b[38;5;241m=\u001b[39m \u001b[38;5;28;43mint\u001b[39;49m\u001b[43m(\u001b[49m\u001b[38;5;28;43minput\u001b[39;49m\u001b[43m(\u001b[49m\u001b[43m)\u001b[49m\u001b[43m)\u001b[49m\n",
      "\u001b[0;32m      3\u001b[0m \u001b[38;5;28;01mfor\u001b[39;00m time \u001b[38;5;129;01min\u001b[39;00m \u001b[38;5;28mrange\u001b[39m(\u001b[38;5;241m1\u001b[39m, T\u001b[38;5;241m+\u001b[39m\u001b[38;5;241m1\u001b[39m):\n",
      "\u001b[0;32m      4\u001b[0m     N \u001b[38;5;241m=\u001b[39m \u001b[38;5;28mint\u001b[39m(\u001b[38;5;28minput\u001b[39m())\n",
      "\n",
      "\u001b[1;31mValueError\u001b[0m: invalid literal for int() with base 10: ''"
     ]
    }
   ],
   "source": [
    "T = int(input())\n",
    "\n",
    "for time in range(1, T+1):\n",
    "    N = int(input())\n",
    "    arr = [list(input()) for _ in range(N)] \n",
    "\n",
    "    o_total = 0\n",
    "\n",
    "    for i in range(N):\n",
    "        total = ''\n",
    "        for j in range(N):\n",
    "            if arr[i][j] == 'o':\n",
    "                total += arr[i][j]\n",
    "        if len(total) >= 5: \n",
    "            o_total += 1\n",
    "\n",
    "    for i in range(N):\n",
    "        total = ''\n",
    "        for j in range(N):\n",
    "            if arr[j][i] == 'o':\n",
    "                total += arr[j][i]\n",
    "        if len(total) >= 5: \n",
    "            o_total += 1\n",
    "\n",
    "    for i in range(N):\n",
    "        total = ''\n",
    "        for j in range(N):\n",
    "            if arr[i][i] == 'o':\n",
    "                total += arr[i][i]\n",
    "        if len(total) >= 5: \n",
    "            o_total += 1\n",
    "\n",
    "    for i in range(N):\n",
    "        total = ''\n",
    "        for j in range(N):\n",
    "            if arr[i][N-1-j] == 'o':\n",
    "                total += arr[i][N-1-i]\n",
    "        if len(total) >= 5: \n",
    "            o_total += 1\n",
    "    \n",
    "    if o_total > 0:\n",
    "        print(f'#{time} YES')\n",
    "    else:\n",
    "        print(f'#{time} NO')\n",
    "        "
   ]
  }
 ],
 "metadata": {
  "language_info": {
   "name": "python"
  }
 },
 "nbformat": 4,
 "nbformat_minor": 5
}
