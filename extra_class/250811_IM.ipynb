{
 "cells": [
  {
   "cell_type": "markdown",
   "id": "d99dc52d",
   "metadata": {},
   "source": [
    "## ⭐ 보충수업"
   ]
  },
  {
   "cell_type": "markdown",
   "id": "f4b63e1d",
   "metadata": {},
   "source": [
    "##### 연속한 1의 개수\n",
    "1. N개의 0과 1로 이루어진 수열에서 연속한 1의 개수 중 최대값을 출력하는 프로그램을 만드시오.\n",
    "\n",
    "[입력]  \n",
    "1. 첫 줄에 테스트케이스 개수 T, 다음 줄부터 테스트케이스별로 첫 줄에 수열의 길이 N, 다음 줄에 N개의 0과1로 구성된 수열이 공백없이 제공된다. 1<=T<=10, 10<=N<=1000\n",
    "  \n",
    "[출력]  \n",
    "1. '#'과 테스트케이스 번호, 빈칸에 이어 답을 출력한다."
   ]
  },
  {
   "cell_type": "code",
   "execution_count": null,
   "id": "69bb5f83",
   "metadata": {},
   "outputs": [],
   "source": [
    "T = int(input())\n",
    "\n",
    "\n",
    "for time in range(1, T+1):\n",
    "\n",
    "    N = int(input())\n",
    "    arr = list(map(int, input()))\n",
    "\n",
    "    count = 0\n",
    "    max_value = 0\n",
    "    for i in range(N):\n",
    "        if arr[i] == 1:\n",
    "            count += 1\n",
    "            if max_value < count:\n",
    "                max_value = count\n",
    "        else:\n",
    "            if max_value < count:\n",
    "                max_value = count\n",
    "            count = 0\n",
    "\n",
    "    print(f'#{time} {max_value}')"
   ]
  },
  {
   "cell_type": "markdown",
   "id": "12519d05",
   "metadata": {},
   "source": [
    "##### 동전 뒤집기\n",
    "\n",
    "1. 동전처럼 생긴 돌의 양면은 각각 흰색과 검은색으로 되어있고, 게임의 규칙은 다음과 같다.\n",
    "2. i번째 돌을 사이에 두고 마주보는 j개의 돌에 대해, 각각 같은 색이면 뒤집고, 다른 색이면 그대로 둔다.\n",
    "3. 주어진 돌을 벗어나는 경우 뒤집기는 중지된다.\n",
    "\n",
    "[입력]  \n",
    "1. 첫 줄에 게임의 개수 T, 다음 줄부터 게임별로 첫 줄에 돌의 수 N, 뒤집기 횟수 M, 다음 줄에 N개 돌의 초기상태, 이후 M개의 줄에 걸쳐 i, j가 주어진다.  \n",
    "(1<=T<=50, 3<=N<=20,   1<=M<=10, 1<=i, j<=N)  \n",
    "\n",
    "[출력]  \n",
    "1. '#'과 게임번호, 빈칸에 이어 빈칸으로 구분된 돌의 상태를 출력한다."
   ]
  },
  {
   "cell_type": "code",
   "execution_count": null,
   "id": "3f4843de",
   "metadata": {},
   "outputs": [],
   "source": [
    "T = int(input())\n",
    "\n",
    "for time in range(1, T+1):\n",
    "    N, M = map(int, input().split())\n",
    "    arr = list(map(int, input().split()))\n",
    "    for _ in range(M):\n",
    "        i, j = map(int, input().split())\n",
    "        for y in range(1, j+1):\n",
    "            a = (i-1)-y\n",
    "            b = (i-1)+y\n",
    "\n",
    "            if a < 0 or a >= N or b < 0 or b >= N:\n",
    "                continue\n",
    "\n",
    "            if arr[a] == 0 and arr[b] == 0:\n",
    "                arr[a], arr[b] = 1, 1\n",
    "            elif arr[a] == 1 and arr[b] == 1:\n",
    "                arr[a], arr[b] = 0, 0\n",
    "            elif arr[a] != arr[b]:\n",
    "                continue\n",
    "\n",
    "    print(f'#{time}', end=' ')\n",
    "    for row in arr:\n",
    "        print(row, end=' ')\n",
    "    print()"
   ]
  }
 ],
 "metadata": {
  "kernelspec": {
   "display_name": "Python 3",
   "language": "python",
   "name": "python3"
  },
  "language_info": {
   "name": "python",
   "version": "3.11.9"
  }
 },
 "nbformat": 4,
 "nbformat_minor": 5
}
