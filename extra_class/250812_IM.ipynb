{
 "cells": [
  {
   "cell_type": "markdown",
   "id": "55fab7b2",
   "metadata": {},
   "source": [
    "##### ✍️ 풍선팡 보너스\n",
    "\n",
    "1. 틈틈이 풍선게임을 하던 김싸피는 새로운 보너스 스테이지에 도달했다. 보너스 스테이지의 규칙은 다음과 같다.\n",
    "\n",
    "2. 숫자가 써진 풍선이 NxN 격자의 각 칸에 고정되어 있다.\n",
    "3. 어떤 풍선을 터트리면 같은 행과 열의 풍선이 모두 터진다.\n",
    "4. 예를 들어, <그림 1>과 같은 스테이지에서, <그림 2>처럼 2가 써진 풍선을 터트리면 같은 행과 열의 풍선이 모두 터지고, 이때 터진 풍선에 있던 숫자의 합은 8이다.\n",
    "\n",
    "![image.png](./img/pang.png)  \n",
    "\n",
    "5. 풍선을 잘 골라 터트리면 최대 점수를 얻을 수 있다. 보너스 스테이지가 주어지면 얻을 수 있는 최대 점수를 출력하라.\n",
    "\n",
    "[입력]  \n",
    "1. 첫 줄에 스테이지의 개수 T가 주어진다. 다음 줄부터 각 스테이지 별로, 첫 줄에 격자의 크기 N, 다음 줄부터 N개씩의 숫자가 N줄에 걸쳐 주어진다.\n",
    "(3 <= N <= 10, 1 <= Aij<= N)  \n",
    "\n",
    "[출력]  \n",
    "1. 각 스테이지 별로 한 줄에 '#'과 스테이지 번호, 빈칸과 최대 점수를 출력한다."
   ]
  },
  {
   "cell_type": "code",
   "execution_count": null,
   "id": "b39987d1",
   "metadata": {},
   "outputs": [],
   "source": [
    "T = int(input())\n",
    "\n",
    "for time in range(1, T+1):\n",
    "\n",
    "    N = int(input())\n",
    "    arr = [list(map(int, input().split())) for _ in range(N)]\n",
    "\n",
    "    dr = [0,0,-1,1]\n",
    "    dc = [-1,1,0,0]\n",
    "\n",
    "    max_value = 0\n",
    "    for i in range(N):\n",
    "        for j in range(N):\n",
    "            start = arr[i][j]\n",
    "            for x in range(4):\n",
    "                for idx in range(1, N):\n",
    "                    r = i + dr[x] * idx\n",
    "                    c = j + dc[x] * idx\n",
    "                \n",
    "                    if r < 0 or r >= N or c < 0 or c >= N:\n",
    "                        continue\n",
    "                        \n",
    "                    start += arr[r][c]\n",
    "            if max_value < start:\n",
    "                max_value = start\n",
    "       \n",
    "    print(f'#{time} {max_value}')"
   ]
  },
  {
   "cell_type": "markdown",
   "id": "36cf591d",
   "metadata": {},
   "source": [
    "##### ✍️ 스위치조작\n",
    "\n",
    "1. N개의 전등이 설치되어 있다. 각 전등은 1번부터 N번까지 번호가 붙어있고, i번 스위치를 조작하면 i번부터 N번까지의 전등의 켜짐/꺼짐 상태가 반대가 된다고 한다. \n",
    "2. 모든 전등의 현재 상태와 스위치 조작 후 상태가 주어지면 최소 몇 개의 스위치를 조작해야 하는지 알아내는 프로그램을 만드시오.\n",
    "\n",
    "3. 전등이 켜진 상태는 1, 꺼진 상태는 0으로 주어진다.\n",
    "4. 예를 들어 현재 상태 A가 0 0 0이고, 조작 후 상태 B가 0 1 0인 경우,\n",
    "\n",
    "5. 초기상태가  0 0 0 이므로,\n",
    "6. 2번 스위치를 조작해 0 1 1인 상태를 만들고,\n",
    "7. 3번 스위치를 조작해 0 1 0인 상태를 만들 수 있으므로, 최소 2번의 조작이 필요하다.\n",
    "\n",
    "[입력]  \n",
    "1. 첫 줄에 테스트케이스 개수 T, 다음 줄 부터 케이스 별로 스위치 개수 N, 다음 두 줄에 조작 전 스위치 상태 Ai와 조작 후 상태 Bi가 각각 N개씩 주어진다. (1<=T<=10, 1<=N<=100)  \n",
    "\n",
    "[출력]  \n",
    "1. '#'과 케이스번호, 빈칸으로 구분된 답을 출력한다."
   ]
  },
  {
   "cell_type": "code",
   "execution_count": 5,
   "id": "a91ff84e",
   "metadata": {},
   "outputs": [
    {
     "name": "stdout",
     "output_type": "stream",
     "text": [
      "#1 3\n"
     ]
    }
   ],
   "source": [
    "T = int(input())\n",
    "\n",
    "for time in range(1, T+1):\n",
    "    count = 0\n",
    "    N = int(input())\n",
    "    before = list(map(int, input().split()))\n",
    "    after = list(map(int, input().split()))\n",
    "    for i in range(N):\n",
    "        if before[i] != after[i]:\n",
    "            before[i] = after[i]\n",
    "            for x in range(i, N):\n",
    "                if before[x] == 0:\n",
    "                    before[x] = 1\n",
    "                else:\n",
    "                    before[x] = 0 \n",
    "            count += 1\n",
    "\n",
    "    print(f'#{time} {count}')\n"
   ]
  }
 ],
 "metadata": {
  "kernelspec": {
   "display_name": "Python 3",
   "language": "python",
   "name": "python3"
  },
  "language_info": {
   "codemirror_mode": {
    "name": "ipython",
    "version": 3
   },
   "file_extension": ".py",
   "mimetype": "text/x-python",
   "name": "python",
   "nbconvert_exporter": "python",
   "pygments_lexer": "ipython3",
   "version": "3.11.9"
  }
 },
 "nbformat": 4,
 "nbformat_minor": 5
}
