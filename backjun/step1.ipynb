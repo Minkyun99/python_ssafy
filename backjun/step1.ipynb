{
 "cells": [
  {
   "cell_type": "markdown",
   "id": "1e00ce1d",
   "metadata": {},
   "source": [
    "## ⭐Step1\n",
    "\n",
    "https://www.acmicpc.net/step/1"
   ]
  },
  {
   "cell_type": "code",
   "execution_count": 12,
   "id": "e27b87db",
   "metadata": {},
   "outputs": [
    {
     "name": "stdout",
     "output_type": "stream",
     "text": [
      "Hello World!\n"
     ]
    }
   ],
   "source": [
    "\n",
    "# 문제 1\n",
    "print(\"Hello World!\")\n",
    "    \n"
   ]
  },
  {
   "cell_type": "code",
   "execution_count": 37,
   "id": "c3b14f81",
   "metadata": {},
   "outputs": [
    {
     "name": "stdout",
     "output_type": "stream",
     "text": [
      "10\n",
      "4\n",
      "21\n",
      "2\n",
      "1\n"
     ]
    }
   ],
   "source": [
    "A, B = map(int, input().split())\n",
    "print(A+B)\n",
    "print(A-B)\n",
    "print(A*B)\n",
    "print(A//B)\n",
    "print(A%B)\n"
   ]
  },
  {
   "cell_type": "code",
   "execution_count": 3,
   "id": "cdd2806d",
   "metadata": {},
   "outputs": [
    {
     "name": "stdout",
     "output_type": "stream",
     "text": [
      "-4\n"
     ]
    }
   ],
   "source": [
    "A = int(input('정수를 입력하세요.'))\n",
    "B = int(input('정수를 입력하세요.'))\n",
    "\n",
    "print(A-B)"
   ]
  },
  {
   "cell_type": "code",
   "execution_count": null,
   "id": "3249e60f",
   "metadata": {},
   "outputs": [],
   "source": [
    "A, B = input().split()\n",
    "print(int(A)-int(B))"
   ]
  },
  {
   "cell_type": "code",
   "execution_count": 4,
   "id": "952bd77d",
   "metadata": {},
   "outputs": [
    {
     "name": "stdout",
     "output_type": "stream",
     "text": [
      "35\n"
     ]
    }
   ],
   "source": [
    "A = int(input('정수를 입력하세요.'))\n",
    "B = int(input('정수를 입력하세요.'))\n",
    "\n",
    "print(A*B)"
   ]
  },
  {
   "cell_type": "code",
   "execution_count": 5,
   "id": "a6785d28",
   "metadata": {},
   "outputs": [
    {
     "name": "stdout",
     "output_type": "stream",
     "text": [
      "0.7142857142857143\n"
     ]
    }
   ],
   "source": [
    "A = int(input('정수를 입력하세요.'))\n",
    "B = int(input('정수를 입력하세요.'))\n",
    "\n",
    "print(A/B)"
   ]
  },
  {
   "cell_type": "code",
   "execution_count": null,
   "id": "843d6e64",
   "metadata": {},
   "outputs": [
    {
     "name": "stdout",
     "output_type": "stream",
     "text": [
      "fdhal??!\n"
     ]
    }
   ],
   "source": [
    "# 10926번 문제\n",
    "\n",
    "id = input()\n",
    "\n",
    "print(id +'??!')"
   ]
  },
  {
   "cell_type": "code",
   "execution_count": 24,
   "id": "adf78303",
   "metadata": {},
   "outputs": [
    {
     "name": "stdout",
     "output_type": "stream",
     "text": [
      "2007\n"
     ]
    }
   ],
   "source": [
    "# 18108번 문제\n",
    "\n",
    "year = input()\n",
    "print(int(year) -543)"
   ]
  },
  {
   "cell_type": "code",
   "execution_count": null,
   "id": "365bf180",
   "metadata": {},
   "outputs": [
    {
     "name": "stdout",
     "output_type": "stream",
     "text": [
      "1\n",
      "1\n",
      "0\n",
      "0\n"
     ]
    }
   ],
   "source": [
    "# 10430번 문제\n",
    "\n",
    "A,B,C = map(int, input().split())\n",
    "print((A+B)%C)\n",
    "print(((A%C) + (B%C))%C)\n",
    "print((A*B)%C)\n",
    "print(((A%C) * (B%C))%C)"
   ]
  },
  {
   "cell_type": "code",
   "execution_count": 23,
   "id": "e6f19cf2",
   "metadata": {},
   "outputs": [
    {
     "name": "stdout",
     "output_type": "stream",
     "text": [
      "738\n",
      "615\n",
      "492\n",
      "56088\n"
     ]
    }
   ],
   "source": [
    "# 2588번 문제\n",
    "\n",
    "A = int(input())\n",
    "B = int(input())\n",
    "\n",
    "print(A*(B%10))\n",
    "print(A*((B%100)//10))\n",
    "print(A*(B//100))\n",
    "print(A*B)\n"
   ]
  },
  {
   "cell_type": "code",
   "execution_count": 4,
   "id": "02459289",
   "metadata": {},
   "outputs": [
    {
     "name": "stdout",
     "output_type": "stream",
     "text": [
      "7861\n"
     ]
    }
   ],
   "source": [
    "A, B, C = map(int, input().split())\n",
    "print(A + B + C)"
   ]
  },
  {
   "cell_type": "code",
   "execution_count": null,
   "id": "2d183078",
   "metadata": {},
   "outputs": [
    {
     "name": "stdout",
     "output_type": "stream",
     "text": [
      "\\      /\\\n",
      " )   ( ' )\n",
      "(   /   )\n",
      "\\(__)|\n"
     ]
    }
   ],
   "source": [
    "# 10171번\n",
    "\n",
    "print('\\    /\\\\')\n",
    "print(\" )  ( ')\")\n",
    "print('(  /  )')\n",
    "print(' \\(__)|')"
   ]
  },
  {
   "cell_type": "code",
   "execution_count": 16,
   "id": "c00c3c26",
   "metadata": {},
   "outputs": [
    {
     "name": "stdout",
     "output_type": "stream",
     "text": [
      "|\\_/|\n",
      "|q p|   /}\n",
      "( 0 )\"\"\"\\\n",
      "|\"^\"`    |\n",
      "||_/=\\\\__|\n"
     ]
    }
   ],
   "source": [
    "# 10172번\n",
    "\n",
    "print('|\\_/|')\n",
    "print('|q p|   /}')\n",
    "print('( 0 )\"\"\"\\\\')\n",
    "print('|\"^\"`    |')\n",
    "print('||_/=\\\\\\__|')"
   ]
  }
 ],
 "metadata": {
  "kernelspec": {
   "display_name": "Python 3",
   "language": "python",
   "name": "python3"
  },
  "language_info": {
   "codemirror_mode": {
    "name": "ipython",
    "version": 3
   },
   "file_extension": ".py",
   "mimetype": "text/x-python",
   "name": "python",
   "nbconvert_exporter": "python",
   "pygments_lexer": "ipython3",
   "version": "3.11.9"
  }
 },
 "nbformat": 4,
 "nbformat_minor": 5
}
